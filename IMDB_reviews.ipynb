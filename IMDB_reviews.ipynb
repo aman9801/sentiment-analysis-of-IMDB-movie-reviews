{
 "cells": [
  {
   "attachments": {},
   "cell_type": "markdown",
   "metadata": {},
   "source": [
    "# IMDB Reviews Classification"
   ]
  },
  {
   "attachments": {},
   "cell_type": "markdown",
   "metadata": {},
   "source": [
    "## Problem Statement"
   ]
  },
  {
   "attachments": {},
   "cell_type": "markdown",
   "metadata": {},
   "source": [
    "Analyzing the effects of Architecture, Number of neurons, and Batch size on a sentiment analysis problem.\n",
    "\n",
    "We'll be classifying if the review is positive or negative."
   ]
  },
  {
   "attachments": {},
   "cell_type": "markdown",
   "metadata": {},
   "source": [
    "The following is an extract of the article \"Python for NLP: Movie Sentiment Analysis using Deep Learning in Keras\" (available at: https://stackabuse.com/python-for-nlp-movie-sentiment-analysis-using-deep-learning-in-keras/)"
   ]
  },
  {
   "attachments": {},
   "cell_type": "markdown",
   "metadata": {},
   "source": [
    "## The Dataset\n",
    "The dataset that can be downloaded from this Kaggle link (https://www.kaggle.com/datasets/lakshmi25npathi/imdb-dataset-of-50k-movie-reviews).\n",
    "\n",
    "If you download the dataset and extract the compressed file, you will see a CSV file. The file contains 50,000 records and two columns: review and sentiment. The review column contains text for the review and the sentiment column contains sentiment for the review. The sentiment column can have two values i.e. \"positive\" and \"negative\" which makes our problem a binary classification problem."
   ]
  },
  {
   "attachments": {},
   "cell_type": "markdown",
   "metadata": {},
   "source": [
    "## Importing Required Libraries"
   ]
  },
  {
   "cell_type": "code",
   "execution_count": 249,
   "metadata": {},
   "outputs": [],
   "source": [
    "# The following script imports the required libraries:\n",
    "import pandas as pd\n",
    "import numpy as np\n",
    "import re\n",
    "import nltk\n",
    "from nltk.corpus import stopwords\n",
    "\n",
    "from numpy import array\n",
    "from keras.preprocessing.text import one_hot\n",
    "from keras_preprocessing.sequence import pad_sequences\n",
    "from keras.models import Sequential\n",
    "from keras.layers.core import Activation, Dropout, Dense\n",
    "from keras.layers import Flatten\n",
    "from keras.layers import GlobalMaxPooling1D\n",
    "from keras.layers import Embedding\n",
    "from sklearn.model_selection import train_test_split\n",
    "from keras.preprocessing.text import Tokenizer"
   ]
  },
  {
   "attachments": {},
   "cell_type": "markdown",
   "metadata": {},
   "source": [
    "## Importing and Analyzing the Dataset"
   ]
  },
  {
   "cell_type": "code",
   "execution_count": 250,
   "metadata": {},
   "outputs": [],
   "source": [
    "# Read csv\n",
    "movie_reviews = pd.read_csv(\"IMDB Dataset.csv\")"
   ]
  },
  {
   "cell_type": "code",
   "execution_count": 251,
   "metadata": {},
   "outputs": [
    {
     "data": {
      "text/plain": [
       "False"
      ]
     },
     "execution_count": 251,
     "metadata": {},
     "output_type": "execute_result"
    }
   ],
   "source": [
    "# Check if the dataset contains any NULL value or not\n",
    "movie_reviews.isnull().values.any()"
   ]
  },
  {
   "cell_type": "code",
   "execution_count": 252,
   "metadata": {},
   "outputs": [
    {
     "data": {
      "text/plain": [
       "(50000, 2)"
      ]
     },
     "execution_count": 252,
     "metadata": {},
     "output_type": "execute_result"
    }
   ],
   "source": [
    "# Shape of dataset\n",
    "movie_reviews.shape"
   ]
  },
  {
   "attachments": {},
   "cell_type": "markdown",
   "metadata": {},
   "source": [
    "Note: In the script above we use the read_csv() method of the pandas library to read the CSV file containing our dataset. In the next cell, we checked if the dataset contains any NULL value or not. Finally, we print the shape of our dataset.\n",
    "\n",
    "Let's now print the first 5 rows of the dataset using the head() method."
   ]
  },
  {
   "cell_type": "code",
   "execution_count": 253,
   "metadata": {},
   "outputs": [
    {
     "data": {
      "text/html": [
       "<div>\n",
       "<style scoped>\n",
       "    .dataframe tbody tr th:only-of-type {\n",
       "        vertical-align: middle;\n",
       "    }\n",
       "\n",
       "    .dataframe tbody tr th {\n",
       "        vertical-align: top;\n",
       "    }\n",
       "\n",
       "    .dataframe thead th {\n",
       "        text-align: right;\n",
       "    }\n",
       "</style>\n",
       "<table border=\"1\" class=\"dataframe\">\n",
       "  <thead>\n",
       "    <tr style=\"text-align: right;\">\n",
       "      <th></th>\n",
       "      <th>review</th>\n",
       "      <th>sentiment</th>\n",
       "    </tr>\n",
       "  </thead>\n",
       "  <tbody>\n",
       "    <tr>\n",
       "      <th>0</th>\n",
       "      <td>One of the other reviewers has mentioned that ...</td>\n",
       "      <td>positive</td>\n",
       "    </tr>\n",
       "    <tr>\n",
       "      <th>1</th>\n",
       "      <td>A wonderful little production. &lt;br /&gt;&lt;br /&gt;The...</td>\n",
       "      <td>positive</td>\n",
       "    </tr>\n",
       "    <tr>\n",
       "      <th>2</th>\n",
       "      <td>I thought this was a wonderful way to spend ti...</td>\n",
       "      <td>positive</td>\n",
       "    </tr>\n",
       "    <tr>\n",
       "      <th>3</th>\n",
       "      <td>Basically there's a family where a little boy ...</td>\n",
       "      <td>negative</td>\n",
       "    </tr>\n",
       "    <tr>\n",
       "      <th>4</th>\n",
       "      <td>Petter Mattei's \"Love in the Time of Money\" is...</td>\n",
       "      <td>positive</td>\n",
       "    </tr>\n",
       "  </tbody>\n",
       "</table>\n",
       "</div>"
      ],
      "text/plain": [
       "                                              review sentiment\n",
       "0  One of the other reviewers has mentioned that ...  positive\n",
       "1  A wonderful little production. <br /><br />The...  positive\n",
       "2  I thought this was a wonderful way to spend ti...  positive\n",
       "3  Basically there's a family where a little boy ...  negative\n",
       "4  Petter Mattei's \"Love in the Time of Money\" is...  positive"
      ]
     },
     "execution_count": 253,
     "metadata": {},
     "output_type": "execute_result"
    }
   ],
   "source": [
    "# Print first 5 rows\n",
    "movie_reviews.head()"
   ]
  },
  {
   "attachments": {},
   "cell_type": "markdown",
   "metadata": {},
   "source": [
    "Note: Let's now take a look at any one of the reviews so that we have an idea about the text that we are going to process. Look at the following script."
   ]
  },
  {
   "cell_type": "code",
   "execution_count": 254,
   "metadata": {},
   "outputs": [
    {
     "data": {
      "text/plain": [
       "\"Basically there's a family where a little boy (Jake) thinks there's a zombie in his closet & his parents are fighting all the time.<br /><br />This movie is slower than a soap opera... and suddenly, Jake decides to become Rambo and kill the zombie.<br /><br />OK, first of all when you're going to make a film you must Decide if its a thriller or a drama! As a drama the movie is watchable. Parents are divorcing & arguing like in real life. And then we have Jake with his closet which totally ruins all the film! I expected to see a BOOGEYMAN similar movie, and instead i watched a drama with some meaningless thriller spots.<br /><br />3 out of 10 just for the well playing parents & descent dialogs. As for the shots with Jake: just ignore them.\""
      ]
     },
     "execution_count": 254,
     "metadata": {},
     "output_type": "execute_result"
    }
   ],
   "source": [
    "# Print any review from the dataset\n",
    "movie_reviews[\"review\"][3]"
   ]
  },
  {
   "attachments": {},
   "cell_type": "markdown",
   "metadata": {},
   "source": [
    "Note: You can see that our text contains punctuations, brackets, and a few HTML tags as well. We will preprocess this text in the next section.\n",
    "\n",
    "Finally, let's see the distribution of positive and negative sentiments in our dataset."
   ]
  },
  {
   "cell_type": "code",
   "execution_count": 255,
   "metadata": {},
   "outputs": [
    {
     "data": {
      "text/plain": [
       "<AxesSubplot: xlabel='sentiment', ylabel='count'>"
      ]
     },
     "execution_count": 255,
     "metadata": {},
     "output_type": "execute_result"
    },
    {
     "data": {
      "image/png": "[encoded data removed]",
      "text/plain": [
       "<Figure size 640x480 with 1 Axes>"
      ]
     },
     "metadata": {},
     "output_type": "display_data"
    }
   ],
   "source": [
    "# Check the distribution of positive and negative sentiments in our dataset\n",
    "import seaborn as sns\n",
    "sns.countplot(x='sentiment', data=movie_reviews)"
   ]
  },
  {
   "attachments": {},
   "cell_type": "markdown",
   "metadata": {},
   "source": [
    "Note: From the output, it is clear that the dataset contains equal number of positive and negative reviews"
   ]
  },
  {
   "cell_type": "markdown",
   "metadata": {},
   "source": [
    "## Data Preprocessing"
   ]
  },
  {
   "attachments": {},
   "cell_type": "markdown",
   "metadata": {},
   "source": [
    "Note: We saw that our dataset contained punctuations and HTML tags. In this section we will define a function that takes a text string as a parameter and then performs preprocessing on the string to remove special characters and HTML tags from the string. Finally, the string is returned to the calling function. Look at the following script:"
   ]
  },
  {
   "cell_type": "code",
   "execution_count": 256,
   "metadata": {},
   "outputs": [],
   "source": [
    "# Define a function that takes a text string as a parameter and then performs preprocessing on the string \n",
    "# to remove special characters and HTML tags from the string\n",
    "def preprocess_text(sen):\n",
    "    # Removing html tags\n",
    "    sentence = remove_tags(sen)\n",
    "\n",
    "    # Remove punctuations and numbers\n",
    "    sentence = re.sub('[^a-zA-Z]', ' ', sentence)\n",
    "\n",
    "    # Single character removal\n",
    "    sentence = re.sub(r\"\\s+[a-zA-Z]\\s+\", ' ', sentence)\n",
    "\n",
    "    # Removing multiple spaces\n",
    "    sentence = re.sub(r'\\s+', ' ', sentence)\n",
    "\n",
    "    return sentence\n",
    "\n",
    "TAG_RE = re.compile(r'<[^>]+>')\n",
    "\n",
    "def remove_tags(text):\n",
    "    return TAG_RE.sub('', text)"
   ]
  },
  {
   "attachments": {},
   "cell_type": "markdown",
   "metadata": {},
   "source": [
    "Note: In the preprocess_text() method the first step is to remove the HTML tags. To remove the HTML tags, remove_tags() function has been defined. The remove_tags function simply replaces anything between opening and closing <> with an empty space.\n",
    "\n",
    "Next, in the preprocess_text function, everything is removed except capital and small English letters, which results in single characters that make no sense. For instance, when you remove apostrophe from the word \"Mark's\", the apostrophe is replaced by an empty space. Hence, we are left with single character \"s\".\n",
    "\n",
    "Next, we remove all the single characters and replace it by a space which creates multiple spaces in our text. Finally, we remove the multiple spaces from our text as well.\n",
    "\n",
    "Next, we will preprocess our reviews and will store them in a new list as shown below:"
   ]
  },
  {
   "cell_type": "code",
   "execution_count": 257,
   "metadata": {},
   "outputs": [],
   "source": [
    "# Applying the above function to the review column\n",
    "X = []\n",
    "sentences = list(movie_reviews['review'])\n",
    "for sen in sentences:\n",
    "    X.append(preprocess_text(sen))"
   ]
  },
  {
   "attachments": {},
   "cell_type": "markdown",
   "metadata": {},
   "source": [
    "Let's now again see the fourth review:"
   ]
  },
  {
   "cell_type": "code",
   "execution_count": 258,
   "metadata": {},
   "outputs": [
    {
     "data": {
      "text/plain": [
       "'Basically there a family where little boy Jake thinks there a zombie in his closet his parents are fighting all the time This movie is slower than soap opera and suddenly Jake decides to become Rambo and kill the zombie OK first of all when you re going to make film you must Decide if its thriller or drama As drama the movie is watchable Parents are divorcing arguing like in real life And then we have Jake with his closet which totally ruins all the film expected to see BOOGEYMAN similar movie and instead watched drama with some meaningless thriller spots out of just for the well playing parents descent dialogs As for the shots with Jake just ignore them '"
      ]
     },
     "execution_count": 258,
     "metadata": {},
     "output_type": "execute_result"
    }
   ],
   "source": [
    "# Print the same review\n",
    "X[3]"
   ]
  },
  {
   "attachments": {},
   "cell_type": "markdown",
   "metadata": {},
   "source": [
    "Note: From the output, you can see that the HTML tags, punctuations and numbers have been removed. We are only left with the alphabets.\n",
    "\n",
    "Next, we need to convert our labels into digits. Since we only have two labels in the output i.e. \"positive\" and \"negative\". We can simply convert them into integers by replacing \"positive\" with digit 1 and negative with digit 0 as shown below:"
   ]
  },
  {
   "cell_type": "code",
   "execution_count": 259,
   "metadata": {},
   "outputs": [],
   "source": [
    "y = movie_reviews['sentiment']\n",
    "\n",
    "y = np.array(list(map(lambda x: 1 if x==\"positive\" else 0, y)))"
   ]
  },
  {
   "cell_type": "markdown",
   "metadata": {},
   "source": [
    "## Splitting the dataset into train and test dataset"
   ]
  },
  {
   "attachments": {},
   "cell_type": "markdown",
   "metadata": {},
   "source": [
    "Finally, we need to divide our dataset into train and test sets. The train set will be used to train our deep learning models while the test set will be used to evaluate how well our model performs.\n",
    "We can use train_test_split method from the sklearn.model.selection module, as shown below:"
   ]
  },
  {
   "cell_type": "code",
   "execution_count": 260,
   "metadata": {},
   "outputs": [],
   "source": [
    "# Splitting the dataset\n",
    "X_train, X_test, y_train, y_test = train_test_split(X, y, test_size=0.20, random_state=42)"
   ]
  },
  {
   "attachments": {},
   "cell_type": "markdown",
   "metadata": {},
   "source": [
    "Note: The script above divides our data into 80% for the training set and 20% for the testing set.\n",
    "\n",
    "Let's now write the script for our embedding layer. The embedding layer converts our textual data into numeric data and is used as the first layer for the deep learning models in Keras."
   ]
  },
  {
   "cell_type": "markdown",
   "metadata": {},
   "source": [
    "## Preparing the Embedding Layer"
   ]
  },
  {
   "attachments": {},
   "cell_type": "markdown",
   "metadata": {},
   "source": [
    "Note: As a first step, we will use the Tokenizer class from the keras.preprocessing.text module to create a word-to-index dictionary. In the word-to-index dictionary, each word in the corpus is used as a key, while a corresponding unique index is used as the value for the key. Execute the following script:"
   ]
  },
  {
   "cell_type": "code",
   "execution_count": 261,
   "metadata": {},
   "outputs": [],
   "source": [
    "#  Creating tokenizer\n",
    "tokenizer = Tokenizer(num_words=5000)\n",
    "tokenizer.fit_on_texts(X_train)\n",
    "\n",
    "X_train = tokenizer.texts_to_sequences(X_train)\n",
    "X_test = tokenizer.texts_to_sequences(X_test)"
   ]
  },
  {
   "attachments": {},
   "cell_type": "markdown",
   "metadata": {},
   "source": [
    "Note: If you view the X_train variable in variable explorer, you will see that it contains 40,000 lists where each list contains integers. Each list actually corresponds to each sentence in the training set. You will also notice that the size of each list is different. This is because sentences have different lengths.\n",
    "\n",
    "We set the maximum size of each list to 100. You can try a different size. The lists with size greater than 100 will be truncated to 100. For the lists that have length less than 100, we will add 0 at the end of the list until it reaches the max length. This process is called padding.\n",
    "\n",
    "The following script finds the vocabulary size and then perform padding on both train and test set."
   ]
  },
  {
   "cell_type": "code",
   "execution_count": 262,
   "metadata": {},
   "outputs": [],
   "source": [
    "# Find the vocabulary size and then perform padding on both train and test set\n",
    "# Adding 1 because of reserved 0 index\n",
    "vocab_size = len(tokenizer.word_index) + 1\n",
    "\n",
    "maxlen = 100\n",
    "\n",
    "X_train = pad_sequences(X_train, padding='post', maxlen=maxlen)\n",
    "X_test = pad_sequences(X_test, padding='post', maxlen=maxlen)"
   ]
  },
  {
   "attachments": {},
   "cell_type": "markdown",
   "metadata": {},
   "source": [
    "Note: Now if you view the X_train or X_test, you will see that all the lists have same length i.e. 100. Also, the vocabulary_size variable now contains a value 92547 which means that our corpus has 92547 unique words.\n",
    "\n",
    "We will use GloVe embeddings to create our feature matrix. In the following script we load the GloVe word embeddings and create a dictionary that will contain words as keys and their corresponding embedding list as values.\n",
    "(glove.6B.100d.txt is available at https://www.kaggle.com/datasets/danielwillgeorge/glove6b100dtxt)"
   ]
  },
  {
   "cell_type": "code",
   "execution_count": 263,
   "metadata": {},
   "outputs": [],
   "source": [
    "# We will use GloVe embeddings to create our feature matrix\n",
    "from numpy import array\n",
    "from numpy import asarray\n",
    "from numpy import zeros\n",
    "\n",
    "embeddings_dictionary = dict()\n",
    "glove_file = open('glove.6B.100d.txt', encoding=\"utf8\")\n",
    "\n",
    "for line in glove_file:\n",
    "    records = line.split()\n",
    "    word = records[0]\n",
    "    vector_dimensions = asarray(records[1:], dtype='float32')\n",
    "    embeddings_dictionary [word] = vector_dimensions\n",
    "glove_file.close()"
   ]
  },
  {
   "attachments": {},
   "cell_type": "markdown",
   "metadata": {},
   "source": [
    "Note: Finally, we will create an embedding matrix where each row number will correspond to the index of the word in the corpus. The matrix will have 100 columns where each column will contain the GloVe word embeddings for the words in our corpus."
   ]
  },
  {
   "cell_type": "code",
   "execution_count": 264,
   "metadata": {},
   "outputs": [],
   "source": [
    "embedding_matrix = zeros((vocab_size, 100))\n",
    "for word, index in tokenizer.word_index.items():\n",
    "    embedding_vector = embeddings_dictionary.get(word)\n",
    "    if embedding_vector is not None:\n",
    "        embedding_matrix[index] = embedding_vector"
   ]
  },
  {
   "cell_type": "code",
   "execution_count": 265,
   "metadata": {},
   "outputs": [
    {
     "data": {
      "text/plain": [
       "(92547, 100)"
      ]
     },
     "execution_count": 265,
     "metadata": {},
     "output_type": "execute_result"
    }
   ],
   "source": [
    "# Embedding matrix shape\n",
    "embedding_matrix.shape"
   ]
  },
  {
   "attachments": {},
   "cell_type": "markdown",
   "metadata": {},
   "source": [
    "Note: Once you execute the above script, you will see that embedding_matrix will contain 92547 rows (one for each word in the corpus). Now we are ready to create our deep learning models."
   ]
  },
  {
   "attachments": {},
   "cell_type": "markdown",
   "metadata": {},
   "source": [
    "## We start building our DL Models from here"
   ]
  },
  {
   "attachments": {},
   "cell_type": "markdown",
   "metadata": {},
   "source": [
    "We will define a set of models all based on the same structure ( Embedding layer -> Recurring layer -> Dense layer -> Dense output layer ). All the hidden layers will utilize a ReLU activation function and will have a kernel initialized with a He normal initialization. The output layer will use a sigmoid function and will be initialized with a Glorot normal initialization."
   ]
  },
  {
   "cell_type": "code",
   "execution_count": 266,
   "metadata": {},
   "outputs": [],
   "source": [
    "# Importing the libraries\n",
    "from keras.callbacks import EarlyStopping, TensorBoard\n",
    "from keras.layers import Dense, LSTM, GRU\n",
    "import keras\n",
    "from numpy.random import seed\n",
    "\n",
    "seed(42)"
   ]
  },
  {
   "cell_type": "code",
   "execution_count": 267,
   "metadata": {},
   "outputs": [],
   "source": [
    "# Define a function that creates LSTM and GRU models\n",
    "def create_model(model_type, layer_size, learning_rate, embedding_layer):\n",
    "    # Create a sequential model\n",
    "    model = Sequential()\n",
    "\n",
    "    # Add an embedding layer\n",
    "    model.add(embedding_layer)\n",
    "\n",
    "    # Add an either LSTM or GRU layer based on model type\n",
    "    if model_type == 'LSTM':\n",
    "        model.add(LSTM(layer_size, activation='relu', kernel_initializer=keras.initializers.HeNormal()))\n",
    "    elif model_type == 'GRU':\n",
    "        model.add(GRU(layer_size, activation='relu', kernel_initializer=keras.initializers.HeNormal()))\n",
    "\n",
    "    # Add Dense Layer\n",
    "    model.add(Dense(layer_size, activation='relu', kernel_initializer=keras.initializers.HeNormal()))\n",
    "\n",
    "    # Add Dropout Layer\n",
    "    model.add(Dense(1, activation='sigmoid', kernel_initializer=keras.initializers.GlorotNormal()))\n",
    "\n",
    "    # Define the optimizer\n",
    "    opt = keras.optimizers.Adam(learning_rate=learning_rate)\n",
    "\n",
    "    # Compile the model\n",
    "    model.compile(loss='binary_crossentropy', optimizer=opt, metrics=['accuracy','AUC'])\n",
    "    \n",
    "    return model\n"
   ]
  },
  {
   "cell_type": "code",
   "execution_count": 268,
   "metadata": {},
   "outputs": [],
   "source": [
    "# Create embedding layer\n",
    "embedding_layer = Embedding(vocab_size, 100, weights=[embedding_matrix], input_length=maxlen , trainable=False)"
   ]
  },
  {
   "attachments": {},
   "cell_type": "markdown",
   "metadata": {},
   "source": [
    "#### Creating our Models"
   ]
  },
  {
   "attachments": {},
   "cell_type": "markdown",
   "metadata": {},
   "source": [
    "Models are created and named with the following pattern \"model_ {number of neurons in recursive and dense layer} _ {type of recursive layer used} _ {batch size that will be utilized during training}\""
   ]
  },
  {
   "cell_type": "code",
   "execution_count": 269,
   "metadata": {},
   "outputs": [
    {
     "name": "stdout",
     "output_type": "stream",
     "text": [
      "WARNING:tensorflow:Layer gru will not use cuDNN kernels since it doesn't meet the criteria. It will use a generic GPU kernel as fallback when running on GPU.\n",
      "WARNING:tensorflow:Layer gru_1 will not use cuDNN kernels since it doesn't meet the criteria. It will use a generic GPU kernel as fallback when running on GPU.\n",
      "WARNING:tensorflow:Layer gru_2 will not use cuDNN kernels since it doesn't meet the criteria. It will use a generic GPU kernel as fallback when running on GPU.\n",
      "WARNING:tensorflow:Layer gru_3 will not use cuDNN kernels since it doesn't meet the criteria. It will use a generic GPU kernel as fallback when running on GPU.\n",
      "WARNING:tensorflow:Layer gru_4 will not use cuDNN kernels since it doesn't meet the criteria. It will use a generic GPU kernel as fallback when running on GPU.\n",
      "WARNING:tensorflow:Layer gru_5 will not use cuDNN kernels since it doesn't meet the criteria. It will use a generic GPU kernel as fallback when running on GPU.\n",
      "WARNING:tensorflow:Layer gru_6 will not use cuDNN kernels since it doesn't meet the criteria. It will use a generic GPU kernel as fallback when running on GPU.\n",
      "WARNING:tensorflow:Layer gru_7 will not use cuDNN kernels since it doesn't meet the criteria. It will use a generic GPU kernel as fallback when running on GPU.\n",
      "WARNING:tensorflow:Layer gru_8 will not use cuDNN kernels since it doesn't meet the criteria. It will use a generic GPU kernel as fallback when running on GPU.\n",
      "WARNING:tensorflow:Layer lstm_13 will not use cuDNN kernels since it doesn't meet the criteria. It will use a generic GPU kernel as fallback when running on GPU.\n",
      "WARNING:tensorflow:Layer lstm_14 will not use cuDNN kernels since it doesn't meet the criteria. It will use a generic GPU kernel as fallback when running on GPU.\n",
      "WARNING:tensorflow:Layer lstm_15 will not use cuDNN kernels since it doesn't meet the criteria. It will use a generic GPU kernel as fallback when running on GPU.\n",
      "WARNING:tensorflow:Layer lstm_16 will not use cuDNN kernels since it doesn't meet the criteria. It will use a generic GPU kernel as fallback when running on GPU.\n",
      "WARNING:tensorflow:Layer lstm_17 will not use cuDNN kernels since it doesn't meet the criteria. It will use a generic GPU kernel as fallback when running on GPU.\n",
      "WARNING:tensorflow:Layer lstm_18 will not use cuDNN kernels since it doesn't meet the criteria. It will use a generic GPU kernel as fallback when running on GPU.\n",
      "WARNING:tensorflow:Layer lstm_19 will not use cuDNN kernels since it doesn't meet the criteria. It will use a generic GPU kernel as fallback when running on GPU.\n",
      "WARNING:tensorflow:Layer lstm_20 will not use cuDNN kernels since it doesn't meet the criteria. It will use a generic GPU kernel as fallback when running on GPU.\n",
      "WARNING:tensorflow:Layer lstm_21 will not use cuDNN kernels since it doesn't meet the criteria. It will use a generic GPU kernel as fallback when running on GPU.\n"
     ]
    }
   ],
   "source": [
    "# Naming our models\n",
    "# model_{layer size}_{model type}_{batch size}\n",
    "\n",
    "# Checking if our models exist in \"model\" folder \n",
    "# If yes, load them else create them\n",
    "import os\n",
    "if os.path.exists('models'):\n",
    "    # GRU Models\n",
    "    model_128_GRU_128 = keras.models.load_model('models/model_128_GRU_128')\n",
    "    model_128_GRU_64 = keras.models.load_model('models/model_128_GRU_64')\n",
    "    model_128_GRU_32 = keras.models.load_model('models/model_128_GRU_32')\n",
    "    model_64_GRU_128 = keras.models.load_model('models/model_64_GRU_128')\n",
    "    model_64_GRU_64 = keras.models.load_model('models/model_64_GRU_64')\n",
    "    model_64_GRU_32 = keras.models.load_model('models/model_64_GRU_32')\n",
    "    model_32_GRU_128 = keras.models.load_model('models/model_32_GRU_128')\n",
    "    model_32_GRU_64 = keras.models.load_model('models/model_32_GRU_64')\n",
    "    model_32_GRU_32 = keras.models.load_model('models/model_32_GRU_32')\n",
    "\n",
    "    # LSTM Models\n",
    "    model_128_LSTM_128 = keras.models.load_model('models/model_128_LSTM_128')\n",
    "    model_128_LSTM_64 = keras.models.load_model('models/model_128_LSTM_64')\n",
    "    model_128_LSTM_32 = keras.models.load_model('models/model_128_LSTM_32')\n",
    "    model_64_LSTM_128 = keras.models.load_model('models/model_64_LSTM_128')\n",
    "    model_64_LSTM_64 = keras.models.load_model('models/model_64_LSTM_64')\n",
    "    model_64_LSTM_32 = keras.models.load_model('models/model_64_LSTM_32')\n",
    "    model_32_LSTM_128 = keras.models.load_model('models/model_32_LSTM_128')\n",
    "    model_32_LSTM_64 = keras.models.load_model('models/model_32_LSTM_64')\n",
    "    model_32_LSTM_32 = keras.models.load_model('models/model_32_LSTM_32')\n",
    "else:\n",
    "    # Creating GRU Models using the function created above with\n",
    "    # First Parameter - Model type\n",
    "    # Second Parameter - Layer size\n",
    "    # Third Parameter - Learning rate\n",
    "    # Fourth Parameter - Embedding layer\n",
    "    model_128_GRU_128 = create_model('GRU', 128, 0.0001, embedding_layer)\n",
    "    model_128_GRU_64 = create_model('GRU', 128, 0.0001, embedding_layer)\n",
    "    model_128_GRU_32 = create_model('GRU', 128, 0.0001, embedding_layer)\n",
    "    model_64_GRU_128 = create_model('GRU', 64, 0.0001, embedding_layer)\n",
    "    model_64_GRU_64 = create_model('GRU', 64, 0.0001, embedding_layer)\n",
    "    model_64_GRU_32 = create_model('GRU', 64, 0.0001, embedding_layer)\n",
    "    model_32_GRU_128 = create_model('GRU', 32, 0.0001, embedding_layer)\n",
    "    model_32_GRU_64 = create_model('GRU', 32, 0.0001, embedding_layer)\n",
    "    model_32_GRU_32 = create_model('GRU', 32, 0.0001, embedding_layer)\n",
    "\n",
    "    # Creating LSTM Models using the function created above with\n",
    "    # First Parameter - Model type\n",
    "    # Second Parameter - Layer size\n",
    "    # Third Parameter - Learning rate\n",
    "    # Fourth Parameter - Embedding layer\n",
    "    model_128_LSTM_128 = create_model('LSTM', 128, 0.0001, embedding_layer)\n",
    "    model_128_LSTM_64 = create_model('LSTM', 128, 0.0001, embedding_layer)\n",
    "    model_128_LSTM_32 = create_model('LSTM', 128, 0.0001, embedding_layer)\n",
    "    model_64_LSTM_128 = create_model('LSTM', 64, 0.0001, embedding_layer)\n",
    "    model_64_LSTM_64 = create_model('LSTM', 64, 0.0001, embedding_layer)\n",
    "    model_64_LSTM_32= create_model('LSTM', 64, 0.0001, embedding_layer)\n",
    "    model_32_LSTM_128 = create_model('LSTM', 32, 0.0001, embedding_layer)\n",
    "    model_32_LSTM_64 = create_model('LSTM', 32, 0.0001, embedding_layer)\n",
    "    model_32_LSTM_32 = create_model('LSTM', 32, 0.0001, embedding_layer)"
   ]
  },
  {
   "cell_type": "markdown",
   "metadata": {},
   "source": [
    "#### Fitting our Models"
   ]
  },
  {
   "attachments": {},
   "cell_type": "markdown",
   "metadata": {},
   "source": [
    "Fitting the models is proven very computationally expensive (In an environment utilizing GPU it required almost 20 hours), for this reason we will save the models and their training history, and avoid the fitting process if the models are already present in the 'models' folder."
   ]
  },
  {
   "cell_type": "code",
   "execution_count": 270,
   "metadata": {},
   "outputs": [],
   "source": [
    "# Naming the histories\n",
    "# history_{layer size}_{model type}_{batch size}\n",
    "\n",
    "# Checking if histories exist in \"history\" folder \n",
    "# If yes, load them else create them\n",
    "\n",
    "import pickle\n",
    "if os.path.exists('histories'):\n",
    "    # GRU Histories\n",
    "    history_128_GRU_128 = pickle.load(open('histories/history_128_GRU_128', 'rb'))\n",
    "    history_128_GRU_64 = pickle.load(open('histories/history_128_GRU_64', 'rb'))\n",
    "    history_128_GRU_32 = pickle.load(open('histories/history_128_GRU_32', 'rb'))\n",
    "    history_64_GRU_128 = pickle.load(open('histories/history_64_GRU_128', 'rb'))\n",
    "    history_64_GRU_64 = pickle.load(open('histories/history_64_GRU_64', 'rb'))\n",
    "    history_64_GRU_32 = pickle.load(open('histories/history_64_GRU_32', 'rb'))\n",
    "    history_32_GRU_128 = pickle.load(open('histories/history_32_GRU_128', 'rb'))\n",
    "    history_32_GRU_64 = pickle.load(open('histories/history_32_GRU_64', 'rb'))\n",
    "    history_32_GRU_32 = pickle.load(open('histories/history_32_GRU_32', 'rb'))\n",
    "    \n",
    "    # LSTM Histories\n",
    "    history_128_LSTM_128 = pickle.load(open('histories/history_128_LSTM_128', 'rb'))\n",
    "    history_128_LSTM_64 = pickle.load(open('histories/history_128_LSTM_64', 'rb'))\n",
    "    history_128_LSTM_32 = pickle.load(open('histories/history_128_LSTM_32', 'rb'))\n",
    "    history_64_LSTM_128 = pickle.load(open('histories/history_64_LSTM_128', 'rb'))\n",
    "    history_64_LSTM_64 = pickle.load(open('histories/history_64_LSTM_64', 'rb'))\n",
    "    history_64_LSTM_32 = pickle.load(open('histories/history_64_LSTM_32', 'rb'))\n",
    "    history_32_LSTM_128 = pickle.load(open('histories/history_32_LSTM_128', 'rb'))\n",
    "    history_32_LSTM_64 = pickle.load(open('histories/history_32_LSTM_64', 'rb'))\n",
    "    history_32_LSTM_32 = pickle.load(open('histories/history_32_LSTM_32', 'rb'))\n",
    "else:\n",
    "    # Fitting GRU Models\n",
    "    history_128_GRU_128 = model_128_GRU_128.fit(X_train, y_train, epochs=100, verbose=1, validation_split=.2, batch_size=128)\n",
    "    history_128_GRU_64 = model_128_GRU_64.fit(X_train, y_train, epochs=100, verbose=1, validation_split=.2, batch_size=64)\n",
    "    history_128_GRU_32 = model_128_GRU_32.fit(X_train, y_train, epochs=100, verbose=1, validation_split=.2, batch_size=32)\n",
    "    history_64_GRU_128 = model_64_GRU_128.fit(X_train, y_train, epochs=100, verbose=1, validation_split=.2, batch_size=128)\n",
    "    history_64_GRU_64 = model_64_GRU_64.fit(X_train, y_train, epochs=100, verbose=1, validation_split=.2, batch_size=64)\n",
    "    history_64_GRU_32 = model_64_GRU_32.fit(X_train, y_train, epochs=100, verbose=1, validation_split=.2, batch_size=32)\n",
    "    history_32_GRU_128 = model_32_GRU_128.fit(X_train, y_train, epochs=100, verbose=1, validation_split=.2, batch_size=128)\n",
    "    history_32_GRU_64 = model_32_GRU_64.fit(X_train, y_train, epochs=100, verbose=1, validation_split=.2, batch_size=64)\n",
    "    history_32_GRU_32 = model_32_GRU_32.fit(X_train, y_train, epochs=100, verbose=1, validation_split=.2, batch_size=32)\n",
    "\n",
    "    # Fitting LSTM Models\n",
    "    history_128_LSTM_128 = model_128_LSTM_128.fit(X_train, y_train, epochs=100, verbose=1, validation_split=.2, batch_size=128)\n",
    "    history_128_LSTM_64 = model_128_LSTM_64.fit(X_train, y_train, epochs=100, verbose=1, validation_split=.2, batch_size=64)\n",
    "    history_128_LSTM_32 = model_128_LSTM_32.fit(X_train, y_train, epochs=100, verbose=1, validation_split=.2, batch_size=32)\n",
    "    history_64_LSTM_128 = model_64_LSTM_128.fit(X_train, y_train, epochs=100, verbose=1, validation_split=.2, batch_size=128)\n",
    "    history_64_LSTM_64 = model_64_LSTM_64.fit(X_train, y_train, epochs=100, verbose=1, validation_split=.2, batch_size=64)\n",
    "    history_64_LSTM_32 = model_64_LSTM_32.fit(X_train, y_train, epochs=100, verbose=1, validation_split=.2, batch_size=32)\n",
    "    history_32_LSTM_128 = model_32_LSTM_128.fit(X_train, y_train, epochs=100, verbose=1, validation_split=.2, batch_size=128)\n",
    "    history_32_LSTM_64 = model_32_LSTM_64.fit(X_train, y_train, epochs=100, verbose=1, validation_split=.2, batch_size=64)\n",
    "    history_32_LSTM_32 = model_32_LSTM_32.fit(X_train, y_train, epochs=100, verbose=1, validation_split=.2, batch_size=32)"
   ]
  },
  {
   "attachments": {},
   "cell_type": "markdown",
   "metadata": {},
   "source": [
    "#### Saving our Models and Histories"
   ]
  },
  {
   "cell_type": "code",
   "execution_count": 271,
   "metadata": {},
   "outputs": [
    {
     "name": "stdout",
     "output_type": "stream",
     "text": [
      "INFO:tensorflow:Assets written to: models/model_128_GRU_128\\assets\n",
      "INFO:tensorflow:Assets written to: models/model_128_GRU_64\\assets\n",
      "INFO:tensorflow:Assets written to: models/model_128_GRU_32\\assets\n",
      "INFO:tensorflow:Assets written to: models/model_64_GRU_128\\assets\n",
      "INFO:tensorflow:Assets written to: models/model_64_GRU_64\\assets\n",
      "INFO:tensorflow:Assets written to: models/model_64_GRU_32\\assets\n",
      "INFO:tensorflow:Assets written to: models/model_32_GRU_128\\assets\n",
      "INFO:tensorflow:Assets written to: models/model_32_GRU_64\\assets\n",
      "INFO:tensorflow:Assets written to: models/model_32_GRU_32\\assets\n",
      "INFO:tensorflow:Assets written to: models/model_128_LSTM_128\\assets\n",
      "INFO:tensorflow:Assets written to: models/model_128_LSTM_64\\assets\n",
      "INFO:tensorflow:Assets written to: models/model_128_LSTM_32\\assets\n",
      "INFO:tensorflow:Assets written to: models/model_64_LSTM_128\\assets\n",
      "INFO:tensorflow:Assets written to: models/model_64_LSTM_64\\assets\n",
      "INFO:tensorflow:Assets written to: models/model_64_LSTM_32\\assets\n",
      "INFO:tensorflow:Assets written to: models/model_32_LSTM_128\\assets\n",
      "INFO:tensorflow:Assets written to: models/model_32_LSTM_64\\assets\n",
      "INFO:tensorflow:Assets written to: models/model_32_LSTM_32\\assets\n"
     ]
    }
   ],
   "source": [
    "# Saving our models in \"model\" folder\n",
    "# GRU Models\n",
    "keras.models.save_model(model_128_GRU_128, \"models/model_128_GRU_128\", overwrite=True, include_optimizer=True)\n",
    "keras.models.save_model(model_128_GRU_64, \"models/model_128_GRU_64\", overwrite=True, include_optimizer=True)\n",
    "keras.models.save_model(model_128_GRU_32, \"models/model_128_GRU_32\", overwrite=True, include_optimizer=True)\n",
    "keras.models.save_model(model_64_GRU_128, \"models/model_64_GRU_128\", overwrite=True, include_optimizer=True)\n",
    "keras.models.save_model(model_64_GRU_64, \"models/model_64_GRU_64\", overwrite=True, include_optimizer=True)\n",
    "keras.models.save_model(model_64_GRU_32, \"models/model_64_GRU_32\", overwrite=True, include_optimizer=True)\n",
    "keras.models.save_model(model_32_GRU_128, \"models/model_32_GRU_128\", overwrite=True, include_optimizer=True)\n",
    "keras.models.save_model(model_32_GRU_64, \"models/model_32_GRU_64\", overwrite=True, include_optimizer=True)\n",
    "keras.models.save_model(model_32_GRU_32, \"models/model_32_GRU_32\", overwrite=True, include_optimizer=True)\n",
    "\n",
    "# LSTM Models\n",
    "keras.models.save_model(model_128_LSTM_128, \"models/model_128_LSTM_128\", overwrite=True, include_optimizer=True)\n",
    "keras.models.save_model(model_128_LSTM_64, \"models/model_128_LSTM_64\", overwrite=True, include_optimizer=True)\n",
    "keras.models.save_model(model_128_LSTM_32, \"models/model_128_LSTM_32\", overwrite=True, include_optimizer=True)\n",
    "keras.models.save_model(model_64_LSTM_128, \"models/model_64_LSTM_128\", overwrite=True, include_optimizer=True)\n",
    "keras.models.save_model(model_64_LSTM_64, \"models/model_64_LSTM_64\", overwrite=True, include_optimizer=True)\n",
    "keras.models.save_model(model_64_LSTM_32, \"models/model_64_LSTM_32\", overwrite=True, include_optimizer=True)\n",
    "keras.models.save_model(model_32_LSTM_128, \"models/model_32_LSTM_128\", overwrite=True, include_optimizer=True)\n",
    "keras.models.save_model(model_32_LSTM_64, \"models/model_32_LSTM_64\", overwrite=True, include_optimizer=True)\n",
    "keras.models.save_model(model_32_LSTM_32, \"models/model_32_LSTM_32\", overwrite=True, include_optimizer=True)"
   ]
  },
  {
   "cell_type": "code",
   "execution_count": 272,
   "metadata": {},
   "outputs": [],
   "source": [
    "# Creating a history list to simplifying the saving process of histories\n",
    "histories = [\n",
    "    (history_128_GRU_128, 'history_128_GRU_128'),\n",
    "    (history_128_GRU_64, 'history_128_GRU_64'),\n",
    "    (history_128_GRU_32, 'history_128_GRU_32'),\n",
    "    (history_64_GRU_128, 'history_64_GRU_128'),\n",
    "    (history_64_GRU_64, 'history_64_GRU_64'),\n",
    "    (history_64_GRU_32, 'history_64_GRU_32'),\n",
    "    (history_32_GRU_128, 'history_32_GRU_128'),\n",
    "    (history_32_GRU_64, 'history_32_GRU_64'),\n",
    "    (history_32_GRU_32, 'history_32_GRU_32'),\n",
    "    (history_128_LSTM_128, 'history_128_LSTM_128'),\n",
    "    (history_128_LSTM_64, 'history_128_LSTM_64'),\n",
    "    (history_128_LSTM_32, 'history_128_LSTM_32'),\n",
    "    (history_64_LSTM_128, 'history_64_LSTM_128'),\n",
    "    (history_64_LSTM_64, 'history_64_LSTM_64'),\n",
    "    (history_64_LSTM_32, 'history_64_LSTM_32'),\n",
    "    (history_32_LSTM_128, 'history_32_LSTM_128'),\n",
    "    (history_32_LSTM_64, 'history_32_LSTM_64'),\n",
    "    (history_32_LSTM_32, 'history_32_LSTM_32')\n",
    "]"
   ]
  },
  {
   "cell_type": "code",
   "execution_count": 273,
   "metadata": {},
   "outputs": [],
   "source": [
    "# Saving the histories\n",
    "for history in histories:\n",
    "    with open(f'histories/{history[1]}', 'wb') as file_pi:\n",
    "        if os.path.exists('histories'):\n",
    "            pickle.dump(history[0], file_pi)\n",
    "        else:\n",
    "            pickle.dump(history[0].history, file_pi)\n",
    "            history[0] = pickle.load(open(f'histories/{history[1]}', 'rb'))"
   ]
  },
  {
   "attachments": {},
   "cell_type": "markdown",
   "metadata": {},
   "source": [
    "#### Evaluating the results comparing loss and accuracy with different variables - layer_size, model_type, batch_size"
   ]
  },
  {
   "cell_type": "code",
   "execution_count": 274,
   "metadata": {},
   "outputs": [
    {
     "name": "stdout",
     "output_type": "stream",
     "text": [
      "313/313 [==============================] - 9s 28ms/step - loss: 0.4190 - accuracy: 0.8528 - auc: 0.9295\n",
      "313/313 [==============================] - 8s 26ms/step - loss: 0.7130 - accuracy: 0.8423 - auc: 0.9052\n",
      "313/313 [==============================] - 8s 25ms/step - loss: 1.3149 - accuracy: 0.8406 - auc: 0.8835\n",
      "313/313 [==============================] - 8s 26ms/step - loss: 0.3421 - accuracy: 0.8524 - auc: 0.9362\n",
      "313/313 [==============================] - 8s 25ms/step - loss: 0.3621 - accuracy: 0.8544 - auc: 0.9348\n",
      "313/313 [==============================] - 8s 26ms/step - loss: 0.4258 - accuracy: 0.8482 - auc: 0.9305\n",
      "313/313 [==============================] - 9s 27ms/step - loss: 0.3253 - accuracy: 0.8548 - auc: 0.9354\n",
      "313/313 [==============================] - 9s 29ms/step - loss: 0.3203 - accuracy: 0.8632 - auc: 0.9393\n",
      "313/313 [==============================] - 9s 29ms/step - loss: 0.3531 - accuracy: 0.8556 - auc: 0.9363\n",
      "313/313 [==============================] - 9s 26ms/step - loss: 0.6098 - accuracy: 0.6566 - auc: 0.7227\n",
      "313/313 [==============================] - 8s 26ms/step - loss: 58.6194 - accuracy: 0.7294 - auc: 0.7667\n",
      "313/313 [==============================] - 8s 23ms/step - loss: 366.4869 - accuracy: 0.6374 - auc: 0.6945\n",
      "313/313 [==============================] - 7s 22ms/step - loss: 0.5529 - accuracy: 0.7177 - auc: 0.7927\n",
      "313/313 [==============================] - 7s 22ms/step - loss: 578666.8750 - accuracy: 0.5050 - auc: 0.5067\n",
      "313/313 [==============================] - 8s 23ms/step - loss: 0.4959 - accuracy: 0.7569 - auc: 0.8393\n",
      "313/313 [==============================] - 8s 23ms/step - loss: nan - accuracy: 0.4961 - auc: 0.5000\n",
      "313/313 [==============================] - 7s 23ms/step - loss: 0.5797 - accuracy: 0.6881 - auc: 0.7649\n",
      "313/313 [==============================] - 7s 22ms/step - loss: 0.6456 - accuracy: 0.6815 - auc: 0.7805\n"
     ]
    },
    {
     "data": {
      "text/plain": [
       "[0.6456372737884521, 0.6815000176429749, 0.7804639935493469]"
      ]
     },
     "execution_count": 274,
     "metadata": {},
     "output_type": "execute_result"
    }
   ],
   "source": [
    "# Evaluating our models\n",
    "# GRU Models\n",
    "model_128_GRU_128.evaluate(X_test, y_test, verbose=1)\n",
    "model_128_GRU_64.evaluate(X_test, y_test, verbose=1)\n",
    "model_128_GRU_32.evaluate(X_test, y_test, verbose=1)\n",
    "model_64_GRU_128.evaluate(X_test, y_test, verbose=1)\n",
    "model_64_GRU_64.evaluate(X_test, y_test, verbose=1)\n",
    "model_64_GRU_32.evaluate(X_test, y_test, verbose=1)\n",
    "model_32_GRU_128.evaluate(X_test, y_test, verbose=1)\n",
    "model_32_GRU_64.evaluate(X_test, y_test, verbose=1)\n",
    "model_32_GRU_32.evaluate(X_test, y_test, verbose=1)\n",
    "\n",
    "# LSTM Models\n",
    "model_128_LSTM_128.evaluate(X_test, y_test, verbose=1)\n",
    "model_128_LSTM_64.evaluate(X_test, y_test, verbose=1)\n",
    "model_128_LSTM_32.evaluate(X_test, y_test, verbose=1)\n",
    "model_64_LSTM_128.evaluate(X_test, y_test, verbose=1)\n",
    "model_64_LSTM_64.evaluate(X_test, y_test, verbose=1)\n",
    "model_64_LSTM_32.evaluate(X_test, y_test, verbose=1)\n",
    "model_32_LSTM_128.evaluate(X_test, y_test, verbose=1)\n",
    "model_32_LSTM_64.evaluate(X_test, y_test, verbose=1)\n",
    "model_32_LSTM_32.evaluate(X_test, y_test, verbose=1)"
   ]
  },
  {
   "attachments": {},
   "cell_type": "markdown",
   "metadata": {},
   "source": [
    "From the models evaluation we can notice how GRU models outperform LSTMs in each case, as such we will focus our further analysis on the GRU models only. Just to highlight this difference we will plot the validation accuracy of all models.\n",
    "Note: we utlize the validation accuracy instead of the training accuracy to better represent the actual performance of the model. Also we display accuracy instead of loss as some models present spikes out of scale in the loss that would render the plot completely unreadable.  "
   ]
  },
  {
   "cell_type": "code",
   "execution_count": 281,
   "metadata": {},
   "outputs": [
    {
     "data": {
      "application/vnd.plotly.v1+json": {
       "config": {
        "plotlyServerURL": "https://plot.ly"
       },
       "data": [
        {
         "hovertemplate": "variable=wide_variable_0<br>x=%{x}<br>value=%{y}<extra></extra>",
         "legendgroup": "wide_variable_0",
         "line": {
          "color": "#636efa",
          "dash": "solid"
         },
         "marker": {
          "symbol": "circle"
         },
         "mode": "lines",
         "name": "history_128_GRU_128",
         "showlegend": true,
         "type": "scattergl",
         "x": [
          0,
          1,
          2,
          3,
          4,
          5,
          6,
          7,
          8,
          9,
          10,
          11,
          12,
          13,
          14,
          15,
          16,
          17,
          18,
          19,
          20,
          21,
          22,
          23,
          24,
          25,
          26,
          27,
          28,
          29,
          30,
          31,
          32,
          33,
          34,
          35,
          36,
          37,
          38,
          39,
          40,
          41,
          42,
          43,
          44,
          45,
          46,
          47,
          48,
          49,
          50,
          51,
          52,
          53,
          54,
          55,
          56,
          57,
          58,
          59,
          60,
          61,
          62,
          63,
          64,
          65,
          66,
          67,
          68,
          69,
          70,
          71,
          72,
          73,
          74,
          75,
          76,
          77,
          78,
          79,
          80,
          81,
          82,
          83,
          84,
          85,
          86,
          87,
          88,
          89,
          90,
          91,
          92,
          93,
          94,
          95,
          96,
          97,
          98,
          99
         ],
         "xaxis": "x",
         "y": [
          0.5977500081062317,
          0.7077500224113464,
          0.7643749713897705,
          0.7751250267028809,
          0.8062499761581421,
          0.8073750138282776,
          0.812125027179718,
          0.8238750100135803,
          0.8212500214576721,
          0.8274999856948853,
          0.8308749794960022,
          0.8343750238418579,
          0.8348749876022339,
          0.8376250267028809,
          0.8396250009536743,
          0.8412500023841858,
          0.843999981880188,
          0.8355000019073486,
          0.843500018119812,
          0.847000002861023,
          0.8306249976158142,
          0.8443750143051147,
          0.8463749885559082,
          0.843999981880188,
          0.8476250171661377,
          0.8527500033378601,
          0.8522499799728394,
          0.8504999876022339,
          0.8485000133514404,
          0.856124997138977,
          0.8550000190734863,
          0.8533750176429749,
          0.8573750257492065,
          0.856374979019165,
          0.8573750257492065,
          0.8547499775886536,
          0.8576250076293945,
          0.8553749918937683,
          0.8527500033378601,
          0.8552500009536743,
          0.8522499799728394,
          0.859000027179718,
          0.8568750023841858,
          0.8569999933242798,
          0.8543750047683716,
          0.8583750128746033,
          0.8604999780654907,
          0.859749972820282,
          0.8565000295639038,
          0.8575000166893005,
          0.8547499775886536,
          0.8618749976158142,
          0.862500011920929,
          0.8568750023841858,
          0.8493750095367432,
          0.8600000143051147,
          0.8585000038146973,
          0.859749972820282,
          0.8598750233650208,
          0.8629999756813049,
          0.8601250052452087,
          0.8567500114440918,
          0.8576250076293945,
          0.8543750047683716,
          0.8617500066757202,
          0.8603749871253967,
          0.8601250052452087,
          0.8511250019073486,
          0.8531249761581421,
          0.8503749966621399,
          0.8477500081062317,
          0.8601250052452087,
          0.8569999933242798,
          0.8583750128746033,
          0.859000027179718,
          0.8617500066757202,
          0.8565000295639038,
          0.8546249866485596,
          0.8588749766349792,
          0.8587499856948853,
          0.856124997138977,
          0.8618749976158142,
          0.8523749709129333,
          0.8611249923706055,
          0.859624981880188,
          0.8576250076293945,
          0.8547499775886536,
          0.8575000166893005,
          0.8610000014305115,
          0.8553749918937683,
          0.859499990940094,
          0.8602499961853027,
          0.859250009059906,
          0.8608750104904175,
          0.8581249713897705,
          0.8512499928474426,
          0.8385000228881836,
          0.8289999961853027,
          0.8582500219345093,
          0.8554999828338623
         ],
         "yaxis": "y"
        },
        {
         "hovertemplate": "variable=wide_variable_1<br>x=%{x}<br>value=%{y}<extra></extra>",
         "legendgroup": "wide_variable_1",
         "line": {
          "color": "#EF553B",
          "dash": "solid"
         },
         "marker": {
          "symbol": "circle"
         },
         "mode": "lines",
         "name": "history_128_GRU_64",
         "showlegend": true,
         "type": "scattergl",
         "x": [
          0,
          1,
          2,
          3,
          4,
          5,
          6,
          7,
          8,
          9,
          10,
          11,
          12,
          13,
          14,
          15,
          16,
          17,
          18,
          19,
          20,
          21,
          22,
          23,
          24,
          25,
          26,
          27,
          28,
          29,
          30,
          31,
          32,
          33,
          34,
          35,
          36,
          37,
          38,
          39,
          40,
          41,
          42,
          43,
          44,
          45,
          46,
          47,
          48,
          49,
          50,
          51,
          52,
          53,
          54,
          55,
          56,
          57,
          58,
          59,
          60,
          61,
          62,
          63,
          64,
          65,
          66,
          67,
          68,
          69,
          70,
          71,
          72,
          73,
          74,
          75,
          76,
          77,
          78,
          79,
          80,
          81,
          82,
          83,
          84,
          85,
          86,
          87,
          88,
          89,
          90,
          91,
          92,
          93,
          94,
          95,
          96,
          97,
          98,
          99
         ],
         "xaxis": "x",
         "y": [
          0.6237499713897705,
          0.7421249747276306,
          0.8013749718666077,
          0.8109999895095825,
          0.8118749856948853,
          0.8137500286102295,
          0.8286250233650208,
          0.8397499918937683,
          0.8411250114440918,
          0.8447499871253967,
          0.8408750295639038,
          0.8476250171661377,
          0.8427500128746033,
          0.8495000004768372,
          0.8479999899864197,
          0.8473749756813049,
          0.8533750176429749,
          0.8454999923706055,
          0.8557500243186951,
          0.8554999828338623,
          0.8428750038146973,
          0.8525000214576721,
          0.8414999842643738,
          0.859125018119812,
          0.8507500290870667,
          0.8557500243186951,
          0.846875011920929,
          0.8598750233650208,
          0.8583750128746033,
          0.8550000190734863,
          0.859375,
          0.8579999804496765,
          0.8443750143051147,
          0.8600000143051147,
          0.8573750257492065,
          0.8567500114440918,
          0.8588749766349792,
          0.859250009059906,
          0.8551250100135803,
          0.8496249914169312,
          0.8581249713897705,
          0.8573750257492065,
          0.859749972820282,
          0.859499990940094,
          0.8538749814033508,
          0.8588749766349792,
          0.8538749814033508,
          0.8575000166893005,
          0.8571249842643738,
          0.856249988079071,
          0.8581249713897705,
          0.8583750128746033,
          0.856249988079071,
          0.8554999828338623,
          0.8533750176429749,
          0.8548750281333923,
          0.8529999852180481,
          0.8577499985694885,
          0.8342499732971191,
          0.8504999876022339,
          0.8548750281333923,
          0.8132500052452087,
          0.8443750143051147,
          0.8558750152587891,
          0.8573750257492065,
          0.8558750152587891,
          0.8543750047683716,
          0.8565000295639038,
          0.8526250123977661,
          0.8476250171661377,
          0.8508750200271606,
          0.8511250019073486,
          0.8510000109672546,
          0.8450000286102295,
          0.8538749814033508,
          0.8487499952316284,
          0.8452500104904175,
          0.8513749837875366,
          0.8535000085830688,
          0.8512499928474426,
          0.8508750200271606,
          0.8518750071525574,
          0.8488749861717224,
          0.8508750200271606,
          0.8488749861717224,
          0.8491250276565552,
          0.846875011920929,
          0.8503749966621399,
          0.8492500185966492,
          0.8488749861717224,
          0.8472499847412109,
          0.8418750166893005,
          0.8479999899864197,
          0.846750020980835,
          0.8451250195503235,
          0.843999981880188,
          0.8460000157356262,
          0.8452500104904175,
          0.8460000157356262,
          0.8443750143051147
         ],
         "yaxis": "y"
        },
        {
         "hovertemplate": "variable=wide_variable_2<br>x=%{x}<br>value=%{y}<extra></extra>",
         "legendgroup": "wide_variable_2",
         "line": {
          "color": "#00cc96",
          "dash": "solid"
         },
         "marker": {
          "symbol": "circle"
         },
         "mode": "lines",
         "name": "history_128_GRU_32",
         "showlegend": true,
         "type": "scattergl",
         "x": [
          0,
          1,
          2,
          3,
          4,
          5,
          6,
          7,
          8,
          9,
          10,
          11,
          12,
          13,
          14,
          15,
          16,
          17,
          18,
          19,
          20,
          21,
          22,
          23,
          24,
          25,
          26,
          27,
          28,
          29,
          30,
          31,
          32,
          33,
          34,
          35,
          36,
          37,
          38,
          39,
          40,
          41,
          42,
          43,
          44,
          45,
          46,
          47,
          48,
          49,
          50,
          51,
          52,
          53,
          54,
          55,
          56,
          57,
          58,
          59,
          60,
          61,
          62,
          63,
          64,
          65,
          66,
          67,
          68,
          69,
          70,
          71,
          72,
          73,
          74,
          75,
          76,
          77,
          78,
          79,
          80,
          81,
          82,
          83,
          84,
          85,
          86,
          87,
          88,
          89,
          90,
          91,
          92,
          93,
          94,
          95,
          96,
          97,
          98,
          99
         ],
         "xaxis": "x",
         "y": [
          0.7371249794960022,
          0.7892500162124634,
          0.809374988079071,
          0.8271250128746033,
          0.8264999985694885,
          0.8388749957084656,
          0.8328750133514404,
          0.8428750038146973,
          0.8452500104904175,
          0.8464999794960022,
          0.8510000109672546,
          0.8523749709129333,
          0.8512499928474426,
          0.8553749918937683,
          0.8547499775886536,
          0.8578749895095825,
          0.8529999852180481,
          0.8526250123977661,
          0.8569999933242798,
          0.8598750233650208,
          0.8587499856948853,
          0.8613749742507935,
          0.8560000061988831,
          0.8546249866485596,
          0.859624981880188,
          0.8488749861717224,
          0.8629999756813049,
          0.859624981880188,
          0.862625002861023,
          0.8414999842643738,
          0.8612499833106995,
          0.8616250157356262,
          0.8573750257492065,
          0.8585000038146973,
          0.8578749895095825,
          0.8504999876022339,
          0.8537499904632568,
          0.8571249842643738,
          0.840749979019165,
          0.8579999804496765,
          0.8529999852180481,
          0.8456249833106995,
          0.8557500243186951,
          0.8446249961853027,
          0.8587499856948853,
          0.8397499918937683,
          0.8533750176429749,
          0.847000002861023,
          0.8541250228881836,
          0.8532500267028809,
          0.8546249866485596,
          0.8531249761581421,
          0.8519999980926514,
          0.8510000109672546,
          0.8458750247955322,
          0.8473749756813049,
          0.8511250019073486,
          0.8477500081062317,
          0.8454999923706055,
          0.8525000214576721,
          0.8447499871253967,
          0.8460000157356262,
          0.8492500185966492,
          0.846750020980835,
          0.8460000157356262,
          0.8478749990463257,
          0.8432499766349792,
          0.844124972820282,
          0.8442500233650208,
          0.846750020980835,
          0.8385000228881836,
          0.8463749885559082,
          0.8450000286102295,
          0.8401250243186951,
          0.8450000286102295,
          0.8422499895095825,
          0.843375027179718,
          0.8420000076293945,
          0.8443750143051147,
          0.8370000123977661,
          0.8420000076293945,
          0.8457499742507935,
          0.844124972820282,
          0.8426250219345093,
          0.843625009059906,
          0.8424999713897705,
          0.8452500104904175,
          0.8423749804496765,
          0.8429999947547913,
          0.8420000076293945,
          0.8451250195503235,
          0.8332499861717224,
          0.8421249985694885,
          0.8401250243186951,
          0.843625009059906,
          0.8424999713897705,
          0.8446249961853027,
          0.843999981880188,
          0.843874990940094,
          0.8428750038146973
         ],
         "yaxis": "y"
        },
        {
         "hovertemplate": "variable=wide_variable_3<br>x=%{x}<br>value=%{y}<extra></extra>",
         "legendgroup": "wide_variable_3",
         "line": {
          "color": "#ab63fa",
          "dash": "solid"
         },
         "marker": {
          "symbol": "circle"
         },
         "mode": "lines",
         "name": "history_64_GRU_128",
         "showlegend": true,
         "type": "scattergl",
         "x": [
          0,
          1,
          2,
          3,
          4,
          5,
          6,
          7,
          8,
          9,
          10,
          11,
          12,
          13,
          14,
          15,
          16,
          17,
          18,
          19,
          20,
          21,
          22,
          23,
          24,
          25,
          26,
          27,
          28,
          29,
          30,
          31,
          32,
          33,
          34,
          35,
          36,
          37,
          38,
          39,
          40,
          41,
          42,
          43,
          44,
          45,
          46,
          47,
          48,
          49,
          50,
          51,
          52,
          53,
          54,
          55,
          56,
          57,
          58,
          59,
          60,
          61,
          62,
          63,
          64,
          65,
          66,
          67,
          68,
          69,
          70,
          71,
          72,
          73,
          74,
          75,
          76,
          77,
          78,
          79,
          80,
          81,
          82,
          83,
          84,
          85,
          86,
          87,
          88,
          89,
          90,
          91,
          92,
          93,
          94,
          95,
          96,
          97,
          98,
          99
         ],
         "xaxis": "x",
         "y": [
          0.5732499957084656,
          0.6341249942779541,
          0.7202500104904175,
          0.7441250085830688,
          0.7558749914169312,
          0.7698749899864197,
          0.7737500071525574,
          0.7893750071525574,
          0.812250018119812,
          0.8138750195503235,
          0.8206250071525574,
          0.8230000138282776,
          0.8230000138282776,
          0.8247500061988831,
          0.8263750076293945,
          0.8273749947547913,
          0.825124979019165,
          0.8264999985694885,
          0.8352500200271606,
          0.8341249823570251,
          0.8339999914169312,
          0.8335000276565552,
          0.8323749899864197,
          0.8348749876022339,
          0.8383749723434448,
          0.8386250138282776,
          0.8381249904632568,
          0.8417500257492065,
          0.8399999737739563,
          0.8414999842643738,
          0.8391249775886536,
          0.8421249985694885,
          0.8463749885559082,
          0.8420000076293945,
          0.8466249704360962,
          0.8478749990463257,
          0.8466249704360962,
          0.8493750095367432,
          0.8452500104904175,
          0.8443750143051147,
          0.843999981880188,
          0.8479999899864197,
          0.8508750200271606,
          0.8504999876022339,
          0.8502500057220459,
          0.8432499766349792,
          0.8473749756813049,
          0.8477500081062317,
          0.8391249775886536,
          0.8479999899864197,
          0.8498749732971191,
          0.8487499952316284,
          0.8476250171661377,
          0.8504999876022339,
          0.8512499928474426,
          0.8501250147819519,
          0.8517500162124634,
          0.844124972820282,
          0.8521249890327454,
          0.8525000214576721,
          0.8522499799728394,
          0.8485000133514404,
          0.8511250019073486,
          0.8533750176429749,
          0.8511250019073486,
          0.8500000238418579,
          0.8529999852180481,
          0.8531249761581421,
          0.8514999747276306,
          0.8487499952316284,
          0.8514999747276306,
          0.8514999747276306,
          0.8544999957084656,
          0.8532500267028809,
          0.8510000109672546,
          0.8537499904632568,
          0.8548750281333923,
          0.8541250228881836,
          0.8551250100135803,
          0.8546249866485596,
          0.8463749885559082,
          0.8486250042915344,
          0.8502500057220459,
          0.8521249890327454,
          0.8552500009536743,
          0.846875011920929,
          0.8537499904632568,
          0.8491250276565552,
          0.8541250228881836,
          0.8539999723434448,
          0.8554999828338623,
          0.8531249761581421,
          0.8527500033378601,
          0.8488749861717224,
          0.8516250252723694,
          0.8495000004768372,
          0.8535000085830688,
          0.8538749814033508,
          0.8519999980926514,
          0.8543750047683716
         ],
         "yaxis": "y"
        },
        {
         "hovertemplate": "variable=wide_variable_4<br>x=%{x}<br>value=%{y}<extra></extra>",
         "legendgroup": "wide_variable_4",
         "line": {
          "color": "#FFA15A",
          "dash": "solid"
         },
         "marker": {
          "symbol": "circle"
         },
         "mode": "lines",
         "name": "history_64_GRU_64",
         "showlegend": true,
         "type": "scattergl",
         "x": [
          0,
          1,
          2,
          3,
          4,
          5,
          6,
          7,
          8,
          9,
          10,
          11,
          12,
          13,
          14,
          15,
          16,
          17,
          18,
          19,
          20,
          21,
          22,
          23,
          24,
          25,
          26,
          27,
          28,
          29,
          30,
          31,
          32,
          33,
          34,
          35,
          36,
          37,
          38,
          39,
          40,
          41,
          42,
          43,
          44,
          45,
          46,
          47,
          48,
          49,
          50,
          51,
          52,
          53,
          54,
          55,
          56,
          57,
          58,
          59,
          60,
          61,
          62,
          63,
          64,
          65,
          66,
          67,
          68,
          69,
          70,
          71,
          72,
          73,
          74,
          75,
          76,
          77,
          78,
          79,
          80,
          81,
          82,
          83,
          84,
          85,
          86,
          87,
          88,
          89,
          90,
          91,
          92,
          93,
          94,
          95,
          96,
          97,
          98,
          99
         ],
         "xaxis": "x",
         "y": [
          0.5945000052452087,
          0.7166249752044678,
          0.7778750061988831,
          0.7960000038146973,
          0.8109999895095825,
          0.8177499771118164,
          0.8162500262260437,
          0.8276249766349792,
          0.8163750171661377,
          0.8317499756813049,
          0.831375002861023,
          0.8343750238418579,
          0.8381249904632568,
          0.8388749957084656,
          0.8411250114440918,
          0.8411250114440918,
          0.8426250219345093,
          0.8443750143051147,
          0.8421249985694885,
          0.8423749804496765,
          0.8461250066757202,
          0.8462499976158142,
          0.8460000157356262,
          0.8476250171661377,
          0.8481249809265137,
          0.8431249856948853,
          0.8513749837875366,
          0.8507500290870667,
          0.8512499928474426,
          0.8516250252723694,
          0.8533750176429749,
          0.8526250123977661,
          0.8528749942779541,
          0.8519999980926514,
          0.856124997138977,
          0.8532500267028809,
          0.8537499904632568,
          0.8558750152587891,
          0.8551250100135803,
          0.8585000038146973,
          0.8557500243186951,
          0.859125018119812,
          0.8583750128746033,
          0.859375,
          0.859000027179718,
          0.8583750128746033,
          0.8582500219345093,
          0.8598750233650208,
          0.8569999933242798,
          0.8553749918937683,
          0.8567500114440918,
          0.8568750023841858,
          0.8578749895095825,
          0.8552500009536743,
          0.8575000166893005,
          0.8553749918937683,
          0.8566250205039978,
          0.8578749895095825,
          0.8576250076293945,
          0.8541250228881836,
          0.856249988079071,
          0.8544999957084656,
          0.8588749766349792,
          0.8581249713897705,
          0.8578749895095825,
          0.8579999804496765,
          0.8587499856948853,
          0.8552500009536743,
          0.8586249947547913,
          0.8560000061988831,
          0.859250009059906,
          0.8535000085830688,
          0.8586249947547913,
          0.856124997138977,
          0.8571249842643738,
          0.8573750257492065,
          0.8497499823570251,
          0.8546249866485596,
          0.8535000085830688,
          0.8550000190734863,
          0.8567500114440918,
          0.8547499775886536,
          0.8554999828338623,
          0.8551250100135803,
          0.8510000109672546,
          0.8527500033378601,
          0.8528749942779541,
          0.8553749918937683,
          0.8556249737739563,
          0.8547499775886536,
          0.856249988079071,
          0.8568750023841858,
          0.8546249866485596,
          0.8560000061988831,
          0.8551250100135803,
          0.8532500267028809,
          0.8525000214576721,
          0.8523749709129333,
          0.8502500057220459,
          0.8503749966621399
         ],
         "yaxis": "y"
        },
        {
         "hovertemplate": "variable=wide_variable_5<br>x=%{x}<br>value=%{y}<extra></extra>",
         "legendgroup": "wide_variable_5",
         "line": {
          "color": "#19d3f3",
          "dash": "solid"
         },
         "marker": {
          "symbol": "circle"
         },
         "mode": "lines",
         "name": "history_64_GRU_32",
         "showlegend": true,
         "type": "scattergl",
         "x": [
          0,
          1,
          2,
          3,
          4,
          5,
          6,
          7,
          8,
          9,
          10,
          11,
          12,
          13,
          14,
          15,
          16,
          17,
          18,
          19,
          20,
          21,
          22,
          23,
          24,
          25,
          26,
          27,
          28,
          29,
          30,
          31,
          32,
          33,
          34,
          35,
          36,
          37,
          38,
          39,
          40,
          41,
          42,
          43,
          44,
          45,
          46,
          47,
          48,
          49,
          50,
          51,
          52,
          53,
          54,
          55,
          56,
          57,
          58,
          59,
          60,
          61,
          62,
          63,
          64,
          65,
          66,
          67,
          68,
          69,
          70,
          71,
          72,
          73,
          74,
          75,
          76,
          77,
          78,
          79,
          80,
          81,
          82,
          83,
          84,
          85,
          86,
          87,
          88,
          89,
          90,
          91,
          92,
          93,
          94,
          95,
          96,
          97,
          98,
          99
         ],
         "xaxis": "x",
         "y": [
          0.609375,
          0.7362499833106995,
          0.7944999933242798,
          0.812375009059906,
          0.8263750076293945,
          0.8287500143051147,
          0.8299999833106995,
          0.8234999775886536,
          0.8416249752044678,
          0.843874990940094,
          0.8462499976158142,
          0.8448749780654907,
          0.8391249775886536,
          0.8483750224113464,
          0.8426250219345093,
          0.843625009059906,
          0.8526250123977661,
          0.8556249737739563,
          0.8528749942779541,
          0.8560000061988831,
          0.8572499752044678,
          0.8582500219345093,
          0.8506249785423279,
          0.8536249995231628,
          0.8558750152587891,
          0.859125018119812,
          0.8602499961853027,
          0.8602499961853027,
          0.8606250286102295,
          0.8588749766349792,
          0.8618749976158142,
          0.859250009059906,
          0.859250009059906,
          0.8618749976158142,
          0.8622499704360962,
          0.8616250157356262,
          0.8632500171661377,
          0.8579999804496765,
          0.8579999804496765,
          0.8432499766349792,
          0.8573750257492065,
          0.8608750104904175,
          0.8547499775886536,
          0.8619999885559082,
          0.862375020980835,
          0.859250009059906,
          0.8514999747276306,
          0.8585000038146973,
          0.859749972820282,
          0.8617500066757202,
          0.8588749766349792,
          0.8548750281333923,
          0.862375020980835,
          0.8568750023841858,
          0.8518750071525574,
          0.859499990940094,
          0.8615000247955322,
          0.8618749976158142,
          0.862625002861023,
          0.8551250100135803,
          0.8573750257492065,
          0.8583750128746033,
          0.8538749814033508,
          0.8585000038146973,
          0.8385000228881836,
          0.859749972820282,
          0.8547499775886536,
          0.8598750233650208,
          0.8581249713897705,
          0.8511250019073486,
          0.8456249833106995,
          0.8565000295639038,
          0.8557500243186951,
          0.8537499904632568,
          0.8506249785423279,
          0.8582500219345093,
          0.8550000190734863,
          0.8535000085830688,
          0.8571249842643738,
          0.8519999980926514,
          0.8472499847412109,
          0.8450000286102295,
          0.8426250219345093,
          0.8558750152587891,
          0.8531249761581421,
          0.8503749966621399,
          0.8522499799728394,
          0.8513749837875366,
          0.8514999747276306,
          0.8495000004768372,
          0.8489999771118164,
          0.8528749942779541,
          0.8498749732971191,
          0.8503749966621399,
          0.8513749837875366,
          0.8462499976158142,
          0.8477500081062317,
          0.8478749990463257,
          0.8422499895095825,
          0.8458750247955322
         ],
         "yaxis": "y"
        },
        {
         "hovertemplate": "variable=wide_variable_6<br>x=%{x}<br>value=%{y}<extra></extra>",
         "legendgroup": "wide_variable_6",
         "line": {
          "color": "#FF6692",
          "dash": "solid"
         },
         "marker": {
          "symbol": "circle"
         },
         "mode": "lines",
         "name": "history_32_GRU_128",
         "showlegend": true,
         "type": "scattergl",
         "x": [
          0,
          1,
          2,
          3,
          4,
          5,
          6,
          7,
          8,
          9,
          10,
          11,
          12,
          13,
          14,
          15,
          16,
          17,
          18,
          19,
          20,
          21,
          22,
          23,
          24,
          25,
          26,
          27,
          28,
          29,
          30,
          31,
          32,
          33,
          34,
          35,
          36,
          37,
          38,
          39,
          40,
          41,
          42,
          43,
          44,
          45,
          46,
          47,
          48,
          49,
          50,
          51,
          52,
          53,
          54,
          55,
          56,
          57,
          58,
          59,
          60,
          61,
          62,
          63,
          64,
          65,
          66,
          67,
          68,
          69,
          70,
          71,
          72,
          73,
          74,
          75,
          76,
          77,
          78,
          79,
          80,
          81,
          82,
          83,
          84,
          85,
          86,
          87,
          88,
          89,
          90,
          91,
          92,
          93,
          94,
          95,
          96,
          97,
          98,
          99
         ],
         "xaxis": "x",
         "y": [
          0.5443750023841858,
          0.5734999775886536,
          0.6025000214576721,
          0.672124981880188,
          0.7363749742507935,
          0.7472500205039978,
          0.7616249918937683,
          0.7697499990463257,
          0.7825000286102295,
          0.7979999780654907,
          0.8068749904632568,
          0.8118749856948853,
          0.815625011920929,
          0.8149999976158142,
          0.8162500262260437,
          0.8197500109672546,
          0.8199999928474426,
          0.8238750100135803,
          0.8238750100135803,
          0.8256250023841858,
          0.8273749947547913,
          0.8317499756813049,
          0.8317499756813049,
          0.8331249952316284,
          0.8328750133514404,
          0.8364999890327454,
          0.8370000123977661,
          0.8358749747276306,
          0.8399999737739563,
          0.8392500281333923,
          0.8414999842643738,
          0.8422499895095825,
          0.8431249856948853,
          0.8460000157356262,
          0.8464999794960022,
          0.8443750143051147,
          0.8481249809265137,
          0.844124972820282,
          0.8486250042915344,
          0.8498749732971191,
          0.8456249833106995,
          0.8482499718666077,
          0.8416249752044678,
          0.8511250019073486,
          0.8497499823570251,
          0.8535000085830688,
          0.8485000133514404,
          0.8451250195503235,
          0.8517500162124634,
          0.8533750176429749,
          0.8511250019073486,
          0.8535000085830688,
          0.8512499928474426,
          0.8541250228881836,
          0.8537499904632568,
          0.8548750281333923,
          0.856124997138977,
          0.8471249938011169,
          0.8554999828338623,
          0.8537499904632568,
          0.8528749942779541,
          0.8529999852180481,
          0.8566250205039978,
          0.8579999804496765,
          0.8548750281333923,
          0.8575000166893005,
          0.856249988079071,
          0.8579999804496765,
          0.8519999980926514,
          0.8531249761581421,
          0.8492500185966492,
          0.8585000038146973,
          0.8579999804496765,
          0.859125018119812,
          0.8587499856948853,
          0.8554999828338623,
          0.856124997138977,
          0.859375,
          0.8576250076293945,
          0.8582500219345093,
          0.8575000166893005,
          0.8586249947547913,
          0.859624981880188,
          0.8600000143051147,
          0.8548750281333923,
          0.859250009059906,
          0.859250009059906,
          0.8560000061988831,
          0.859000027179718,
          0.8566250205039978,
          0.8528749942779541,
          0.8514999747276306,
          0.8582500219345093,
          0.8544999957084656,
          0.8578749895095825,
          0.8586249947547913,
          0.859624981880188,
          0.859000027179718,
          0.8551250100135803,
          0.8601250052452087
         ],
         "yaxis": "y"
        },
        {
         "hovertemplate": "variable=wide_variable_7<br>x=%{x}<br>value=%{y}<extra></extra>",
         "legendgroup": "wide_variable_7",
         "line": {
          "color": "#B6E880",
          "dash": "solid"
         },
         "marker": {
          "symbol": "circle"
         },
         "mode": "lines",
         "name": "history_32_GRU_64",
         "showlegend": true,
         "type": "scattergl",
         "x": [
          0,
          1,
          2,
          3,
          4,
          5,
          6,
          7,
          8,
          9,
          10,
          11,
          12,
          13,
          14,
          15,
          16,
          17,
          18,
          19,
          20,
          21,
          22,
          23,
          24,
          25,
          26,
          27,
          28,
          29,
          30,
          31,
          32,
          33,
          34,
          35,
          36,
          37,
          38,
          39,
          40,
          41,
          42,
          43,
          44,
          45,
          46,
          47,
          48,
          49,
          50,
          51,
          52,
          53,
          54,
          55,
          56,
          57,
          58,
          59,
          60,
          61,
          62,
          63,
          64,
          65,
          66,
          67,
          68,
          69,
          70,
          71,
          72,
          73,
          74,
          75,
          76,
          77,
          78,
          79,
          80,
          81,
          82,
          83,
          84,
          85,
          86,
          87,
          88,
          89,
          90,
          91,
          92,
          93,
          94,
          95,
          96,
          97,
          98,
          99
         ],
         "xaxis": "x",
         "y": [
          0.5573750138282776,
          0.5947499871253967,
          0.6411250233650208,
          0.7567499876022339,
          0.7801250219345093,
          0.7978749871253967,
          0.8056250214576721,
          0.8140000104904175,
          0.8182500004768372,
          0.8215000033378601,
          0.8259999752044678,
          0.8218749761581421,
          0.8314999938011169,
          0.827875018119812,
          0.8352500200271606,
          0.8367499709129333,
          0.8378750085830688,
          0.8392500281333923,
          0.8398749828338623,
          0.8401250243186951,
          0.843375027179718,
          0.840624988079071,
          0.8411250114440918,
          0.8422499895095825,
          0.8423749804496765,
          0.8420000076293945,
          0.8452500104904175,
          0.843625009059906,
          0.8456249833106995,
          0.8461250066757202,
          0.846750020980835,
          0.8471249938011169,
          0.8476250171661377,
          0.84375,
          0.8445000052452087,
          0.8489999771118164,
          0.8516250252723694,
          0.8485000133514404,
          0.8518750071525574,
          0.8517500162124634,
          0.8498749732971191,
          0.8526250123977661,
          0.8528749942779541,
          0.8527500033378601,
          0.8511250019073486,
          0.8535000085830688,
          0.8532500267028809,
          0.8542500138282776,
          0.8551250100135803,
          0.8547499775886536,
          0.8512499928474426,
          0.8537499904632568,
          0.8573750257492065,
          0.856249988079071,
          0.8426250219345093,
          0.8535000085830688,
          0.8445000052452087,
          0.8546249866485596,
          0.8517500162124634,
          0.8489999771118164,
          0.8553749918937683,
          0.856249988079071,
          0.8519999980926514,
          0.8572499752044678,
          0.8560000061988831,
          0.8575000166893005,
          0.8521249890327454,
          0.8581249713897705,
          0.8586249947547913,
          0.8558750152587891,
          0.8566250205039978,
          0.8578749895095825,
          0.859499990940094,
          0.8554999828338623,
          0.8517500162124634,
          0.8577499985694885,
          0.8587499856948853,
          0.856249988079071,
          0.8579999804496765,
          0.8583750128746033,
          0.8560000061988831,
          0.859000027179718,
          0.859000027179718,
          0.8579999804496765,
          0.8516250252723694,
          0.8483750224113464,
          0.859375,
          0.8588749766349792,
          0.8576250076293945,
          0.859375,
          0.8602499961853027,
          0.8558750152587891,
          0.8587499856948853,
          0.8602499961853027,
          0.8581249713897705,
          0.856124997138977,
          0.8514999747276306,
          0.8602499961853027,
          0.8582500219345093,
          0.8602499961853027
         ],
         "yaxis": "y"
        },
        {
         "hovertemplate": "variable=wide_variable_8<br>x=%{x}<br>value=%{y}<extra></extra>",
         "legendgroup": "wide_variable_8",
         "line": {
          "color": "#FF97FF",
          "dash": "solid"
         },
         "marker": {
          "symbol": "circle"
         },
         "mode": "lines",
         "name": "history_32_GRU_32",
         "showlegend": true,
         "type": "scattergl",
         "x": [
          0,
          1,
          2,
          3,
          4,
          5,
          6,
          7,
          8,
          9,
          10,
          11,
          12,
          13,
          14,
          15,
          16,
          17,
          18,
          19,
          20,
          21,
          22,
          23,
          24,
          25,
          26,
          27,
          28,
          29,
          30,
          31,
          32,
          33,
          34,
          35,
          36,
          37,
          38,
          39,
          40,
          41,
          42,
          43,
          44,
          45,
          46,
          47,
          48,
          49,
          50,
          51,
          52,
          53,
          54,
          55,
          56,
          57,
          58,
          59,
          60,
          61,
          62,
          63,
          64,
          65,
          66,
          67,
          68,
          69,
          70,
          71,
          72,
          73,
          74,
          75,
          76,
          77,
          78,
          79,
          80,
          81,
          82,
          83,
          84,
          85,
          86,
          87,
          88,
          89,
          90,
          91,
          92,
          93,
          94,
          95,
          96,
          97,
          98,
          99
         ],
         "xaxis": "x",
         "y": [
          0.5921249985694885,
          0.7168750166893005,
          0.7683749794960022,
          0.7923750281333923,
          0.8027499914169312,
          0.812874972820282,
          0.8196250200271606,
          0.8245000243186951,
          0.8271250128746033,
          0.8299999833106995,
          0.8308749794960022,
          0.8360000252723694,
          0.8364999890327454,
          0.8364999890327454,
          0.8378750085830688,
          0.8327500224113464,
          0.840749979019165,
          0.8387500047683716,
          0.8401250243186951,
          0.8377500176429749,
          0.8431249856948853,
          0.8453750014305115,
          0.8457499742507935,
          0.843625009059906,
          0.8451250195503235,
          0.843375027179718,
          0.8451250195503235,
          0.8417500257492065,
          0.8479999899864197,
          0.8481249809265137,
          0.8498749732971191,
          0.8529999852180481,
          0.8485000133514404,
          0.8489999771118164,
          0.8508750200271606,
          0.8512499928474426,
          0.8539999723434448,
          0.8527500033378601,
          0.8518750071525574,
          0.8533750176429749,
          0.8558750152587891,
          0.8557500243186951,
          0.8522499799728394,
          0.8526250123977661,
          0.8526250123977661,
          0.8493750095367432,
          0.8548750281333923,
          0.856124997138977,
          0.8546249866485596,
          0.8575000166893005,
          0.8577499985694885,
          0.8586249947547913,
          0.8569999933242798,
          0.8582500219345093,
          0.8571249842643738,
          0.8542500138282776,
          0.8581249713897705,
          0.8582500219345093,
          0.8531249761581421,
          0.859749972820282,
          0.8577499985694885,
          0.8541250228881836,
          0.859000027179718,
          0.8536249995231628,
          0.8581249713897705,
          0.8501250147819519,
          0.8489999771118164,
          0.8576250076293945,
          0.859624981880188,
          0.8571249842643738,
          0.8569999933242798,
          0.8541250228881836,
          0.8560000061988831,
          0.8575000166893005,
          0.859000027179718,
          0.859499990940094,
          0.8587499856948853,
          0.8583750128746033,
          0.8581249713897705,
          0.8575000166893005,
          0.8514999747276306,
          0.8587499856948853,
          0.8571249842643738,
          0.8585000038146973,
          0.8557500243186951,
          0.8542500138282776,
          0.8568750023841858,
          0.8566250205039978,
          0.8567500114440918,
          0.8551250100135803,
          0.8553749918937683,
          0.8579999804496765,
          0.8571249842643738,
          0.8566250205039978,
          0.8585000038146973,
          0.8588749766349792,
          0.8586249947547913,
          0.8575000166893005,
          0.8518750071525574,
          0.8518750071525574
         ],
         "yaxis": "y"
        },
        {
         "hovertemplate": "variable=wide_variable_9<br>x=%{x}<br>value=%{y}<extra></extra>",
         "legendgroup": "wide_variable_9",
         "line": {
          "color": "#FECB52",
          "dash": "solid"
         },
         "marker": {
          "symbol": "circle"
         },
         "mode": "lines",
         "name": "history_128_LSTM_128",
         "showlegend": true,
         "type": "scattergl",
         "x": [
          0,
          1,
          2,
          3,
          4,
          5,
          6,
          7,
          8,
          9,
          10,
          11,
          12,
          13,
          14,
          15,
          16,
          17,
          18,
          19,
          20,
          21,
          22,
          23,
          24,
          25,
          26,
          27,
          28,
          29,
          30,
          31,
          32,
          33,
          34,
          35,
          36,
          37,
          38,
          39,
          40,
          41,
          42,
          43,
          44,
          45,
          46,
          47,
          48,
          49,
          50,
          51,
          52,
          53,
          54,
          55,
          56,
          57,
          58,
          59,
          60,
          61,
          62,
          63,
          64,
          65,
          66,
          67,
          68,
          69,
          70,
          71,
          72,
          73,
          74,
          75,
          76,
          77,
          78,
          79,
          80,
          81,
          82,
          83,
          84,
          85,
          86,
          87,
          88,
          89,
          90,
          91,
          92,
          93,
          94,
          95,
          96,
          97,
          98,
          99
         ],
         "xaxis": "x",
         "y": [
          0.6083750128746033,
          0.6175000071525574,
          0.5982499718666077,
          0.6078749895095825,
          0.6085000038146973,
          0.606124997138977,
          0.609250009059906,
          0.6103749871253967,
          0.6113749742507935,
          0.612500011920929,
          0.6144999861717224,
          0.6153749823570251,
          0.6156250238418579,
          0.6179999709129333,
          0.6154999732971191,
          0.6182500123977661,
          0.6197500228881836,
          0.6208750009536743,
          0.621749997138977,
          0.6228749752044678,
          0.6236249804496765,
          0.6240000128746033,
          0.625374972820282,
          0.6256250143051147,
          0.6269999742507935,
          0.628250002861023,
          0.628125011920929,
          0.6267499923706055,
          0.6306250095367432,
          0.6320000290870667,
          0.6291249990463257,
          0.6301249861717224,
          0.6332499980926514,
          0.6326249837875366,
          0.6308749914169312,
          0.6327499747276306,
          0.6321250200271606,
          0.6330000162124634,
          0.6334999799728394,
          0.6330000162124634,
          0.6342499852180481,
          0.6341249942779541,
          0.6333749890327454,
          0.6334999799728394,
          0.6347500085830688,
          0.6345000267028809,
          0.6336249709129333,
          0.6358749866485596,
          0.6358749866485596,
          0.6361250281333923,
          0.6345000267028809,
          0.6372500061988831,
          0.6370000243186951,
          0.6362500190734863,
          0.6366249918937683,
          0.6371250152587891,
          0.6370000243186951,
          0.6372500061988831,
          0.6382499933242798,
          0.6382499933242798,
          0.637374997138977,
          0.6381250023841858,
          0.6378750205039978,
          0.6386250257492065,
          0.6381250023841858,
          0.6393749713897705,
          0.6393749713897705,
          0.6386250257492065,
          0.6395000219345093,
          0.640250027179718,
          0.6399999856948853,
          0.6389999985694885,
          0.640625,
          0.640375018119812,
          0.640500009059906,
          0.6413750052452087,
          0.6421250104904175,
          0.6412500143051147,
          0.640999972820282,
          0.6420000195503235,
          0.6422500014305115,
          0.640500009059906,
          0.640250027179718,
          0.6413750052452087,
          0.6423749923706055,
          0.6416249871253967,
          0.6421250104904175,
          0.6448749899864197,
          0.6430000066757202,
          0.6447499990463257,
          0.643875002861023,
          0.6432499885559082,
          0.6445000171661377,
          0.6451249718666077,
          0.6463750004768372,
          0.6455000042915344,
          0.6471250057220459,
          0.6458749771118164,
          0.6477500200271606,
          0.6497499942779541
         ],
         "yaxis": "y"
        },
        {
         "hovertemplate": "variable=wide_variable_10<br>x=%{x}<br>value=%{y}<extra></extra>",
         "legendgroup": "wide_variable_10",
         "line": {
          "color": "#636efa",
          "dash": "solid"
         },
         "marker": {
          "symbol": "circle"
         },
         "mode": "lines",
         "name": "history_128_LSTM_64",
         "showlegend": true,
         "type": "scattergl",
         "x": [
          0,
          1,
          2,
          3,
          4,
          5,
          6,
          7,
          8,
          9,
          10,
          11,
          12,
          13,
          14,
          15,
          16,
          17,
          18,
          19,
          20,
          21,
          22,
          23,
          24,
          25,
          26,
          27,
          28,
          29,
          30,
          31,
          32,
          33,
          34,
          35,
          36,
          37,
          38,
          39,
          40,
          41,
          42,
          43,
          44,
          45,
          46,
          47,
          48,
          49,
          50,
          51,
          52,
          53,
          54,
          55,
          56,
          57,
          58,
          59,
          60,
          61,
          62,
          63,
          64,
          65,
          66,
          67,
          68,
          69,
          70,
          71,
          72,
          73,
          74,
          75,
          76,
          77,
          78,
          79,
          80,
          81,
          82,
          83,
          84,
          85,
          86,
          87,
          88,
          89,
          90,
          91,
          92,
          93,
          94,
          95,
          96,
          97,
          98,
          99
         ],
         "xaxis": "x",
         "y": [
          0.6492499709129333,
          0.6809999942779541,
          0.6800000071525574,
          0.6967499852180481,
          0.7201250195503235,
          0.7302500009536743,
          0.6901249885559082,
          0.7087500095367432,
          0.719124972820282,
          0.7386249899864197,
          0.7017499804496765,
          0.7235000133514404,
          0.7457500100135803,
          0.7595000267028809,
          0.6430000066757202,
          0.71875,
          0.737375020980835,
          0.7471250295639038,
          0.7631250023841858,
          0.7876250147819519,
          0.7591249942779541,
          0.793624997138977,
          0.6840000152587891,
          0.7452499866485596,
          0.7223749756813049,
          0.7667499780654907,
          0.7774999737739563,
          0.7861250042915344,
          0.7055000066757202,
          0.7269999980926514,
          0.7396249771118164,
          0.7743750214576721,
          0.765250027179718,
          0.7706249952316284,
          0.7703750133514404,
          0.778249979019165,
          0.7837499976158142,
          0.7944999933242798,
          0.7928749918937683,
          0.7973750233650208,
          0.7996249794960022,
          0.8029999732971191,
          0.8084999918937683,
          0.8072500228881836,
          0.815500020980835,
          0.815625011920929,
          0.812874972820282,
          0.8208749890327454,
          0.825124979019165,
          0.49900001287460327,
          0.5575000047683716,
          0.7082499861717224,
          0.7211250066757202,
          0.7273749709129333,
          0.7316250205039978,
          0.734000027179718,
          0.734250009059906,
          0.734125018119812,
          0.7362499833106995,
          0.7338749766349792,
          0.7296249866485596,
          0.7277500033378601,
          0.7262499928474426,
          0.7276250123977661,
          0.7210000157356262,
          0.731124997138977,
          0.7170000076293945,
          0.7137500047683716,
          0.7208750247955322,
          0.7521250247955322,
          0.7129999995231628,
          0.7174999713897705,
          0.7124999761581421,
          0.7108749747276306,
          0.7212499976158142,
          0.7141249775886536,
          0.7292500138282776,
          0.7407500147819519,
          0.7351250052452087,
          0.7517499923706055,
          0.6363750100135803,
          0.6886249780654907,
          0.7174999713897705,
          0.7357500195503235,
          0.7490000128746033,
          0.7588750123977661,
          0.6567500233650208,
          0.71875,
          0.7397500276565552,
          0.7555000185966492,
          0.7663750052452087,
          0.7726250290870667,
          0.7731249928474426,
          0.7758749723434448,
          0.7603750228881836,
          0.7651249766349792,
          0.7633749842643738,
          0.7611250281333923,
          0.765874981880188,
          0.7391250133514404
         ],
         "yaxis": "y"
        },
        {
         "hovertemplate": "variable=wide_variable_11<br>x=%{x}<br>value=%{y}<extra></extra>",
         "legendgroup": "wide_variable_11",
         "line": {
          "color": "#EF553B",
          "dash": "solid"
         },
         "marker": {
          "symbol": "circle"
         },
         "mode": "lines",
         "name": "history_128_LSTM_32",
         "showlegend": true,
         "type": "scattergl",
         "x": [
          0,
          1,
          2,
          3,
          4,
          5,
          6,
          7,
          8,
          9,
          10,
          11,
          12,
          13,
          14,
          15,
          16,
          17,
          18,
          19,
          20,
          21,
          22,
          23,
          24,
          25,
          26,
          27,
          28,
          29,
          30,
          31,
          32,
          33,
          34,
          35,
          36,
          37,
          38,
          39,
          40,
          41,
          42,
          43,
          44,
          45,
          46,
          47,
          48,
          49,
          50,
          51,
          52,
          53,
          54,
          55,
          56,
          57,
          58,
          59,
          60,
          61,
          62,
          63,
          64,
          65,
          66,
          67,
          68,
          69,
          70,
          71,
          72,
          73,
          74,
          75,
          76,
          77,
          78,
          79,
          80,
          81,
          82,
          83,
          84,
          85,
          86,
          87,
          88,
          89,
          90,
          91,
          92,
          93,
          94,
          95,
          96,
          97,
          98,
          99
         ],
         "xaxis": "x",
         "y": [
          0.6337500214576721,
          0.6100000143051147,
          0.6598749756813049,
          0.6662499904632568,
          0.6668750047683716,
          0.6675000190734863,
          0.6704999804496765,
          0.6742500066757202,
          0.6740000247955322,
          0.6800000071525574,
          0.6818749904632568,
          0.6827499866485596,
          0.6880000233650208,
          0.6683750152587891,
          0.6696249842643738,
          0.659375011920929,
          0.6611250042915344,
          0.6661249995231628,
          0.6666250228881836,
          0.6675000190734863,
          0.668749988079071,
          0.6701250076293945,
          0.672124981880188,
          0.6710000038146973,
          0.672124981880188,
          0.6756250262260437,
          0.6801249980926514,
          0.6817499995231628,
          0.6857500076293945,
          0.6891250014305115,
          0.6927499771118164,
          0.6965000033378601,
          0.6434999704360962,
          0.6533750295639038,
          0.6553750038146973,
          0.6533750295639038,
          0.6516249775886536,
          0.65625,
          0.6570000052452087,
          0.6573749780654907,
          0.6597499847412109,
          0.6589999794960022,
          0.6606249809265137,
          0.6611250042915344,
          0.6646249890327454,
          0.6641250252723694,
          0.6708750128746033,
          0.6790000200271606,
          0.6933749914169312,
          0.7091249823570251,
          0.7378749847412109,
          0.7388749718666077,
          0.6694999933242798,
          0.703499972820282,
          0.7440000176429749,
          0.7774999737739563,
          0.7885000109672546,
          0.6607499718666077,
          0.7024999856948853,
          0.7200000286102295,
          0.7261250019073486,
          0.7298750281333923,
          0.7432500123977661,
          0.7461249828338623,
          0.746749997138977,
          0.749625027179718,
          0.7536249756813049,
          0.7544999718666077,
          0.7578750252723694,
          0.7651249766349792,
          0.7696250081062317,
          0.7717499732971191,
          0.7743750214576721,
          0.7766249775886536,
          0.7798749804496765,
          0.781000018119812,
          0.7796249985694885,
          0.7872499823570251,
          0.7919999957084656,
          0.7903749942779541,
          0.7986249923706055,
          0.8067499995231628,
          0.8081250190734863,
          0.7987499833106995,
          0.8132500052452087,
          0.8233749866485596,
          0.8289999961853027,
          0.7678750157356262,
          0.8075000047683716,
          0.8202499747276306,
          0.8140000104904175,
          0.8216249942779541,
          0.8258749842643738,
          0.8262500166893005,
          0.8367499709129333,
          0.8355000019073486,
          0.8382499814033508,
          0.8364999890327454,
          0.7122499942779541,
          0.6448749899864197
         ],
         "yaxis": "y"
        },
        {
         "hovertemplate": "variable=wide_variable_12<br>x=%{x}<br>value=%{y}<extra></extra>",
         "legendgroup": "wide_variable_12",
         "line": {
          "color": "#00cc96",
          "dash": "solid"
         },
         "marker": {
          "symbol": "circle"
         },
         "mode": "lines",
         "name": "history_64_LSTM_128",
         "showlegend": true,
         "type": "scattergl",
         "x": [
          0,
          1,
          2,
          3,
          4,
          5,
          6,
          7,
          8,
          9,
          10,
          11,
          12,
          13,
          14,
          15,
          16,
          17,
          18,
          19,
          20,
          21,
          22,
          23,
          24,
          25,
          26,
          27,
          28,
          29,
          30,
          31,
          32,
          33,
          34,
          35,
          36,
          37,
          38,
          39,
          40,
          41,
          42,
          43,
          44,
          45,
          46,
          47,
          48,
          49,
          50,
          51,
          52,
          53,
          54,
          55,
          56,
          57,
          58,
          59,
          60,
          61,
          62,
          63,
          64,
          65,
          66,
          67,
          68,
          69,
          70,
          71,
          72,
          73,
          74,
          75,
          76,
          77,
          78,
          79,
          80,
          81,
          82,
          83,
          84,
          85,
          86,
          87,
          88,
          89,
          90,
          91,
          92,
          93,
          94,
          95,
          96,
          97,
          98,
          99
         ],
         "xaxis": "x",
         "y": [
          0.5953750014305115,
          0.6010000109672546,
          0.6058750152587891,
          0.6150000095367432,
          0.6159999966621399,
          0.6169999837875366,
          0.6200000047683716,
          0.621749997138977,
          0.6190000176429749,
          0.6079999804496765,
          0.6077499985694885,
          0.6073750257492065,
          0.6081249713897705,
          0.609624981880188,
          0.609375,
          0.6087499856948853,
          0.6110000014305115,
          0.609000027179718,
          0.6103749871253967,
          0.612625002861023,
          0.6113749742507935,
          0.6131250262260437,
          0.6131250262260437,
          0.6147500276565552,
          0.6156250238418579,
          0.6157500147819519,
          0.6154999732971191,
          0.6166250109672546,
          0.6165000200271606,
          0.6159999966621399,
          0.6179999709129333,
          0.6169999837875366,
          0.6167500019073486,
          0.6177499890327454,
          0.6183750033378601,
          0.6184999942779541,
          0.6197500228881836,
          0.6211249828338623,
          0.6202499866485596,
          0.6208750009536743,
          0.6206250190734863,
          0.6177499890327454,
          0.6184999942779541,
          0.6191250085830688,
          0.6203749775886536,
          0.6206250190734863,
          0.6207500100135803,
          0.6212499737739563,
          0.6215000152587891,
          0.6208750009536743,
          0.6240000128746033,
          0.621749997138977,
          0.6230000257492065,
          0.6228749752044678,
          0.6211249828338623,
          0.6237499713897705,
          0.6236249804496765,
          0.625374972820282,
          0.6243749856948853,
          0.6259999871253967,
          0.6287500262260437,
          0.6315000057220459,
          0.637374997138977,
          0.6448749899864197,
          0.6581249833106995,
          0.6639999747276306,
          0.6757500171661377,
          0.6817499995231628,
          0.6858749985694885,
          0.6413750052452087,
          0.6652500033378601,
          0.6682500243186951,
          0.671875,
          0.672249972820282,
          0.6766250133514404,
          0.6803749799728394,
          0.6806250214576721,
          0.6819999814033508,
          0.6813750267028809,
          0.6827499866485596,
          0.6831250190734863,
          0.6833750009536743,
          0.6863750219345093,
          0.687375009059906,
          0.687250018119812,
          0.6880000233650208,
          0.6915000081062317,
          0.6953750252723694,
          0.6693750023841858,
          0.6736249923706055,
          0.6775000095367432,
          0.6819999814033508,
          0.6863750219345093,
          0.6903749704360962,
          0.6928750276565552,
          0.6997500061988831,
          0.7039999961853027,
          0.6931250095367432,
          0.7009999752044678,
          0.7047500014305115
         ],
         "yaxis": "y"
        },
        {
         "hovertemplate": "variable=wide_variable_13<br>x=%{x}<br>value=%{y}<extra></extra>",
         "legendgroup": "wide_variable_13",
         "line": {
          "color": "#ab63fa",
          "dash": "solid"
         },
         "marker": {
          "symbol": "circle"
         },
         "mode": "lines",
         "name": "history_64_LSTM_64",
         "showlegend": true,
         "type": "scattergl",
         "x": [
          0,
          1,
          2,
          3,
          4,
          5,
          6,
          7,
          8,
          9,
          10,
          11,
          12,
          13,
          14,
          15,
          16,
          17,
          18,
          19,
          20,
          21,
          22,
          23,
          24,
          25,
          26,
          27,
          28,
          29,
          30,
          31,
          32,
          33,
          34,
          35,
          36,
          37,
          38,
          39,
          40,
          41,
          42,
          43,
          44,
          45,
          46,
          47,
          48,
          49,
          50,
          51,
          52,
          53,
          54,
          55,
          56,
          57,
          58,
          59,
          60,
          61,
          62,
          63,
          64,
          65,
          66,
          67,
          68,
          69,
          70,
          71,
          72,
          73,
          74,
          75,
          76,
          77,
          78,
          79,
          80,
          81,
          82,
          83,
          84,
          85,
          86,
          87,
          88,
          89,
          90,
          91,
          92,
          93,
          94,
          95,
          96,
          97,
          98,
          99
         ],
         "xaxis": "x",
         "y": [
          0.6548749804496765,
          0.6603749990463257,
          0.6623749732971191,
          0.6628749966621399,
          0.6614999771118164,
          0.6638749837875366,
          0.6668750047683716,
          0.6662499904632568,
          0.6672499775886536,
          0.6698750257492065,
          0.671500027179718,
          0.6723750233650208,
          0.6725000143051147,
          0.6781250238418579,
          0.6834999918937683,
          0.500374972820282,
          0.5021250247955322,
          0.4983749985694885,
          0.5,
          0.500249981880188,
          0.5027499794960022,
          0.5,
          0.5164999961853027,
          0.499875009059906,
          0.5006250143051147,
          0.4997499883174896,
          0.500124990940094,
          0.499875009059906,
          0.499875009059906,
          0.4997499883174896,
          0.499875009059906,
          0.5,
          0.49412500858306885,
          0.499875009059906,
          0.5,
          0.499875009059906,
          0.499875009059906,
          0.499875009059906,
          0.4997499883174896,
          0.4997499883174896,
          0.5,
          0.5,
          0.4997499883174896,
          0.4997499883174896,
          0.5,
          0.49437499046325684,
          0.5,
          0.5043749809265137,
          0.4970000088214874,
          0.5,
          0.5009999871253967,
          0.49924999475479126,
          0.4958750009536743,
          0.4988749921321869,
          0.5043749809265137,
          0.49962499737739563,
          0.5071250200271606,
          0.5083749890327454,
          0.5105000138282776,
          0.49937498569488525,
          0.5291249752044678,
          0.503250002861023,
          0.515250027179718,
          0.5,
          0.5083749890327454,
          0.4906249940395355,
          0.5145000219345093,
          0.5,
          0.5,
          0.5,
          0.5,
          0.5,
          0.5,
          0.49924999475479126,
          0.5,
          0.5,
          0.5,
          0.5,
          0.5,
          0.49674999713897705,
          0.4972499907016754,
          0.49387499690055847,
          0.500124990940094,
          0.4997499883174896,
          0.5,
          0.5,
          0.499875009059906,
          0.4997499883174896,
          0.4997499883174896,
          0.5,
          0.5,
          0.500124990940094,
          0.500124990940094,
          0.499875009059906,
          0.500124990940094,
          0.48899999260902405,
          0.49912500381469727,
          0.4983749985694885,
          0.499875009059906,
          0.5019999742507935
         ],
         "yaxis": "y"
        },
        {
         "hovertemplate": "variable=wide_variable_14<br>x=%{x}<br>value=%{y}<extra></extra>",
         "legendgroup": "wide_variable_14",
         "line": {
          "color": "#FFA15A",
          "dash": "solid"
         },
         "marker": {
          "symbol": "circle"
         },
         "mode": "lines",
         "name": "history_64_LSTM_32",
         "showlegend": true,
         "type": "scattergl",
         "x": [
          0,
          1,
          2,
          3,
          4,
          5,
          6,
          7,
          8,
          9,
          10,
          11,
          12,
          13,
          14,
          15,
          16,
          17,
          18,
          19,
          20,
          21,
          22,
          23,
          24,
          25,
          26,
          27,
          28,
          29,
          30,
          31,
          32,
          33,
          34,
          35,
          36,
          37,
          38,
          39,
          40,
          41,
          42,
          43,
          44,
          45,
          46,
          47,
          48,
          49,
          50,
          51,
          52,
          53,
          54,
          55,
          56,
          57,
          58,
          59,
          60,
          61,
          62,
          63,
          64,
          65,
          66,
          67,
          68,
          69,
          70,
          71,
          72,
          73,
          74,
          75,
          76,
          77,
          78,
          79,
          80,
          81,
          82,
          83,
          84,
          85,
          86,
          87,
          88,
          89,
          90,
          91,
          92,
          93,
          94,
          95,
          96,
          97,
          98,
          99
         ],
         "xaxis": "x",
         "y": [
          0.6110000014305115,
          0.6196249723434448,
          0.624625027179718,
          0.6261249780654907,
          0.628125011920929,
          0.6299999952316284,
          0.6337500214576721,
          0.6367499828338623,
          0.6424999833106995,
          0.6507499814033508,
          0.6727499961853027,
          0.656125009059906,
          0.6672499775886536,
          0.6663749814033508,
          0.671750009059906,
          0.6931250095367432,
          0.6821249723434448,
          0.7092499732971191,
          0.6431249976158142,
          0.6773750185966492,
          0.6788750290870667,
          0.6779999732971191,
          0.6741250157356262,
          0.6981250047683716,
          0.7021250128746033,
          0.6996250152587891,
          0.6993749737739563,
          0.7013750076293945,
          0.5581250190734863,
          0.7168750166893005,
          0.7178750038146973,
          0.7196249961853027,
          0.7206249833106995,
          0.7211250066757202,
          0.721875011920929,
          0.721875011920929,
          0.7227500081062317,
          0.722000002861023,
          0.7232499718666077,
          0.7251250147819519,
          0.7248749732971191,
          0.7124999761581421,
          0.7173749804496765,
          0.7239999771118164,
          0.7302500009536743,
          0.7242500185966492,
          0.6510000228881836,
          0.6811249852180481,
          0.6848750114440918,
          0.6909999847412109,
          0.6927499771118164,
          0.7003750205039978,
          0.7078750133514404,
          0.7172499895095825,
          0.7085000276565552,
          0.7253749966621399,
          0.7331249713897705,
          0.6938750147819519,
          0.7252500057220459,
          0.6966249942779541,
          0.7098749876022339,
          0.7235000133514404,
          0.7643749713897705,
          0.7797499895095825,
          0.4676249921321869,
          0.5429999828338623,
          0.5325000286102295,
          0.6457499861717224,
          0.6370000243186951,
          0.7276250123977661,
          0.7396249771118164,
          0.7412499785423279,
          0.7437499761581421,
          0.7444999814033508,
          0.7440000176429749,
          0.746874988079071,
          0.7487499713897705,
          0.7471250295639038,
          0.7462499737739563,
          0.7462499737739563,
          0.7484999895095825,
          0.7484999895095825,
          0.749625027179718,
          0.7477499842643738,
          0.750374972820282,
          0.750374972820282,
          0.7507500052452087,
          0.7483749985694885,
          0.7516250014305115,
          0.7518749833106995,
          0.7524999976158142,
          0.7549999952316284,
          0.7519999742507935,
          0.7533749938011169,
          0.7571250200271606,
          0.7580000162124634,
          0.7571250200271606,
          0.7603750228881836,
          0.7668750286102295,
          0.7636250257492065
         ],
         "yaxis": "y"
        },
        {
         "hovertemplate": "variable=wide_variable_15<br>x=%{x}<br>value=%{y}<extra></extra>",
         "legendgroup": "wide_variable_15",
         "line": {
          "color": "#19d3f3",
          "dash": "solid"
         },
         "marker": {
          "symbol": "circle"
         },
         "mode": "lines",
         "name": "history_32_LSTM_128",
         "showlegend": true,
         "type": "scattergl",
         "x": [
          0,
          1,
          2,
          3,
          4,
          5,
          6,
          7,
          8,
          9,
          10,
          11,
          12,
          13,
          14,
          15,
          16,
          17,
          18,
          19,
          20,
          21,
          22,
          23,
          24,
          25,
          26,
          27,
          28,
          29,
          30,
          31,
          32,
          33,
          34,
          35,
          36,
          37,
          38,
          39,
          40,
          41,
          42,
          43,
          44,
          45,
          46,
          47,
          48,
          49,
          50,
          51,
          52,
          53,
          54,
          55,
          56,
          57,
          58,
          59,
          60,
          61,
          62,
          63,
          64,
          65,
          66,
          67,
          68,
          69,
          70,
          71,
          72,
          73,
          74,
          75,
          76,
          77,
          78,
          79,
          80,
          81,
          82,
          83,
          84,
          85,
          86,
          87,
          88,
          89,
          90,
          91,
          92,
          93,
          94,
          95,
          96,
          97,
          98,
          99
         ],
         "xaxis": "x",
         "y": [
          0.5759999752044678,
          0.6884999871253967,
          0.7076249718666077,
          0.7308750152587891,
          0.7372499704360962,
          0.7427499890327454,
          0.7437499761581421,
          0.7463750243186951,
          0.7478749752044678,
          0.7537500262260437,
          0.7562500238418579,
          0.7582499980926514,
          0.7584999799728394,
          0.7631250023841858,
          0.6857500076293945,
          0.7524999976158142,
          0.765500009059906,
          0.7681249976158142,
          0.7726250290870667,
          0.7754999995231628,
          0.781499981880188,
          0.7851250171661377,
          0.7828750014305115,
          0.7896249890327454,
          0.7922499775886536,
          0.7806249856948853,
          0.7912499904632568,
          0.7889999747276306,
          0.7943750023841858,
          0.7948750257492065,
          0.7957500219345093,
          0.796999990940094,
          0.7992500066757202,
          0.8004999756813049,
          0.8017500042915344,
          0.8006250262260437,
          0.8053749799728394,
          0.8062499761581421,
          0.8068749904632568,
          0.8061249852180481,
          0.8046249747276306,
          0.8037499785423279,
          0.8106250166893005,
          0.8105000257492065,
          0.8102499842643738,
          0.8133749961853027,
          0.8125,
          0.812874972820282,
          0.5776249766349792,
          0.7570000290870667,
          0.4751250147819519,
          0.46537500619888306,
          0.468625009059906,
          0.5009999871253967,
          0.5053750276565552,
          0.5048750042915344,
          0.5074999928474426,
          0.5149999856948853,
          0.499875009059906,
          0.5022500157356262,
          0.5068749785423279,
          0.5048750042915344,
          0.5043749809265137,
          0.5007500052452087,
          0.4976249933242798,
          0.5,
          0.5,
          0.5,
          0.5,
          0.5,
          0.5,
          0.5,
          0.5,
          0.5,
          0.5,
          0.5,
          0.5,
          0.5,
          0.5,
          0.5,
          0.5,
          0.5,
          0.5,
          0.5,
          0.5,
          0.5,
          0.5,
          0.5,
          0.5,
          0.5,
          0.5,
          0.5,
          0.5,
          0.5,
          0.5,
          0.5,
          0.5,
          0.5,
          0.5,
          0.5
         ],
         "yaxis": "y"
        },
        {
         "hovertemplate": "variable=wide_variable_16<br>x=%{x}<br>value=%{y}<extra></extra>",
         "legendgroup": "wide_variable_16",
         "line": {
          "color": "#FF6692",
          "dash": "solid"
         },
         "marker": {
          "symbol": "circle"
         },
         "mode": "lines",
         "name": "history_32_LSTM_64",
         "showlegend": true,
         "type": "scattergl",
         "x": [
          0,
          1,
          2,
          3,
          4,
          5,
          6,
          7,
          8,
          9,
          10,
          11,
          12,
          13,
          14,
          15,
          16,
          17,
          18,
          19,
          20,
          21,
          22,
          23,
          24,
          25,
          26,
          27,
          28,
          29,
          30,
          31,
          32,
          33,
          34,
          35,
          36,
          37,
          38,
          39,
          40,
          41,
          42,
          43,
          44,
          45,
          46,
          47,
          48,
          49,
          50,
          51,
          52,
          53,
          54,
          55,
          56,
          57,
          58,
          59,
          60,
          61,
          62,
          63,
          64,
          65,
          66,
          67,
          68,
          69,
          70,
          71,
          72,
          73,
          74,
          75,
          76,
          77,
          78,
          79,
          80,
          81,
          82,
          83,
          84,
          85,
          86,
          87,
          88,
          89,
          90,
          91,
          92,
          93,
          94,
          95,
          96,
          97,
          98,
          99
         ],
         "xaxis": "x",
         "y": [
          0.47962498664855957,
          0.5139999985694885,
          0.5264999866485596,
          0.5350000262260437,
          0.5293750166893005,
          0.5113750100135803,
          0.5130000114440918,
          0.5206249952316284,
          0.5295000076293945,
          0.518625020980835,
          0.5206249952316284,
          0.5243750214576721,
          0.5274999737739563,
          0.5318750143051147,
          0.5358750224113464,
          0.5406249761581421,
          0.5435000061988831,
          0.5443750023841858,
          0.546500027179718,
          0.5479999780654907,
          0.5507500171661377,
          0.5527499914169312,
          0.5513749718666077,
          0.5587499737739563,
          0.5568749904632568,
          0.5596250295639038,
          0.5609999895095825,
          0.5640000104904175,
          0.5630000233650208,
          0.5661249756813049,
          0.5666249990463257,
          0.5638750195503235,
          0.5659999847412109,
          0.5706250071525574,
          0.5697500109672546,
          0.5512499809265137,
          0.5761250257492065,
          0.577750027179718,
          0.578125,
          0.5786250233650208,
          0.5768749713897705,
          0.5787500143051147,
          0.5806249976158142,
          0.5802500247955322,
          0.5822499990463257,
          0.5824999809265137,
          0.581375002861023,
          0.5833749771118164,
          0.5841249823570251,
          0.5847499966621399,
          0.5889999866485596,
          0.5879999995231628,
          0.5928750038146973,
          0.5966249704360962,
          0.5979999899864197,
          0.6057500243186951,
          0.628000020980835,
          0.5985000133514404,
          0.6042500138282776,
          0.6054999828338623,
          0.6046249866485596,
          0.6054999828338623,
          0.6075000166893005,
          0.6054999828338623,
          0.6081249713897705,
          0.5887500047683716,
          0.6296250224113464,
          0.6298750042915344,
          0.6311249732971191,
          0.6302499771118164,
          0.6288750171661377,
          0.6302499771118164,
          0.6293749809265137,
          0.6291249990463257,
          0.6309999823570251,
          0.6299999952316284,
          0.6316249966621399,
          0.6316249966621399,
          0.6318749785423279,
          0.6315000057220459,
          0.6326249837875366,
          0.6347500085830688,
          0.6345000267028809,
          0.6345000267028809,
          0.6352499723434448,
          0.6347500085830688,
          0.637499988079071,
          0.6381250023841858,
          0.6378750205039978,
          0.637374997138977,
          0.640625,
          0.6487500071525574,
          0.6552500128746033,
          0.6496250033378601,
          0.656000018119812,
          0.6653749942779541,
          0.671500027179718,
          0.6771249771118164,
          0.6823750138282776,
          0.6894999742507935
         ],
         "yaxis": "y"
        },
        {
         "hovertemplate": "variable=wide_variable_17<br>x=%{x}<br>value=%{y}<extra></extra>",
         "legendgroup": "wide_variable_17",
         "line": {
          "color": "#B6E880",
          "dash": "solid"
         },
         "marker": {
          "symbol": "circle"
         },
         "mode": "lines",
         "name": "history_32_LSTM_32",
         "showlegend": true,
         "type": "scattergl",
         "x": [
          0,
          1,
          2,
          3,
          4,
          5,
          6,
          7,
          8,
          9,
          10,
          11,
          12,
          13,
          14,
          15,
          16,
          17,
          18,
          19,
          20,
          21,
          22,
          23,
          24,
          25,
          26,
          27,
          28,
          29,
          30,
          31,
          32,
          33,
          34,
          35,
          36,
          37,
          38,
          39,
          40,
          41,
          42,
          43,
          44,
          45,
          46,
          47,
          48,
          49,
          50,
          51,
          52,
          53,
          54,
          55,
          56,
          57,
          58,
          59,
          60,
          61,
          62,
          63,
          64,
          65,
          66,
          67,
          68,
          69,
          70,
          71,
          72,
          73,
          74,
          75,
          76,
          77,
          78,
          79,
          80,
          81,
          82,
          83,
          84,
          85,
          86,
          87,
          88,
          89,
          90,
          91,
          92,
          93,
          94,
          95,
          96,
          97,
          98,
          99
         ],
         "xaxis": "x",
         "y": [
          0.6178749799728394,
          0.5371249914169312,
          0.5870000123977661,
          0.6131250262260437,
          0.6221250295639038,
          0.6274999976158142,
          0.625374972820282,
          0.6286249756813049,
          0.628000020980835,
          0.6293749809265137,
          0.6272500157356262,
          0.625,
          0.6293749809265137,
          0.6287500262260437,
          0.6378750205039978,
          0.6336249709129333,
          0.621999979019165,
          0.6331250071525574,
          0.6386250257492065,
          0.6397500038146973,
          0.6384999752044678,
          0.6370000243186951,
          0.6358749866485596,
          0.6428750157356262,
          0.6391249895095825,
          0.6422500014305115,
          0.643875002861023,
          0.6501250267028809,
          0.6178749799728394,
          0.6141250133514404,
          0.6383749842643738,
          0.6486250162124634,
          0.6460000276565552,
          0.6512500047683716,
          0.6504999995231628,
          0.6533750295639038,
          0.6542500257492065,
          0.6556249856948853,
          0.6545000076293945,
          0.656125009059906,
          0.6556249856948853,
          0.6572499871253967,
          0.6575000286102295,
          0.656125009059906,
          0.656624972820282,
          0.6577500104904175,
          0.643750011920929,
          0.6073750257492065,
          0.6111249923706055,
          0.6127499938011169,
          0.6151250004768372,
          0.6156250238418579,
          0.6169999837875366,
          0.6191250085830688,
          0.6221250295639038,
          0.6296250224113464,
          0.578499972820282,
          0.6317499876022339,
          0.6321250200271606,
          0.6320000290870667,
          0.6332499980926514,
          0.6347500085830688,
          0.6340000033378601,
          0.6356250047683716,
          0.637499988079071,
          0.6393749713897705,
          0.6418750286102295,
          0.6462500095367432,
          0.6546249985694885,
          0.596750020980835,
          0.6597499847412109,
          0.6880000233650208,
          0.7070000171661377,
          0.7254999876022339,
          0.7360000014305115,
          0.7288749814033508,
          0.6568750143051147,
          0.7201250195503235,
          0.7293750047683716,
          0.7402499914169312,
          0.7466250061988831,
          0.7521250247955322,
          0.7605000138282776,
          0.7661250233650208,
          0.7730000019073486,
          0.7728750109672546,
          0.7724999785423279,
          0.784500002861023,
          0.7238749861717224,
          0.7337499856948853,
          0.7398750185966492,
          0.6786249876022339,
          0.7026249766349792,
          0.7108749747276306,
          0.7204999923706055,
          0.7335000038146973,
          0.7543749809265137,
          0.7642499804496765,
          0.7608749866485596,
          0.6836249828338623
         ],
         "yaxis": "y"
        }
       ],
       "layout": {
        "legend": {
         "title": {
          "text": "variable"
         },
         "tracegroupgap": 0
        },
        "margin": {
         "t": 60
        },
        "template": {
         "data": {
          "bar": [
           {
            "error_x": {
             "color": "#2a3f5f"
            },
            "error_y": {
             "color": "#2a3f5f"
            },
            "marker": {
             "line": {
              "color": "#E5ECF6",
              "width": 0.5
             },
             "pattern": {
              "fillmode": "overlay",
              "size": 10,
              "solidity": 0.2
             }
            },
            "type": "bar"
           }
          ],
          "barpolar": [
           {
            "marker": {
             "line": {
              "color": "#E5ECF6",
              "width": 0.5
             },
             "pattern": {
              "fillmode": "overlay",
              "size": 10,
              "solidity": 0.2
             }
            },
            "type": "barpolar"
           }
          ],
          "carpet": [
           {
            "aaxis": {
             "endlinecolor": "#2a3f5f",
             "gridcolor": "white",
             "linecolor": "white",
             "minorgridcolor": "white",
             "startlinecolor": "#2a3f5f"
            },
            "baxis": {
             "endlinecolor": "#2a3f5f",
             "gridcolor": "white",
             "linecolor": "white",
             "minorgridcolor": "white",
             "startlinecolor": "#2a3f5f"
            },
            "type": "carpet"
           }
          ],
          "choropleth": [
           {
            "colorbar": {
             "outlinewidth": 0,
             "ticks": ""
            },
            "type": "choropleth"
           }
          ],
          "contour": [
           {
            "colorbar": {
             "outlinewidth": 0,
             "ticks": ""
            },
            "colorscale": [
             [
              0,
              "#0d0887"
             ],
             [
              0.1111111111111111,
              "#46039f"
             ],
             [
              0.2222222222222222,
              "#7201a8"
             ],
             [
              0.3333333333333333,
              "#9c179e"
             ],
             [
              0.4444444444444444,
              "#bd3786"
             ],
             [
              0.5555555555555556,
              "#d8576b"
             ],
             [
              0.6666666666666666,
              "#ed7953"
             ],
             [
              0.7777777777777778,
              "#fb9f3a"
             ],
             [
              0.8888888888888888,
              "#fdca26"
             ],
             [
              1,
              "#f0f921"
             ]
            ],
            "type": "contour"
           }
          ],
          "contourcarpet": [
           {
            "colorbar": {
             "outlinewidth": 0,
             "ticks": ""
            },
            "type": "contourcarpet"
           }
          ],
          "heatmap": [
           {
            "colorbar": {
             "outlinewidth": 0,
             "ticks": ""
            },
            "colorscale": [
             [
              0,
              "#0d0887"
             ],
             [
              0.1111111111111111,
              "#46039f"
             ],
             [
              0.2222222222222222,
              "#7201a8"
             ],
             [
              0.3333333333333333,
              "#9c179e"
             ],
             [
              0.4444444444444444,
              "#bd3786"
             ],
             [
              0.5555555555555556,
              "#d8576b"
             ],
             [
              0.6666666666666666,
              "#ed7953"
             ],
             [
              0.7777777777777778,
              "#fb9f3a"
             ],
             [
              0.8888888888888888,
              "#fdca26"
             ],
             [
              1,
              "#f0f921"
             ]
            ],
            "type": "heatmap"
           }
          ],
          "heatmapgl": [
           {
            "colorbar": {
             "outlinewidth": 0,
             "ticks": ""
            },
            "colorscale": [
             [
              0,
              "#0d0887"
             ],
             [
              0.1111111111111111,
              "#46039f"
             ],
             [
              0.2222222222222222,
              "#7201a8"
             ],
             [
              0.3333333333333333,
              "#9c179e"
             ],
             [
              0.4444444444444444,
              "#bd3786"
             ],
             [
              0.5555555555555556,
              "#d8576b"
             ],
             [
              0.6666666666666666,
              "#ed7953"
             ],
             [
              0.7777777777777778,
              "#fb9f3a"
             ],
             [
              0.8888888888888888,
              "#fdca26"
             ],
             [
              1,
              "#f0f921"
             ]
            ],
            "type": "heatmapgl"
           }
          ],
          "histogram": [
           {
            "marker": {
             "pattern": {
              "fillmode": "overlay",
              "size": 10,
              "solidity": 0.2
             }
            },
            "type": "histogram"
           }
          ],
          "histogram2d": [
           {
            "colorbar": {
             "outlinewidth": 0,
             "ticks": ""
            },
            "colorscale": [
             [
              0,
              "#0d0887"
             ],
             [
              0.1111111111111111,
              "#46039f"
             ],
             [
              0.2222222222222222,
              "#7201a8"
             ],
             [
              0.3333333333333333,
              "#9c179e"
             ],
             [
              0.4444444444444444,
              "#bd3786"
             ],
             [
              0.5555555555555556,
              "#d8576b"
             ],
             [
              0.6666666666666666,
              "#ed7953"
             ],
             [
              0.7777777777777778,
              "#fb9f3a"
             ],
             [
              0.8888888888888888,
              "#fdca26"
             ],
             [
              1,
              "#f0f921"
             ]
            ],
            "type": "histogram2d"
           }
          ],
          "histogram2dcontour": [
           {
            "colorbar": {
             "outlinewidth": 0,
             "ticks": ""
            },
            "colorscale": [
             [
              0,
              "#0d0887"
             ],
             [
              0.1111111111111111,
              "#46039f"
             ],
             [
              0.2222222222222222,
              "#7201a8"
             ],
             [
              0.3333333333333333,
              "#9c179e"
             ],
             [
              0.4444444444444444,
              "#bd3786"
             ],
             [
              0.5555555555555556,
              "#d8576b"
             ],
             [
              0.6666666666666666,
              "#ed7953"
             ],
             [
              0.7777777777777778,
              "#fb9f3a"
             ],
             [
              0.8888888888888888,
              "#fdca26"
             ],
             [
              1,
              "#f0f921"
             ]
            ],
            "type": "histogram2dcontour"
           }
          ],
          "mesh3d": [
           {
            "colorbar": {
             "outlinewidth": 0,
             "ticks": ""
            },
            "type": "mesh3d"
           }
          ],
          "parcoords": [
           {
            "line": {
             "colorbar": {
              "outlinewidth": 0,
              "ticks": ""
             }
            },
            "type": "parcoords"
           }
          ],
          "pie": [
           {
            "automargin": true,
            "type": "pie"
           }
          ],
          "scatter": [
           {
            "fillpattern": {
             "fillmode": "overlay",
             "size": 10,
             "solidity": 0.2
            },
            "type": "scatter"
           }
          ],
          "scatter3d": [
           {
            "line": {
             "colorbar": {
              "outlinewidth": 0,
              "ticks": ""
             }
            },
            "marker": {
             "colorbar": {
              "outlinewidth": 0,
              "ticks": ""
             }
            },
            "type": "scatter3d"
           }
          ],
          "scattercarpet": [
           {
            "marker": {
             "colorbar": {
              "outlinewidth": 0,
              "ticks": ""
             }
            },
            "type": "scattercarpet"
           }
          ],
          "scattergeo": [
           {
            "marker": {
             "colorbar": {
              "outlinewidth": 0,
              "ticks": ""
             }
            },
            "type": "scattergeo"
           }
          ],
          "scattergl": [
           {
            "marker": {
             "colorbar": {
              "outlinewidth": 0,
              "ticks": ""
             }
            },
            "type": "scattergl"
           }
          ],
          "scattermapbox": [
           {
            "marker": {
             "colorbar": {
              "outlinewidth": 0,
              "ticks": ""
             }
            },
            "type": "scattermapbox"
           }
          ],
          "scatterpolar": [
           {
            "marker": {
             "colorbar": {
              "outlinewidth": 0,
              "ticks": ""
             }
            },
            "type": "scatterpolar"
           }
          ],
          "scatterpolargl": [
           {
            "marker": {
             "colorbar": {
              "outlinewidth": 0,
              "ticks": ""
             }
            },
            "type": "scatterpolargl"
           }
          ],
          "scatterternary": [
           {
            "marker": {
             "colorbar": {
              "outlinewidth": 0,
              "ticks": ""
             }
            },
            "type": "scatterternary"
           }
          ],
          "surface": [
           {
            "colorbar": {
             "outlinewidth": 0,
             "ticks": ""
            },
            "colorscale": [
             [
              0,
              "#0d0887"
             ],
             [
              0.1111111111111111,
              "#46039f"
             ],
             [
              0.2222222222222222,
              "#7201a8"
             ],
             [
              0.3333333333333333,
              "#9c179e"
             ],
             [
              0.4444444444444444,
              "#bd3786"
             ],
             [
              0.5555555555555556,
              "#d8576b"
             ],
             [
              0.6666666666666666,
              "#ed7953"
             ],
             [
              0.7777777777777778,
              "#fb9f3a"
             ],
             [
              0.8888888888888888,
              "#fdca26"
             ],
             [
              1,
              "#f0f921"
             ]
            ],
            "type": "surface"
           }
          ],
          "table": [
           {
            "cells": {
             "fill": {
              "color": "#EBF0F8"
             },
             "line": {
              "color": "white"
             }
            },
            "header": {
             "fill": {
              "color": "#C8D4E3"
             },
             "line": {
              "color": "white"
             }
            },
            "type": "table"
           }
          ]
         },
         "layout": {
          "annotationdefaults": {
           "arrowcolor": "#2a3f5f",
           "arrowhead": 0,
           "arrowwidth": 1
          },
          "autotypenumbers": "strict",
          "coloraxis": {
           "colorbar": {
            "outlinewidth": 0,
            "ticks": ""
           }
          },
          "colorscale": {
           "diverging": [
            [
             0,
             "#8e0152"
            ],
            [
             0.1,
             "#c51b7d"
            ],
            [
             0.2,
             "#de77ae"
            ],
            [
             0.3,
             "#f1b6da"
            ],
            [
             0.4,
             "#fde0ef"
            ],
            [
             0.5,
             "#f7f7f7"
            ],
            [
             0.6,
             "#e6f5d0"
            ],
            [
             0.7,
             "#b8e186"
            ],
            [
             0.8,
             "#7fbc41"
            ],
            [
             0.9,
             "#4d9221"
            ],
            [
             1,
             "#276419"
            ]
           ],
           "sequential": [
            [
             0,
             "#0d0887"
            ],
            [
             0.1111111111111111,
             "#46039f"
            ],
            [
             0.2222222222222222,
             "#7201a8"
            ],
            [
             0.3333333333333333,
             "#9c179e"
            ],
            [
             0.4444444444444444,
             "#bd3786"
            ],
            [
             0.5555555555555556,
             "#d8576b"
            ],
            [
             0.6666666666666666,
             "#ed7953"
            ],
            [
             0.7777777777777778,
             "#fb9f3a"
            ],
            [
             0.8888888888888888,
             "#fdca26"
            ],
            [
             1,
             "#f0f921"
            ]
           ],
           "sequentialminus": [
            [
             0,
             "#0d0887"
            ],
            [
             0.1111111111111111,
             "#46039f"
            ],
            [
             0.2222222222222222,
             "#7201a8"
            ],
            [
             0.3333333333333333,
             "#9c179e"
            ],
            [
             0.4444444444444444,
             "#bd3786"
            ],
            [
             0.5555555555555556,
             "#d8576b"
            ],
            [
             0.6666666666666666,
             "#ed7953"
            ],
            [
             0.7777777777777778,
             "#fb9f3a"
            ],
            [
             0.8888888888888888,
             "#fdca26"
            ],
            [
             1,
             "#f0f921"
            ]
           ]
          },
          "colorway": [
           "#636efa",
           "#EF553B",
           "#00cc96",
           "#ab63fa",
           "#FFA15A",
           "#19d3f3",
           "#FF6692",
           "#B6E880",
           "#FF97FF",
           "#FECB52"
          ],
          "font": {
           "color": "#2a3f5f"
          },
          "geo": {
           "bgcolor": "white",
           "lakecolor": "white",
           "landcolor": "#E5ECF6",
           "showlakes": true,
           "showland": true,
           "subunitcolor": "white"
          },
          "hoverlabel": {
           "align": "left"
          },
          "hovermode": "closest",
          "mapbox": {
           "style": "light"
          },
          "paper_bgcolor": "white",
          "plot_bgcolor": "#E5ECF6",
          "polar": {
           "angularaxis": {
            "gridcolor": "white",
            "linecolor": "white",
            "ticks": ""
           },
           "bgcolor": "#E5ECF6",
           "radialaxis": {
            "gridcolor": "white",
            "linecolor": "white",
            "ticks": ""
           }
          },
          "scene": {
           "xaxis": {
            "backgroundcolor": "#E5ECF6",
            "gridcolor": "white",
            "gridwidth": 2,
            "linecolor": "white",
            "showbackground": true,
            "ticks": "",
            "zerolinecolor": "white"
           },
           "yaxis": {
            "backgroundcolor": "#E5ECF6",
            "gridcolor": "white",
            "gridwidth": 2,
            "linecolor": "white",
            "showbackground": true,
            "ticks": "",
            "zerolinecolor": "white"
           },
           "zaxis": {
            "backgroundcolor": "#E5ECF6",
            "gridcolor": "white",
            "gridwidth": 2,
            "linecolor": "white",
            "showbackground": true,
            "ticks": "",
            "zerolinecolor": "white"
           }
          },
          "shapedefaults": {
           "line": {
            "color": "#2a3f5f"
           }
          },
          "ternary": {
           "aaxis": {
            "gridcolor": "white",
            "linecolor": "white",
            "ticks": ""
           },
           "baxis": {
            "gridcolor": "white",
            "linecolor": "white",
            "ticks": ""
           },
           "bgcolor": "#E5ECF6",
           "caxis": {
            "gridcolor": "white",
            "linecolor": "white",
            "ticks": ""
           }
          },
          "title": {
           "x": 0.05
          },
          "xaxis": {
           "automargin": true,
           "gridcolor": "white",
           "linecolor": "white",
           "ticks": "",
           "title": {
            "standoff": 15
           },
           "zerolinecolor": "white",
           "zerolinewidth": 2
          },
          "yaxis": {
           "automargin": true,
           "gridcolor": "white",
           "linecolor": "white",
           "ticks": "",
           "title": {
            "standoff": 15
           },
           "zerolinecolor": "white",
           "zerolinewidth": 2
          }
         }
        },
        "title": {
         "text": "Validation Accuracy for all models",
         "x": 0.5
        },
        "xaxis": {
         "anchor": "y",
         "domain": [
          0,
          1
         ],
         "title": {
          "text": "Epoch"
         }
        },
        "yaxis": {
         "anchor": "x",
         "domain": [
          0,
          1
         ],
         "title": {
          "text": "Validation Accuracy"
         }
        }
       }
      }
     },
     "metadata": {},
     "output_type": "display_data"
    }
   ],
   "source": [
    "# Plotting the validation accuracy for the best and worst GRU and LSTM Models\n",
    "import plotly.express as px\n",
    "fig = px.line(x=range(0, len(history_32_GRU_128['val_accuracy'])), \n",
    "                y=[\n",
    "                    history_128_GRU_128['val_accuracy'],\n",
    "                    history_128_GRU_64['val_accuracy'],\n",
    "                    history_128_GRU_32['val_accuracy'],\n",
    "                    history_64_GRU_128['val_accuracy'],\n",
    "                    history_64_GRU_64['val_accuracy'],\n",
    "                    history_64_GRU_32['val_accuracy'],\n",
    "                    history_32_GRU_128['val_accuracy'],\n",
    "                    history_32_GRU_64['val_accuracy'],\n",
    "                    history_32_GRU_32['val_accuracy'],\n",
    "                    history_128_LSTM_128['val_accuracy'],\n",
    "                    history_128_LSTM_64['val_accuracy'],\n",
    "                    history_128_LSTM_32['val_accuracy'],\n",
    "                    history_64_LSTM_128['val_accuracy'],\n",
    "                    history_64_LSTM_64['val_accuracy'],\n",
    "                    history_64_LSTM_32['val_accuracy'],\n",
    "                    history_32_LSTM_128['val_accuracy'],\n",
    "                    history_32_LSTM_64['val_accuracy'],\n",
    "                    history_32_LSTM_32['val_accuracy'],\n",
    "                    ])\n",
    "\n",
    "fig.data[0].name = 'history_128_GRU_128'\n",
    "fig.data[1].name = 'history_128_GRU_64'\n",
    "fig.data[2].name = 'history_128_GRU_32'\n",
    "fig.data[3].name = 'history_64_GRU_128'\n",
    "fig.data[4].name = 'history_64_GRU_64'\n",
    "fig.data[5].name = 'history_64_GRU_32'\n",
    "fig.data[6].name = 'history_32_GRU_128'\n",
    "fig.data[7].name = 'history_32_GRU_64'\n",
    "fig.data[8].name = 'history_32_GRU_32'\n",
    "fig.data[9].name = 'history_128_LSTM_128'\n",
    "fig.data[10].name = 'history_128_LSTM_64'\n",
    "fig.data[11].name = 'history_128_LSTM_32'\n",
    "fig.data[12].name = 'history_64_LSTM_128'\n",
    "fig.data[13].name = 'history_64_LSTM_64'\n",
    "fig.data[14].name = 'history_64_LSTM_32'\n",
    "fig.data[15].name = 'history_32_LSTM_128'\n",
    "fig.data[16].name = 'history_32_LSTM_64'\n",
    "fig.data[17].name = 'history_32_LSTM_32'\n",
    "\n",
    "\n",
    "fig.layout.title.text = \"Validation Accuracy for all models\"\n",
    "fig.layout.title.x = .5\n",
    "fig.layout.yaxis.title.text = \"Validation Accuracy\"\n",
    "fig.layout.xaxis.title.text = \"Epoch\"\n",
    "\n",
    "fig.show()"
   ]
  },
  {
   "attachments": {},
   "cell_type": "markdown",
   "metadata": {},
   "source": [
    "We proceed diving deeper in the other variables utlizing GRU models only."
   ]
  },
  {
   "cell_type": "code",
   "execution_count": 283,
   "metadata": {},
   "outputs": [
    {
     "data": {
      "application/vnd.plotly.v1+json": {
       "config": {
        "plotlyServerURL": "https://plot.ly"
       },
       "data": [
        {
         "hovertemplate": "variable=wide_variable_0<br>x=%{x}<br>value=%{y}<extra></extra>",
         "legendgroup": "wide_variable_0",
         "line": {
          "color": "#636efa",
          "dash": "solid"
         },
         "marker": {
          "symbol": "circle"
         },
         "mode": "lines",
         "name": "batch size 128 validation loss value",
         "orientation": "v",
         "showlegend": true,
         "type": "scatter",
         "x": [
          0,
          1,
          2,
          3,
          4,
          5,
          6,
          7,
          8,
          9,
          10,
          11,
          12,
          13,
          14,
          15,
          16,
          17,
          18,
          19,
          20,
          21,
          22,
          23,
          24,
          25,
          26,
          27,
          28,
          29,
          30,
          31,
          32,
          33,
          34,
          35,
          36,
          37,
          38,
          39,
          40,
          41,
          42,
          43,
          44,
          45,
          46,
          47,
          48,
          49,
          50,
          51,
          52,
          53,
          54,
          55,
          56,
          57,
          58,
          59,
          60,
          61,
          62,
          63,
          64,
          65,
          66,
          67,
          68,
          69,
          70,
          71,
          72,
          73,
          74,
          75,
          76,
          77,
          78,
          79,
          80,
          81,
          82,
          83,
          84,
          85,
          86,
          87,
          88,
          89,
          90,
          91,
          92,
          93,
          94,
          95,
          96,
          97,
          98,
          99
         ],
         "xaxis": "x",
         "y": [
          0.6640302538871765,
          0.555217981338501,
          0.4816737771034241,
          0.4670087695121765,
          0.4147312045097351,
          0.4096522927284241,
          0.40294313430786133,
          0.3863295614719391,
          0.3919302821159363,
          0.3744642734527588,
          0.3690944314002991,
          0.3657296299934387,
          0.36797353625297546,
          0.3600999712944031,
          0.35305240750312805,
          0.35280171036720276,
          0.35276398062705994,
          0.3641628324985504,
          0.35092693567276,
          0.34119299054145813,
          0.37587594985961914,
          0.34810569882392883,
          0.3448448181152344,
          0.3538113832473755,
          0.33909839391708374,
          0.33265408873558044,
          0.3332684338092804,
          0.34163522720336914,
          0.34562963247299194,
          0.3286356031894684,
          0.32896971702575684,
          0.33435603976249695,
          0.33092033863067627,
          0.33131107687950134,
          0.3262880742549896,
          0.3286125361919403,
          0.32545119524002075,
          0.3281685411930084,
          0.3351270854473114,
          0.33302074670791626,
          0.3397737741470337,
          0.3271055817604065,
          0.33195698261260986,
          0.3311687409877777,
          0.3307362496852875,
          0.32760709524154663,
          0.32618579268455505,
          0.32586461305618286,
          0.3289898931980133,
          0.34171220660209656,
          0.3361375629901886,
          0.3287429213523865,
          0.3323885500431061,
          0.33327868580818176,
          0.3662108778953552,
          0.3328535258769989,
          0.34430235624313354,
          0.3443964123725891,
          0.3383840322494507,
          0.3430540859699249,
          0.3388926088809967,
          0.3427489697933197,
          0.3542928695678711,
          0.35083022713661194,
          0.3429352343082428,
          0.3426576256752014,
          0.3569892644882202,
          0.3627197742462158,
          0.36301517486572266,
          0.3600652515888214,
          0.4025537967681885,
          0.3530946969985962,
          0.3497176468372345,
          0.37315285205841064,
          0.3580358028411865,
          0.35847100615501404,
          0.37846705317497253,
          0.36902400851249695,
          0.3652636408805847,
          0.3710908591747284,
          0.39229071140289307,
          0.3785855770111084,
          0.38197028636932373,
          0.38862839341163635,
          0.38498032093048096,
          0.40041667222976685,
          0.39381876587867737,
          0.3931272029876709,
          0.39455446600914,
          0.4124309718608856,
          0.4048716127872467,
          0.40587908029556274,
          0.39955708384513855,
          0.40844544768333435,
          0.4152906835079193,
          0.42344656586647034,
          0.47363385558128357,
          0.5006798505783081,
          0.43366745114326477,
          0.436612069606781
         ],
         "yaxis": "y"
        },
        {
         "hovertemplate": "variable=wide_variable_1<br>x=%{x}<br>value=%{y}<extra></extra>",
         "legendgroup": "wide_variable_1",
         "line": {
          "color": "#EF553B",
          "dash": "solid"
         },
         "marker": {
          "symbol": "circle"
         },
         "mode": "lines",
         "name": "batch size 64 validation loss value",
         "orientation": "v",
         "showlegend": true,
         "type": "scatter",
         "x": [
          0,
          1,
          2,
          3,
          4,
          5,
          6,
          7,
          8,
          9,
          10,
          11,
          12,
          13,
          14,
          15,
          16,
          17,
          18,
          19,
          20,
          21,
          22,
          23,
          24,
          25,
          26,
          27,
          28,
          29,
          30,
          31,
          32,
          33,
          34,
          35,
          36,
          37,
          38,
          39,
          40,
          41,
          42,
          43,
          44,
          45,
          46,
          47,
          48,
          49,
          50,
          51,
          52,
          53,
          54,
          55,
          56,
          57,
          58,
          59,
          60,
          61,
          62,
          63,
          64,
          65,
          66,
          67,
          68,
          69,
          70,
          71,
          72,
          73,
          74,
          75,
          76,
          77,
          78,
          79,
          80,
          81,
          82,
          83,
          84,
          85,
          86,
          87,
          88,
          89,
          90,
          91,
          92,
          93,
          94,
          95,
          96,
          97,
          98,
          99
         ],
         "xaxis": "x",
         "y": [
          0.6436521410942078,
          0.5137474536895752,
          0.44970205426216125,
          0.4157610833644867,
          0.41303759813308716,
          0.4038342535495758,
          0.38119542598724365,
          0.3617647886276245,
          0.35777929425239563,
          0.352448970079422,
          0.35607102513313293,
          0.3458680510520935,
          0.35501065850257874,
          0.34233713150024414,
          0.343919962644577,
          0.3427148461341858,
          0.33452776074409485,
          0.35689884424209595,
          0.3325600028038025,
          0.3324224054813385,
          0.35003891587257385,
          0.33953994512557983,
          0.36247721314430237,
          0.3286965489387512,
          0.3392984867095947,
          0.33331504464149475,
          0.3515762686729431,
          0.3291780352592468,
          0.3268415629863739,
          0.3343522548675537,
          0.32846468687057495,
          0.32983532547950745,
          0.3704153895378113,
          0.3325302004814148,
          0.33348169922828674,
          0.33840832114219666,
          0.33198487758636475,
          0.33762499690055847,
          0.3372926115989685,
          0.3631725013256073,
          0.3345119059085846,
          0.3407335579395294,
          0.34290289878845215,
          0.3443252146244049,
          0.35873061418533325,
          0.3441930115222931,
          0.3550983965396881,
          0.3471025824546814,
          0.3588070571422577,
          0.35674968361854553,
          0.35387304425239563,
          0.3615383803844452,
          0.35915303230285645,
          0.36251211166381836,
          0.37045902013778687,
          0.3835802376270294,
          0.39897698163986206,
          0.38116225600242615,
          0.45180684328079224,
          0.39002421498298645,
          0.38362905383110046,
          0.5225602388381958,
          0.4528276324272156,
          0.40017205476760864,
          0.41449564695358276,
          0.4148634672164917,
          0.4107118248939514,
          0.42403003573417664,
          0.4296882152557373,
          0.46420231461524963,
          0.4371891915798187,
          0.4580531418323517,
          0.4596492350101471,
          0.4927557706832886,
          0.4485012888908386,
          0.4752102196216583,
          0.4948122203350067,
          0.4940631091594696,
          0.47722509503364563,
          0.49698129296302795,
          0.5149367451667786,
          0.5259854793548584,
          0.5105606317520142,
          0.5370588302612305,
          0.5455865263938904,
          0.5576204061508179,
          0.5663514733314514,
          0.6086646914482117,
          0.6094428896903992,
          0.6013113856315613,
          0.6296170949935913,
          0.6416285634040833,
          0.6534536480903625,
          0.6583782434463501,
          0.6927312612533569,
          0.6379491090774536,
          0.7193887829780579,
          0.6882453560829163,
          0.7411408424377441,
          0.7242252230644226
         ],
         "yaxis": "y"
        },
        {
         "hovertemplate": "variable=wide_variable_2<br>x=%{x}<br>value=%{y}<extra></extra>",
         "legendgroup": "wide_variable_2",
         "line": {
          "color": "#00cc96",
          "dash": "solid"
         },
         "marker": {
          "symbol": "circle"
         },
         "mode": "lines",
         "name": "batch size 32 validation loss value",
         "orientation": "v",
         "showlegend": true,
         "type": "scatter",
         "x": [
          0,
          1,
          2,
          3,
          4,
          5,
          6,
          7,
          8,
          9,
          10,
          11,
          12,
          13,
          14,
          15,
          16,
          17,
          18,
          19,
          20,
          21,
          22,
          23,
          24,
          25,
          26,
          27,
          28,
          29,
          30,
          31,
          32,
          33,
          34,
          35,
          36,
          37,
          38,
          39,
          40,
          41,
          42,
          43,
          44,
          45,
          46,
          47,
          48,
          49,
          50,
          51,
          52,
          53,
          54,
          55,
          56,
          57,
          58,
          59,
          60,
          61,
          62,
          63,
          64,
          65,
          66,
          67,
          68,
          69,
          70,
          71,
          72,
          73,
          74,
          75,
          76,
          77,
          78,
          79,
          80,
          81,
          82,
          83,
          84,
          85,
          86,
          87,
          88,
          89,
          90,
          91,
          92,
          93,
          94,
          95,
          96,
          97,
          98,
          99
         ],
         "xaxis": "x",
         "y": [
          0.5181218981742859,
          0.4476878046989441,
          0.40993526577949524,
          0.3831191062927246,
          0.3742915689945221,
          0.35849377512931824,
          0.3650015890598297,
          0.34640008211135864,
          0.3419458568096161,
          0.33750903606414795,
          0.3362876772880554,
          0.33181479573249817,
          0.331376314163208,
          0.3332669734954834,
          0.3293595314025879,
          0.3247900903224945,
          0.334243506193161,
          0.3315410912036896,
          0.32313603162765503,
          0.32260942459106445,
          0.32442158460617065,
          0.3242526650428772,
          0.33380773663520813,
          0.3453493118286133,
          0.3285757005214691,
          0.34705227613449097,
          0.3397553563117981,
          0.33628711104393005,
          0.3316497504711151,
          0.3853823244571686,
          0.3351761996746063,
          0.337259441614151,
          0.3532716631889343,
          0.35043373703956604,
          0.3539593517780304,
          0.39043158292770386,
          0.3688238859176636,
          0.35661181807518005,
          0.4135459363460541,
          0.3679952621459961,
          0.38702335953712463,
          0.41220614314079285,
          0.3928278684616089,
          0.4484331011772156,
          0.39486390352249146,
          0.448352575302124,
          0.4264211654663086,
          0.45588672161102295,
          0.43754076957702637,
          0.449292927980423,
          0.47827109694480896,
          0.47904640436172485,
          0.4776134192943573,
          0.48380008339881897,
          0.49497807025909424,
          0.5193954706192017,
          0.5445556044578552,
          0.5697867274284363,
          0.6073657870292664,
          0.6032804250717163,
          0.5874336957931519,
          0.6329468488693237,
          0.6616613268852234,
          0.6734253168106079,
          0.7333951592445374,
          0.7194477915763855,
          0.7304189205169678,
          0.7888879776000977,
          0.8032837510108948,
          0.8244275450706482,
          0.9513424038887024,
          0.9137260913848877,
          0.9101037979125977,
          0.9788649082183838,
          0.9883399605751038,
          1.0292689800262451,
          1.0330066680908203,
          1.0854566097259521,
          1.1297554969787598,
          1.1300268173217773,
          1.0952643156051636,
          1.0989750623703003,
          1.1610705852508545,
          1.2748630046844482,
          1.240502119064331,
          1.2073497772216797,
          1.2914159297943115,
          1.244626522064209,
          1.2699140310287476,
          1.3707016706466675,
          1.312563419342041,
          1.5271508693695068,
          1.3947426080703735,
          1.5435750484466553,
          1.2710150480270386,
          1.4278308153152466,
          1.3647798299789429,
          1.3967978954315186,
          1.4729901552200317,
          1.3737598657608032
         ],
         "yaxis": "y"
        },
        {
         "hovertemplate": "variable=wide_variable_3<br>x=%{x}<br>value=%{y}<extra></extra>",
         "legendgroup": "wide_variable_3",
         "line": {
          "color": "#ab63fa",
          "dash": "solid"
         },
         "marker": {
          "symbol": "circle"
         },
         "mode": "lines",
         "name": "batch size 128 validation accuracy value",
         "orientation": "v",
         "showlegend": true,
         "type": "scatter",
         "x": [
          0,
          1,
          2,
          3,
          4,
          5,
          6,
          7,
          8,
          9,
          10,
          11,
          12,
          13,
          14,
          15,
          16,
          17,
          18,
          19,
          20,
          21,
          22,
          23,
          24,
          25,
          26,
          27,
          28,
          29,
          30,
          31,
          32,
          33,
          34,
          35,
          36,
          37,
          38,
          39,
          40,
          41,
          42,
          43,
          44,
          45,
          46,
          47,
          48,
          49,
          50,
          51,
          52,
          53,
          54,
          55,
          56,
          57,
          58,
          59,
          60,
          61,
          62,
          63,
          64,
          65,
          66,
          67,
          68,
          69,
          70,
          71,
          72,
          73,
          74,
          75,
          76,
          77,
          78,
          79,
          80,
          81,
          82,
          83,
          84,
          85,
          86,
          87,
          88,
          89,
          90,
          91,
          92,
          93,
          94,
          95,
          96,
          97,
          98,
          99
         ],
         "xaxis": "x",
         "y": [
          0.5977500081062317,
          0.7077500224113464,
          0.7643749713897705,
          0.7751250267028809,
          0.8062499761581421,
          0.8073750138282776,
          0.812125027179718,
          0.8238750100135803,
          0.8212500214576721,
          0.8274999856948853,
          0.8308749794960022,
          0.8343750238418579,
          0.8348749876022339,
          0.8376250267028809,
          0.8396250009536743,
          0.8412500023841858,
          0.843999981880188,
          0.8355000019073486,
          0.843500018119812,
          0.847000002861023,
          0.8306249976158142,
          0.8443750143051147,
          0.8463749885559082,
          0.843999981880188,
          0.8476250171661377,
          0.8527500033378601,
          0.8522499799728394,
          0.8504999876022339,
          0.8485000133514404,
          0.856124997138977,
          0.8550000190734863,
          0.8533750176429749,
          0.8573750257492065,
          0.856374979019165,
          0.8573750257492065,
          0.8547499775886536,
          0.8576250076293945,
          0.8553749918937683,
          0.8527500033378601,
          0.8552500009536743,
          0.8522499799728394,
          0.859000027179718,
          0.8568750023841858,
          0.8569999933242798,
          0.8543750047683716,
          0.8583750128746033,
          0.8604999780654907,
          0.859749972820282,
          0.8565000295639038,
          0.8575000166893005,
          0.8547499775886536,
          0.8618749976158142,
          0.862500011920929,
          0.8568750023841858,
          0.8493750095367432,
          0.8600000143051147,
          0.8585000038146973,
          0.859749972820282,
          0.8598750233650208,
          0.8629999756813049,
          0.8601250052452087,
          0.8567500114440918,
          0.8576250076293945,
          0.8543750047683716,
          0.8617500066757202,
          0.8603749871253967,
          0.8601250052452087,
          0.8511250019073486,
          0.8531249761581421,
          0.8503749966621399,
          0.8477500081062317,
          0.8601250052452087,
          0.8569999933242798,
          0.8583750128746033,
          0.859000027179718,
          0.8617500066757202,
          0.8565000295639038,
          0.8546249866485596,
          0.8588749766349792,
          0.8587499856948853,
          0.856124997138977,
          0.8618749976158142,
          0.8523749709129333,
          0.8611249923706055,
          0.859624981880188,
          0.8576250076293945,
          0.8547499775886536,
          0.8575000166893005,
          0.8610000014305115,
          0.8553749918937683,
          0.859499990940094,
          0.8602499961853027,
          0.859250009059906,
          0.8608750104904175,
          0.8581249713897705,
          0.8512499928474426,
          0.8385000228881836,
          0.8289999961853027,
          0.8582500219345093,
          0.8554999828338623
         ],
         "yaxis": "y"
        },
        {
         "hovertemplate": "variable=wide_variable_4<br>x=%{x}<br>value=%{y}<extra></extra>",
         "legendgroup": "wide_variable_4",
         "line": {
          "color": "#FFA15A",
          "dash": "solid"
         },
         "marker": {
          "symbol": "circle"
         },
         "mode": "lines",
         "name": "batch size 64 validation accuracy value",
         "orientation": "v",
         "showlegend": true,
         "type": "scatter",
         "x": [
          0,
          1,
          2,
          3,
          4,
          5,
          6,
          7,
          8,
          9,
          10,
          11,
          12,
          13,
          14,
          15,
          16,
          17,
          18,
          19,
          20,
          21,
          22,
          23,
          24,
          25,
          26,
          27,
          28,
          29,
          30,
          31,
          32,
          33,
          34,
          35,
          36,
          37,
          38,
          39,
          40,
          41,
          42,
          43,
          44,
          45,
          46,
          47,
          48,
          49,
          50,
          51,
          52,
          53,
          54,
          55,
          56,
          57,
          58,
          59,
          60,
          61,
          62,
          63,
          64,
          65,
          66,
          67,
          68,
          69,
          70,
          71,
          72,
          73,
          74,
          75,
          76,
          77,
          78,
          79,
          80,
          81,
          82,
          83,
          84,
          85,
          86,
          87,
          88,
          89,
          90,
          91,
          92,
          93,
          94,
          95,
          96,
          97,
          98,
          99
         ],
         "xaxis": "x",
         "y": [
          0.6237499713897705,
          0.7421249747276306,
          0.8013749718666077,
          0.8109999895095825,
          0.8118749856948853,
          0.8137500286102295,
          0.8286250233650208,
          0.8397499918937683,
          0.8411250114440918,
          0.8447499871253967,
          0.8408750295639038,
          0.8476250171661377,
          0.8427500128746033,
          0.8495000004768372,
          0.8479999899864197,
          0.8473749756813049,
          0.8533750176429749,
          0.8454999923706055,
          0.8557500243186951,
          0.8554999828338623,
          0.8428750038146973,
          0.8525000214576721,
          0.8414999842643738,
          0.859125018119812,
          0.8507500290870667,
          0.8557500243186951,
          0.846875011920929,
          0.8598750233650208,
          0.8583750128746033,
          0.8550000190734863,
          0.859375,
          0.8579999804496765,
          0.8443750143051147,
          0.8600000143051147,
          0.8573750257492065,
          0.8567500114440918,
          0.8588749766349792,
          0.859250009059906,
          0.8551250100135803,
          0.8496249914169312,
          0.8581249713897705,
          0.8573750257492065,
          0.859749972820282,
          0.859499990940094,
          0.8538749814033508,
          0.8588749766349792,
          0.8538749814033508,
          0.8575000166893005,
          0.8571249842643738,
          0.856249988079071,
          0.8581249713897705,
          0.8583750128746033,
          0.856249988079071,
          0.8554999828338623,
          0.8533750176429749,
          0.8548750281333923,
          0.8529999852180481,
          0.8577499985694885,
          0.8342499732971191,
          0.8504999876022339,
          0.8548750281333923,
          0.8132500052452087,
          0.8443750143051147,
          0.8558750152587891,
          0.8573750257492065,
          0.8558750152587891,
          0.8543750047683716,
          0.8565000295639038,
          0.8526250123977661,
          0.8476250171661377,
          0.8508750200271606,
          0.8511250019073486,
          0.8510000109672546,
          0.8450000286102295,
          0.8538749814033508,
          0.8487499952316284,
          0.8452500104904175,
          0.8513749837875366,
          0.8535000085830688,
          0.8512499928474426,
          0.8508750200271606,
          0.8518750071525574,
          0.8488749861717224,
          0.8508750200271606,
          0.8488749861717224,
          0.8491250276565552,
          0.846875011920929,
          0.8503749966621399,
          0.8492500185966492,
          0.8488749861717224,
          0.8472499847412109,
          0.8418750166893005,
          0.8479999899864197,
          0.846750020980835,
          0.8451250195503235,
          0.843999981880188,
          0.8460000157356262,
          0.8452500104904175,
          0.8460000157356262,
          0.8443750143051147
         ],
         "yaxis": "y"
        },
        {
         "hovertemplate": "variable=wide_variable_5<br>x=%{x}<br>value=%{y}<extra></extra>",
         "legendgroup": "wide_variable_5",
         "line": {
          "color": "#19d3f3",
          "dash": "solid"
         },
         "marker": {
          "symbol": "circle"
         },
         "mode": "lines",
         "name": "batch size 32 validation accuracy value",
         "orientation": "v",
         "showlegend": true,
         "type": "scatter",
         "x": [
          0,
          1,
          2,
          3,
          4,
          5,
          6,
          7,
          8,
          9,
          10,
          11,
          12,
          13,
          14,
          15,
          16,
          17,
          18,
          19,
          20,
          21,
          22,
          23,
          24,
          25,
          26,
          27,
          28,
          29,
          30,
          31,
          32,
          33,
          34,
          35,
          36,
          37,
          38,
          39,
          40,
          41,
          42,
          43,
          44,
          45,
          46,
          47,
          48,
          49,
          50,
          51,
          52,
          53,
          54,
          55,
          56,
          57,
          58,
          59,
          60,
          61,
          62,
          63,
          64,
          65,
          66,
          67,
          68,
          69,
          70,
          71,
          72,
          73,
          74,
          75,
          76,
          77,
          78,
          79,
          80,
          81,
          82,
          83,
          84,
          85,
          86,
          87,
          88,
          89,
          90,
          91,
          92,
          93,
          94,
          95,
          96,
          97,
          98,
          99
         ],
         "xaxis": "x",
         "y": [
          0.7371249794960022,
          0.7892500162124634,
          0.809374988079071,
          0.8271250128746033,
          0.8264999985694885,
          0.8388749957084656,
          0.8328750133514404,
          0.8428750038146973,
          0.8452500104904175,
          0.8464999794960022,
          0.8510000109672546,
          0.8523749709129333,
          0.8512499928474426,
          0.8553749918937683,
          0.8547499775886536,
          0.8578749895095825,
          0.8529999852180481,
          0.8526250123977661,
          0.8569999933242798,
          0.8598750233650208,
          0.8587499856948853,
          0.8613749742507935,
          0.8560000061988831,
          0.8546249866485596,
          0.859624981880188,
          0.8488749861717224,
          0.8629999756813049,
          0.859624981880188,
          0.862625002861023,
          0.8414999842643738,
          0.8612499833106995,
          0.8616250157356262,
          0.8573750257492065,
          0.8585000038146973,
          0.8578749895095825,
          0.8504999876022339,
          0.8537499904632568,
          0.8571249842643738,
          0.840749979019165,
          0.8579999804496765,
          0.8529999852180481,
          0.8456249833106995,
          0.8557500243186951,
          0.8446249961853027,
          0.8587499856948853,
          0.8397499918937683,
          0.8533750176429749,
          0.847000002861023,
          0.8541250228881836,
          0.8532500267028809,
          0.8546249866485596,
          0.8531249761581421,
          0.8519999980926514,
          0.8510000109672546,
          0.8458750247955322,
          0.8473749756813049,
          0.8511250019073486,
          0.8477500081062317,
          0.8454999923706055,
          0.8525000214576721,
          0.8447499871253967,
          0.8460000157356262,
          0.8492500185966492,
          0.846750020980835,
          0.8460000157356262,
          0.8478749990463257,
          0.8432499766349792,
          0.844124972820282,
          0.8442500233650208,
          0.846750020980835,
          0.8385000228881836,
          0.8463749885559082,
          0.8450000286102295,
          0.8401250243186951,
          0.8450000286102295,
          0.8422499895095825,
          0.843375027179718,
          0.8420000076293945,
          0.8443750143051147,
          0.8370000123977661,
          0.8420000076293945,
          0.8457499742507935,
          0.844124972820282,
          0.8426250219345093,
          0.843625009059906,
          0.8424999713897705,
          0.8452500104904175,
          0.8423749804496765,
          0.8429999947547913,
          0.8420000076293945,
          0.8451250195503235,
          0.8332499861717224,
          0.8421249985694885,
          0.8401250243186951,
          0.843625009059906,
          0.8424999713897705,
          0.8446249961853027,
          0.843999981880188,
          0.843874990940094,
          0.8428750038146973
         ],
         "yaxis": "y"
        }
       ],
       "layout": {
        "legend": {
         "title": {
          "text": "variable"
         },
         "tracegroupgap": 0
        },
        "margin": {
         "t": 60
        },
        "template": {
         "data": {
          "bar": [
           {
            "error_x": {
             "color": "#2a3f5f"
            },
            "error_y": {
             "color": "#2a3f5f"
            },
            "marker": {
             "line": {
              "color": "#E5ECF6",
              "width": 0.5
             },
             "pattern": {
              "fillmode": "overlay",
              "size": 10,
              "solidity": 0.2
             }
            },
            "type": "bar"
           }
          ],
          "barpolar": [
           {
            "marker": {
             "line": {
              "color": "#E5ECF6",
              "width": 0.5
             },
             "pattern": {
              "fillmode": "overlay",
              "size": 10,
              "solidity": 0.2
             }
            },
            "type": "barpolar"
           }
          ],
          "carpet": [
           {
            "aaxis": {
             "endlinecolor": "#2a3f5f",
             "gridcolor": "white",
             "linecolor": "white",
             "minorgridcolor": "white",
             "startlinecolor": "#2a3f5f"
            },
            "baxis": {
             "endlinecolor": "#2a3f5f",
             "gridcolor": "white",
             "linecolor": "white",
             "minorgridcolor": "white",
             "startlinecolor": "#2a3f5f"
            },
            "type": "carpet"
           }
          ],
          "choropleth": [
           {
            "colorbar": {
             "outlinewidth": 0,
             "ticks": ""
            },
            "type": "choropleth"
           }
          ],
          "contour": [
           {
            "colorbar": {
             "outlinewidth": 0,
             "ticks": ""
            },
            "colorscale": [
             [
              0,
              "#0d0887"
             ],
             [
              0.1111111111111111,
              "#46039f"
             ],
             [
              0.2222222222222222,
              "#7201a8"
             ],
             [
              0.3333333333333333,
              "#9c179e"
             ],
             [
              0.4444444444444444,
              "#bd3786"
             ],
             [
              0.5555555555555556,
              "#d8576b"
             ],
             [
              0.6666666666666666,
              "#ed7953"
             ],
             [
              0.7777777777777778,
              "#fb9f3a"
             ],
             [
              0.8888888888888888,
              "#fdca26"
             ],
             [
              1,
              "#f0f921"
             ]
            ],
            "type": "contour"
           }
          ],
          "contourcarpet": [
           {
            "colorbar": {
             "outlinewidth": 0,
             "ticks": ""
            },
            "type": "contourcarpet"
           }
          ],
          "heatmap": [
           {
            "colorbar": {
             "outlinewidth": 0,
             "ticks": ""
            },
            "colorscale": [
             [
              0,
              "#0d0887"
             ],
             [
              0.1111111111111111,
              "#46039f"
             ],
             [
              0.2222222222222222,
              "#7201a8"
             ],
             [
              0.3333333333333333,
              "#9c179e"
             ],
             [
              0.4444444444444444,
              "#bd3786"
             ],
             [
              0.5555555555555556,
              "#d8576b"
             ],
             [
              0.6666666666666666,
              "#ed7953"
             ],
             [
              0.7777777777777778,
              "#fb9f3a"
             ],
             [
              0.8888888888888888,
              "#fdca26"
             ],
             [
              1,
              "#f0f921"
             ]
            ],
            "type": "heatmap"
           }
          ],
          "heatmapgl": [
           {
            "colorbar": {
             "outlinewidth": 0,
             "ticks": ""
            },
            "colorscale": [
             [
              0,
              "#0d0887"
             ],
             [
              0.1111111111111111,
              "#46039f"
             ],
             [
              0.2222222222222222,
              "#7201a8"
             ],
             [
              0.3333333333333333,
              "#9c179e"
             ],
             [
              0.4444444444444444,
              "#bd3786"
             ],
             [
              0.5555555555555556,
              "#d8576b"
             ],
             [
              0.6666666666666666,
              "#ed7953"
             ],
             [
              0.7777777777777778,
              "#fb9f3a"
             ],
             [
              0.8888888888888888,
              "#fdca26"
             ],
             [
              1,
              "#f0f921"
             ]
            ],
            "type": "heatmapgl"
           }
          ],
          "histogram": [
           {
            "marker": {
             "pattern": {
              "fillmode": "overlay",
              "size": 10,
              "solidity": 0.2
             }
            },
            "type": "histogram"
           }
          ],
          "histogram2d": [
           {
            "colorbar": {
             "outlinewidth": 0,
             "ticks": ""
            },
            "colorscale": [
             [
              0,
              "#0d0887"
             ],
             [
              0.1111111111111111,
              "#46039f"
             ],
             [
              0.2222222222222222,
              "#7201a8"
             ],
             [
              0.3333333333333333,
              "#9c179e"
             ],
             [
              0.4444444444444444,
              "#bd3786"
             ],
             [
              0.5555555555555556,
              "#d8576b"
             ],
             [
              0.6666666666666666,
              "#ed7953"
             ],
             [
              0.7777777777777778,
              "#fb9f3a"
             ],
             [
              0.8888888888888888,
              "#fdca26"
             ],
             [
              1,
              "#f0f921"
             ]
            ],
            "type": "histogram2d"
           }
          ],
          "histogram2dcontour": [
           {
            "colorbar": {
             "outlinewidth": 0,
             "ticks": ""
            },
            "colorscale": [
             [
              0,
              "#0d0887"
             ],
             [
              0.1111111111111111,
              "#46039f"
             ],
             [
              0.2222222222222222,
              "#7201a8"
             ],
             [
              0.3333333333333333,
              "#9c179e"
             ],
             [
              0.4444444444444444,
              "#bd3786"
             ],
             [
              0.5555555555555556,
              "#d8576b"
             ],
             [
              0.6666666666666666,
              "#ed7953"
             ],
             [
              0.7777777777777778,
              "#fb9f3a"
             ],
             [
              0.8888888888888888,
              "#fdca26"
             ],
             [
              1,
              "#f0f921"
             ]
            ],
            "type": "histogram2dcontour"
           }
          ],
          "mesh3d": [
           {
            "colorbar": {
             "outlinewidth": 0,
             "ticks": ""
            },
            "type": "mesh3d"
           }
          ],
          "parcoords": [
           {
            "line": {
             "colorbar": {
              "outlinewidth": 0,
              "ticks": ""
             }
            },
            "type": "parcoords"
           }
          ],
          "pie": [
           {
            "automargin": true,
            "type": "pie"
           }
          ],
          "scatter": [
           {
            "fillpattern": {
             "fillmode": "overlay",
             "size": 10,
             "solidity": 0.2
            },
            "type": "scatter"
           }
          ],
          "scatter3d": [
           {
            "line": {
             "colorbar": {
              "outlinewidth": 0,
              "ticks": ""
             }
            },
            "marker": {
             "colorbar": {
              "outlinewidth": 0,
              "ticks": ""
             }
            },
            "type": "scatter3d"
           }
          ],
          "scattercarpet": [
           {
            "marker": {
             "colorbar": {
              "outlinewidth": 0,
              "ticks": ""
             }
            },
            "type": "scattercarpet"
           }
          ],
          "scattergeo": [
           {
            "marker": {
             "colorbar": {
              "outlinewidth": 0,
              "ticks": ""
             }
            },
            "type": "scattergeo"
           }
          ],
          "scattergl": [
           {
            "marker": {
             "colorbar": {
              "outlinewidth": 0,
              "ticks": ""
             }
            },
            "type": "scattergl"
           }
          ],
          "scattermapbox": [
           {
            "marker": {
             "colorbar": {
              "outlinewidth": 0,
              "ticks": ""
             }
            },
            "type": "scattermapbox"
           }
          ],
          "scatterpolar": [
           {
            "marker": {
             "colorbar": {
              "outlinewidth": 0,
              "ticks": ""
             }
            },
            "type": "scatterpolar"
           }
          ],
          "scatterpolargl": [
           {
            "marker": {
             "colorbar": {
              "outlinewidth": 0,
              "ticks": ""
             }
            },
            "type": "scatterpolargl"
           }
          ],
          "scatterternary": [
           {
            "marker": {
             "colorbar": {
              "outlinewidth": 0,
              "ticks": ""
             }
            },
            "type": "scatterternary"
           }
          ],
          "surface": [
           {
            "colorbar": {
             "outlinewidth": 0,
             "ticks": ""
            },
            "colorscale": [
             [
              0,
              "#0d0887"
             ],
             [
              0.1111111111111111,
              "#46039f"
             ],
             [
              0.2222222222222222,
              "#7201a8"
             ],
             [
              0.3333333333333333,
              "#9c179e"
             ],
             [
              0.4444444444444444,
              "#bd3786"
             ],
             [
              0.5555555555555556,
              "#d8576b"
             ],
             [
              0.6666666666666666,
              "#ed7953"
             ],
             [
              0.7777777777777778,
              "#fb9f3a"
             ],
             [
              0.8888888888888888,
              "#fdca26"
             ],
             [
              1,
              "#f0f921"
             ]
            ],
            "type": "surface"
           }
          ],
          "table": [
           {
            "cells": {
             "fill": {
              "color": "#EBF0F8"
             },
             "line": {
              "color": "white"
             }
            },
            "header": {
             "fill": {
              "color": "#C8D4E3"
             },
             "line": {
              "color": "white"
             }
            },
            "type": "table"
           }
          ]
         },
         "layout": {
          "annotationdefaults": {
           "arrowcolor": "#2a3f5f",
           "arrowhead": 0,
           "arrowwidth": 1
          },
          "autotypenumbers": "strict",
          "coloraxis": {
           "colorbar": {
            "outlinewidth": 0,
            "ticks": ""
           }
          },
          "colorscale": {
           "diverging": [
            [
             0,
             "#8e0152"
            ],
            [
             0.1,
             "#c51b7d"
            ],
            [
             0.2,
             "#de77ae"
            ],
            [
             0.3,
             "#f1b6da"
            ],
            [
             0.4,
             "#fde0ef"
            ],
            [
             0.5,
             "#f7f7f7"
            ],
            [
             0.6,
             "#e6f5d0"
            ],
            [
             0.7,
             "#b8e186"
            ],
            [
             0.8,
             "#7fbc41"
            ],
            [
             0.9,
             "#4d9221"
            ],
            [
             1,
             "#276419"
            ]
           ],
           "sequential": [
            [
             0,
             "#0d0887"
            ],
            [
             0.1111111111111111,
             "#46039f"
            ],
            [
             0.2222222222222222,
             "#7201a8"
            ],
            [
             0.3333333333333333,
             "#9c179e"
            ],
            [
             0.4444444444444444,
             "#bd3786"
            ],
            [
             0.5555555555555556,
             "#d8576b"
            ],
            [
             0.6666666666666666,
             "#ed7953"
            ],
            [
             0.7777777777777778,
             "#fb9f3a"
            ],
            [
             0.8888888888888888,
             "#fdca26"
            ],
            [
             1,
             "#f0f921"
            ]
           ],
           "sequentialminus": [
            [
             0,
             "#0d0887"
            ],
            [
             0.1111111111111111,
             "#46039f"
            ],
            [
             0.2222222222222222,
             "#7201a8"
            ],
            [
             0.3333333333333333,
             "#9c179e"
            ],
            [
             0.4444444444444444,
             "#bd3786"
            ],
            [
             0.5555555555555556,
             "#d8576b"
            ],
            [
             0.6666666666666666,
             "#ed7953"
            ],
            [
             0.7777777777777778,
             "#fb9f3a"
            ],
            [
             0.8888888888888888,
             "#fdca26"
            ],
            [
             1,
             "#f0f921"
            ]
           ]
          },
          "colorway": [
           "#636efa",
           "#EF553B",
           "#00cc96",
           "#ab63fa",
           "#FFA15A",
           "#19d3f3",
           "#FF6692",
           "#B6E880",
           "#FF97FF",
           "#FECB52"
          ],
          "font": {
           "color": "#2a3f5f"
          },
          "geo": {
           "bgcolor": "white",
           "lakecolor": "white",
           "landcolor": "#E5ECF6",
           "showlakes": true,
           "showland": true,
           "subunitcolor": "white"
          },
          "hoverlabel": {
           "align": "left"
          },
          "hovermode": "closest",
          "mapbox": {
           "style": "light"
          },
          "paper_bgcolor": "white",
          "plot_bgcolor": "#E5ECF6",
          "polar": {
           "angularaxis": {
            "gridcolor": "white",
            "linecolor": "white",
            "ticks": ""
           },
           "bgcolor": "#E5ECF6",
           "radialaxis": {
            "gridcolor": "white",
            "linecolor": "white",
            "ticks": ""
           }
          },
          "scene": {
           "xaxis": {
            "backgroundcolor": "#E5ECF6",
            "gridcolor": "white",
            "gridwidth": 2,
            "linecolor": "white",
            "showbackground": true,
            "ticks": "",
            "zerolinecolor": "white"
           },
           "yaxis": {
            "backgroundcolor": "#E5ECF6",
            "gridcolor": "white",
            "gridwidth": 2,
            "linecolor": "white",
            "showbackground": true,
            "ticks": "",
            "zerolinecolor": "white"
           },
           "zaxis": {
            "backgroundcolor": "#E5ECF6",
            "gridcolor": "white",
            "gridwidth": 2,
            "linecolor": "white",
            "showbackground": true,
            "ticks": "",
            "zerolinecolor": "white"
           }
          },
          "shapedefaults": {
           "line": {
            "color": "#2a3f5f"
           }
          },
          "ternary": {
           "aaxis": {
            "gridcolor": "white",
            "linecolor": "white",
            "ticks": ""
           },
           "baxis": {
            "gridcolor": "white",
            "linecolor": "white",
            "ticks": ""
           },
           "bgcolor": "#E5ECF6",
           "caxis": {
            "gridcolor": "white",
            "linecolor": "white",
            "ticks": ""
           }
          },
          "title": {
           "x": 0.05
          },
          "xaxis": {
           "automargin": true,
           "gridcolor": "white",
           "linecolor": "white",
           "ticks": "",
           "title": {
            "standoff": 15
           },
           "zerolinecolor": "white",
           "zerolinewidth": 2
          },
          "yaxis": {
           "automargin": true,
           "gridcolor": "white",
           "linecolor": "white",
           "ticks": "",
           "title": {
            "standoff": 15
           },
           "zerolinecolor": "white",
           "zerolinewidth": 2
          }
         }
        },
        "title": {
         "text": "Validation Loss and accuracy for GRU models with different batch size and layer size of 128",
         "x": 0.5
        },
        "xaxis": {
         "anchor": "y",
         "domain": [
          0,
          1
         ],
         "title": {
          "text": "Epoch"
         }
        },
        "yaxis": {
         "anchor": "x",
         "domain": [
          0,
          1
         ],
         "title": {
          "text": "Loss/accuracy"
         }
        }
       }
      }
     },
     "metadata": {},
     "output_type": "display_data"
    }
   ],
   "source": [
    "import plotly.express as px\n",
    "fig = px.line(x=range(0, len(history_128_GRU_128['val_loss'])), y=[history_128_GRU_128['val_loss'], history_128_GRU_64['val_loss'], history_128_GRU_32['val_loss'], history_128_GRU_128['val_accuracy'], history_128_GRU_64['val_accuracy'], history_128_GRU_32['val_accuracy']])\n",
    "fig.data[0].name = \"batch size 128 validation loss value\"\n",
    "fig.data[1].name = \"batch size 64 validation loss value\"\n",
    "fig.data[2].name = \"batch size 32 validation loss value\"\n",
    "fig.data[3].name = \"batch size 128 validation accuracy value\"\n",
    "fig.data[4].name = \"batch size 64 validation accuracy value\"\n",
    "fig.data[5].name = \"batch size 32 validation accuracy value\"\n",
    "fig.layout.title.text = \"Validation Loss and accuracy for GRU models with different batch size and layer size of 128\"\n",
    "fig.layout.title.x = .5\n",
    "fig.layout.yaxis.title.text = \"Loss/accuracy\"\n",
    "fig.layout.xaxis.title.text = \"Epoch\"\n",
    "\n",
    "fig.show()"
   ]
  },
  {
   "cell_type": "code",
   "execution_count": 284,
   "metadata": {},
   "outputs": [
    {
     "data": {
      "application/vnd.plotly.v1+json": {
       "config": {
        "plotlyServerURL": "https://plot.ly"
       },
       "data": [
        {
         "hovertemplate": "variable=wide_variable_0<br>x=%{x}<br>value=%{y}<extra></extra>",
         "legendgroup": "wide_variable_0",
         "line": {
          "color": "#636efa",
          "dash": "solid"
         },
         "marker": {
          "symbol": "circle"
         },
         "mode": "lines",
         "name": "batch size 128 validation loss value",
         "orientation": "v",
         "showlegend": true,
         "type": "scatter",
         "x": [
          0,
          1,
          2,
          3,
          4,
          5,
          6,
          7,
          8,
          9,
          10,
          11,
          12,
          13,
          14,
          15,
          16,
          17,
          18,
          19,
          20,
          21,
          22,
          23,
          24,
          25,
          26,
          27,
          28,
          29,
          30,
          31,
          32,
          33,
          34,
          35,
          36,
          37,
          38,
          39,
          40,
          41,
          42,
          43,
          44,
          45,
          46,
          47,
          48,
          49,
          50,
          51,
          52,
          53,
          54,
          55,
          56,
          57,
          58,
          59,
          60,
          61,
          62,
          63,
          64,
          65,
          66,
          67,
          68,
          69,
          70,
          71,
          72,
          73,
          74,
          75,
          76,
          77,
          78,
          79,
          80,
          81,
          82,
          83,
          84,
          85,
          86,
          87,
          88,
          89,
          90,
          91,
          92,
          93,
          94,
          95,
          96,
          97,
          98,
          99
         ],
         "xaxis": "x",
         "y": [
          0.6768356561660767,
          0.6360131502151489,
          0.5391632318496704,
          0.5058500170707703,
          0.4844554662704468,
          0.46659496426582336,
          0.4582809805870056,
          0.43859758973121643,
          0.4072062373161316,
          0.40139099955558777,
          0.3908524513244629,
          0.3855930268764496,
          0.3836655020713806,
          0.3821241557598114,
          0.3752550482749939,
          0.3722899258136749,
          0.37670019268989563,
          0.38042178750038147,
          0.365243136882782,
          0.3622584939002991,
          0.36299774050712585,
          0.3636060655117035,
          0.36603879928588867,
          0.3584848940372467,
          0.35420408844947815,
          0.3556881844997406,
          0.3521331548690796,
          0.3504141569137573,
          0.35319724678993225,
          0.35146647691726685,
          0.3571321964263916,
          0.35158470273017883,
          0.3448778986930847,
          0.3536783456802368,
          0.3444974422454834,
          0.34270793199539185,
          0.34261399507522583,
          0.34125351905822754,
          0.34288489818573,
          0.3469862639904022,
          0.34851139783859253,
          0.3407191038131714,
          0.3383021354675293,
          0.33794668316841125,
          0.3376680016517639,
          0.35794636607170105,
          0.339858740568161,
          0.3403179347515106,
          0.354653537273407,
          0.3378102779388428,
          0.3414241075515747,
          0.3446439802646637,
          0.34888190031051636,
          0.33729252219200134,
          0.33513376116752625,
          0.3357146084308624,
          0.34035980701446533,
          0.3458828330039978,
          0.336050420999527,
          0.33982235193252563,
          0.3354766070842743,
          0.35072827339172363,
          0.33632907271385193,
          0.33756089210510254,
          0.33639273047447205,
          0.33731698989868164,
          0.33643224835395813,
          0.3401057720184326,
          0.3365629017353058,
          0.34024637937545776,
          0.3490583598613739,
          0.33727750182151794,
          0.3378926217556,
          0.33749955892562866,
          0.33936598896980286,
          0.3367047905921936,
          0.3401651680469513,
          0.3427831828594208,
          0.33856672048568726,
          0.3387535810470581,
          0.34843873977661133,
          0.34544244408607483,
          0.3434262275695801,
          0.3405008912086487,
          0.33846330642700195,
          0.3482320010662079,
          0.340483158826828,
          0.3465897738933563,
          0.3410499095916748,
          0.34551486372947693,
          0.3453390598297119,
          0.34098026156425476,
          0.3534179925918579,
          0.3472636640071869,
          0.3458881080150604,
          0.3499624729156494,
          0.35236266255378723,
          0.34722599387168884,
          0.36270973086357117,
          0.3551709055900574
         ],
         "yaxis": "y"
        },
        {
         "hovertemplate": "variable=wide_variable_1<br>x=%{x}<br>value=%{y}<extra></extra>",
         "legendgroup": "wide_variable_1",
         "line": {
          "color": "#EF553B",
          "dash": "solid"
         },
         "marker": {
          "symbol": "circle"
         },
         "mode": "lines",
         "name": "batch size 64 validation loss value",
         "orientation": "v",
         "showlegend": true,
         "type": "scatter",
         "x": [
          0,
          1,
          2,
          3,
          4,
          5,
          6,
          7,
          8,
          9,
          10,
          11,
          12,
          13,
          14,
          15,
          16,
          17,
          18,
          19,
          20,
          21,
          22,
          23,
          24,
          25,
          26,
          27,
          28,
          29,
          30,
          31,
          32,
          33,
          34,
          35,
          36,
          37,
          38,
          39,
          40,
          41,
          42,
          43,
          44,
          45,
          46,
          47,
          48,
          49,
          50,
          51,
          52,
          53,
          54,
          55,
          56,
          57,
          58,
          59,
          60,
          61,
          62,
          63,
          64,
          65,
          66,
          67,
          68,
          69,
          70,
          71,
          72,
          73,
          74,
          75,
          76,
          77,
          78,
          79,
          80,
          81,
          82,
          83,
          84,
          85,
          86,
          87,
          88,
          89,
          90,
          91,
          92,
          93,
          94,
          95,
          96,
          97,
          98,
          99
         ],
         "xaxis": "x",
         "y": [
          0.6671100854873657,
          0.5451692342758179,
          0.46561166644096375,
          0.43858304619789124,
          0.41377899050712585,
          0.4026045501232147,
          0.39561402797698975,
          0.3867720663547516,
          0.40196493268013,
          0.3743998408317566,
          0.37363746762275696,
          0.3661869168281555,
          0.3623301386833191,
          0.35968509316444397,
          0.3562815189361572,
          0.35462215542793274,
          0.3526800274848938,
          0.35253584384918213,
          0.3523012399673462,
          0.35381177067756653,
          0.3459652364253998,
          0.34630200266838074,
          0.35046982765197754,
          0.3473506569862366,
          0.3397722542285919,
          0.360417902469635,
          0.34656697511672974,
          0.33835431933403015,
          0.33953922986984253,
          0.3374424874782562,
          0.334993839263916,
          0.33667683601379395,
          0.33978474140167236,
          0.3392919898033142,
          0.33424291014671326,
          0.33533981442451477,
          0.3319303095340729,
          0.33543160557746887,
          0.3357221484184265,
          0.32983943819999695,
          0.331499844789505,
          0.33034804463386536,
          0.3284829258918762,
          0.32865166664123535,
          0.33001676201820374,
          0.32858806848526,
          0.32878777384757996,
          0.32983869314193726,
          0.3397744297981262,
          0.33514589071273804,
          0.3289874494075775,
          0.32818838953971863,
          0.32857567071914673,
          0.3340224027633667,
          0.3278910219669342,
          0.3365803360939026,
          0.33013585209846497,
          0.330799400806427,
          0.33014342188835144,
          0.34319084882736206,
          0.3327794671058655,
          0.33281201124191284,
          0.3343556523323059,
          0.3313131332397461,
          0.33182600140571594,
          0.3337557315826416,
          0.3340205252170563,
          0.33902037143707275,
          0.3372107744216919,
          0.33734390139579773,
          0.3382419943809509,
          0.3477497696876526,
          0.33359816670417786,
          0.3359396159648895,
          0.3442876636981964,
          0.3389383852481842,
          0.35020679235458374,
          0.34191060066223145,
          0.34540170431137085,
          0.3529209494590759,
          0.3449532687664032,
          0.3457379639148712,
          0.3489345610141754,
          0.34762364625930786,
          0.35865291953086853,
          0.3729521632194519,
          0.34990647435188293,
          0.3523232936859131,
          0.35412347316741943,
          0.3474772870540619,
          0.3491654694080353,
          0.35229039192199707,
          0.3565526306629181,
          0.3586055636405945,
          0.35818296670913696,
          0.3676953911781311,
          0.3685714900493622,
          0.3633609116077423,
          0.38669389486312866,
          0.368711918592453
         ],
         "yaxis": "y"
        },
        {
         "hovertemplate": "variable=wide_variable_2<br>x=%{x}<br>value=%{y}<extra></extra>",
         "legendgroup": "wide_variable_2",
         "line": {
          "color": "#00cc96",
          "dash": "solid"
         },
         "marker": {
          "symbol": "circle"
         },
         "mode": "lines",
         "name": "batch size 32 validation loss value",
         "orientation": "v",
         "showlegend": true,
         "type": "scatter",
         "x": [
          0,
          1,
          2,
          3,
          4,
          5,
          6,
          7,
          8,
          9,
          10,
          11,
          12,
          13,
          14,
          15,
          16,
          17,
          18,
          19,
          20,
          21,
          22,
          23,
          24,
          25,
          26,
          27,
          28,
          29,
          30,
          31,
          32,
          33,
          34,
          35,
          36,
          37,
          38,
          39,
          40,
          41,
          42,
          43,
          44,
          45,
          46,
          47,
          48,
          49,
          50,
          51,
          52,
          53,
          54,
          55,
          56,
          57,
          58,
          59,
          60,
          61,
          62,
          63,
          64,
          65,
          66,
          67,
          68,
          69,
          70,
          71,
          72,
          73,
          74,
          75,
          76,
          77,
          78,
          79,
          80,
          81,
          82,
          83,
          84,
          85,
          86,
          87,
          88,
          89,
          90,
          91,
          92,
          93,
          94,
          95,
          96,
          97,
          98,
          99
         ],
         "xaxis": "x",
         "y": [
          0.6577765941619873,
          0.514230489730835,
          0.44549891352653503,
          0.4143071472644806,
          0.38834598660469055,
          0.3854326903820038,
          0.3784087896347046,
          0.38005441427230835,
          0.36288705468177795,
          0.3538527190685272,
          0.35195982456207275,
          0.35430437326431274,
          0.35548996925354004,
          0.3447732925415039,
          0.35554590821266174,
          0.3552970886230469,
          0.33675235509872437,
          0.330891877412796,
          0.33311858773231506,
          0.3307613432407379,
          0.3279532790184021,
          0.32705119252204895,
          0.34257572889328003,
          0.3350812792778015,
          0.33186039328575134,
          0.3276490867137909,
          0.32339388132095337,
          0.3224739134311676,
          0.3213379383087158,
          0.32503071427345276,
          0.3192405104637146,
          0.31883159279823303,
          0.3239673972129822,
          0.3192698657512665,
          0.3208796977996826,
          0.31876739859580994,
          0.3207102417945862,
          0.32961612939834595,
          0.33023181557655334,
          0.3582327663898468,
          0.3323771357536316,
          0.32801640033721924,
          0.33653634786605835,
          0.32625386118888855,
          0.3229652941226959,
          0.33107805252075195,
          0.34469425678253174,
          0.33285894989967346,
          0.32971447706222534,
          0.33008724451065063,
          0.3303176164627075,
          0.33920982480049133,
          0.33134353160858154,
          0.34018149971961975,
          0.3624790906906128,
          0.33414918184280396,
          0.33578401803970337,
          0.335608571767807,
          0.34042122960090637,
          0.3564299941062927,
          0.349088191986084,
          0.34772729873657227,
          0.3461049199104309,
          0.34738412499427795,
          0.3822965621948242,
          0.34663063287734985,
          0.356913298368454,
          0.35628601908683777,
          0.36573541164398193,
          0.38815900683403015,
          0.407440185546875,
          0.36090087890625,
          0.3624621331691742,
          0.37419018149375916,
          0.3744032680988312,
          0.3687393069267273,
          0.3792937695980072,
          0.3852292001247406,
          0.38293370604515076,
          0.37954962253570557,
          0.4087275266647339,
          0.3994992971420288,
          0.4109727442264557,
          0.3879448473453522,
          0.3923945724964142,
          0.3949047923088074,
          0.3995993435382843,
          0.39911070466041565,
          0.41070932149887085,
          0.4140196144580841,
          0.41731542348861694,
          0.4153071939945221,
          0.4264712929725647,
          0.4347465932369232,
          0.4313714802265167,
          0.4374079406261444,
          0.44087639451026917,
          0.4339440166950226,
          0.4962449371814728,
          0.45739585161209106
         ],
         "yaxis": "y"
        },
        {
         "hovertemplate": "variable=wide_variable_3<br>x=%{x}<br>value=%{y}<extra></extra>",
         "legendgroup": "wide_variable_3",
         "line": {
          "color": "#ab63fa",
          "dash": "solid"
         },
         "marker": {
          "symbol": "circle"
         },
         "mode": "lines",
         "name": "batch size 128 validation accuracy value",
         "orientation": "v",
         "showlegend": true,
         "type": "scatter",
         "x": [
          0,
          1,
          2,
          3,
          4,
          5,
          6,
          7,
          8,
          9,
          10,
          11,
          12,
          13,
          14,
          15,
          16,
          17,
          18,
          19,
          20,
          21,
          22,
          23,
          24,
          25,
          26,
          27,
          28,
          29,
          30,
          31,
          32,
          33,
          34,
          35,
          36,
          37,
          38,
          39,
          40,
          41,
          42,
          43,
          44,
          45,
          46,
          47,
          48,
          49,
          50,
          51,
          52,
          53,
          54,
          55,
          56,
          57,
          58,
          59,
          60,
          61,
          62,
          63,
          64,
          65,
          66,
          67,
          68,
          69,
          70,
          71,
          72,
          73,
          74,
          75,
          76,
          77,
          78,
          79,
          80,
          81,
          82,
          83,
          84,
          85,
          86,
          87,
          88,
          89,
          90,
          91,
          92,
          93,
          94,
          95,
          96,
          97,
          98,
          99
         ],
         "xaxis": "x",
         "y": [
          0.5732499957084656,
          0.6341249942779541,
          0.7202500104904175,
          0.7441250085830688,
          0.7558749914169312,
          0.7698749899864197,
          0.7737500071525574,
          0.7893750071525574,
          0.812250018119812,
          0.8138750195503235,
          0.8206250071525574,
          0.8230000138282776,
          0.8230000138282776,
          0.8247500061988831,
          0.8263750076293945,
          0.8273749947547913,
          0.825124979019165,
          0.8264999985694885,
          0.8352500200271606,
          0.8341249823570251,
          0.8339999914169312,
          0.8335000276565552,
          0.8323749899864197,
          0.8348749876022339,
          0.8383749723434448,
          0.8386250138282776,
          0.8381249904632568,
          0.8417500257492065,
          0.8399999737739563,
          0.8414999842643738,
          0.8391249775886536,
          0.8421249985694885,
          0.8463749885559082,
          0.8420000076293945,
          0.8466249704360962,
          0.8478749990463257,
          0.8466249704360962,
          0.8493750095367432,
          0.8452500104904175,
          0.8443750143051147,
          0.843999981880188,
          0.8479999899864197,
          0.8508750200271606,
          0.8504999876022339,
          0.8502500057220459,
          0.8432499766349792,
          0.8473749756813049,
          0.8477500081062317,
          0.8391249775886536,
          0.8479999899864197,
          0.8498749732971191,
          0.8487499952316284,
          0.8476250171661377,
          0.8504999876022339,
          0.8512499928474426,
          0.8501250147819519,
          0.8517500162124634,
          0.844124972820282,
          0.8521249890327454,
          0.8525000214576721,
          0.8522499799728394,
          0.8485000133514404,
          0.8511250019073486,
          0.8533750176429749,
          0.8511250019073486,
          0.8500000238418579,
          0.8529999852180481,
          0.8531249761581421,
          0.8514999747276306,
          0.8487499952316284,
          0.8514999747276306,
          0.8514999747276306,
          0.8544999957084656,
          0.8532500267028809,
          0.8510000109672546,
          0.8537499904632568,
          0.8548750281333923,
          0.8541250228881836,
          0.8551250100135803,
          0.8546249866485596,
          0.8463749885559082,
          0.8486250042915344,
          0.8502500057220459,
          0.8521249890327454,
          0.8552500009536743,
          0.846875011920929,
          0.8537499904632568,
          0.8491250276565552,
          0.8541250228881836,
          0.8539999723434448,
          0.8554999828338623,
          0.8531249761581421,
          0.8527500033378601,
          0.8488749861717224,
          0.8516250252723694,
          0.8495000004768372,
          0.8535000085830688,
          0.8538749814033508,
          0.8519999980926514,
          0.8543750047683716
         ],
         "yaxis": "y"
        },
        {
         "hovertemplate": "variable=wide_variable_4<br>x=%{x}<br>value=%{y}<extra></extra>",
         "legendgroup": "wide_variable_4",
         "line": {
          "color": "#FFA15A",
          "dash": "solid"
         },
         "marker": {
          "symbol": "circle"
         },
         "mode": "lines",
         "name": "batch size 64 validation accuracy value",
         "orientation": "v",
         "showlegend": true,
         "type": "scatter",
         "x": [
          0,
          1,
          2,
          3,
          4,
          5,
          6,
          7,
          8,
          9,
          10,
          11,
          12,
          13,
          14,
          15,
          16,
          17,
          18,
          19,
          20,
          21,
          22,
          23,
          24,
          25,
          26,
          27,
          28,
          29,
          30,
          31,
          32,
          33,
          34,
          35,
          36,
          37,
          38,
          39,
          40,
          41,
          42,
          43,
          44,
          45,
          46,
          47,
          48,
          49,
          50,
          51,
          52,
          53,
          54,
          55,
          56,
          57,
          58,
          59,
          60,
          61,
          62,
          63,
          64,
          65,
          66,
          67,
          68,
          69,
          70,
          71,
          72,
          73,
          74,
          75,
          76,
          77,
          78,
          79,
          80,
          81,
          82,
          83,
          84,
          85,
          86,
          87,
          88,
          89,
          90,
          91,
          92,
          93,
          94,
          95,
          96,
          97,
          98,
          99
         ],
         "xaxis": "x",
         "y": [
          0.5945000052452087,
          0.7166249752044678,
          0.7778750061988831,
          0.7960000038146973,
          0.8109999895095825,
          0.8177499771118164,
          0.8162500262260437,
          0.8276249766349792,
          0.8163750171661377,
          0.8317499756813049,
          0.831375002861023,
          0.8343750238418579,
          0.8381249904632568,
          0.8388749957084656,
          0.8411250114440918,
          0.8411250114440918,
          0.8426250219345093,
          0.8443750143051147,
          0.8421249985694885,
          0.8423749804496765,
          0.8461250066757202,
          0.8462499976158142,
          0.8460000157356262,
          0.8476250171661377,
          0.8481249809265137,
          0.8431249856948853,
          0.8513749837875366,
          0.8507500290870667,
          0.8512499928474426,
          0.8516250252723694,
          0.8533750176429749,
          0.8526250123977661,
          0.8528749942779541,
          0.8519999980926514,
          0.856124997138977,
          0.8532500267028809,
          0.8537499904632568,
          0.8558750152587891,
          0.8551250100135803,
          0.8585000038146973,
          0.8557500243186951,
          0.859125018119812,
          0.8583750128746033,
          0.859375,
          0.859000027179718,
          0.8583750128746033,
          0.8582500219345093,
          0.8598750233650208,
          0.8569999933242798,
          0.8553749918937683,
          0.8567500114440918,
          0.8568750023841858,
          0.8578749895095825,
          0.8552500009536743,
          0.8575000166893005,
          0.8553749918937683,
          0.8566250205039978,
          0.8578749895095825,
          0.8576250076293945,
          0.8541250228881836,
          0.856249988079071,
          0.8544999957084656,
          0.8588749766349792,
          0.8581249713897705,
          0.8578749895095825,
          0.8579999804496765,
          0.8587499856948853,
          0.8552500009536743,
          0.8586249947547913,
          0.8560000061988831,
          0.859250009059906,
          0.8535000085830688,
          0.8586249947547913,
          0.856124997138977,
          0.8571249842643738,
          0.8573750257492065,
          0.8497499823570251,
          0.8546249866485596,
          0.8535000085830688,
          0.8550000190734863,
          0.8567500114440918,
          0.8547499775886536,
          0.8554999828338623,
          0.8551250100135803,
          0.8510000109672546,
          0.8527500033378601,
          0.8528749942779541,
          0.8553749918937683,
          0.8556249737739563,
          0.8547499775886536,
          0.856249988079071,
          0.8568750023841858,
          0.8546249866485596,
          0.8560000061988831,
          0.8551250100135803,
          0.8532500267028809,
          0.8525000214576721,
          0.8523749709129333,
          0.8502500057220459,
          0.8503749966621399
         ],
         "yaxis": "y"
        },
        {
         "hovertemplate": "variable=wide_variable_5<br>x=%{x}<br>value=%{y}<extra></extra>",
         "legendgroup": "wide_variable_5",
         "line": {
          "color": "#19d3f3",
          "dash": "solid"
         },
         "marker": {
          "symbol": "circle"
         },
         "mode": "lines",
         "name": "batch size 32 validation accuracy value",
         "orientation": "v",
         "showlegend": true,
         "type": "scatter",
         "x": [
          0,
          1,
          2,
          3,
          4,
          5,
          6,
          7,
          8,
          9,
          10,
          11,
          12,
          13,
          14,
          15,
          16,
          17,
          18,
          19,
          20,
          21,
          22,
          23,
          24,
          25,
          26,
          27,
          28,
          29,
          30,
          31,
          32,
          33,
          34,
          35,
          36,
          37,
          38,
          39,
          40,
          41,
          42,
          43,
          44,
          45,
          46,
          47,
          48,
          49,
          50,
          51,
          52,
          53,
          54,
          55,
          56,
          57,
          58,
          59,
          60,
          61,
          62,
          63,
          64,
          65,
          66,
          67,
          68,
          69,
          70,
          71,
          72,
          73,
          74,
          75,
          76,
          77,
          78,
          79,
          80,
          81,
          82,
          83,
          84,
          85,
          86,
          87,
          88,
          89,
          90,
          91,
          92,
          93,
          94,
          95,
          96,
          97,
          98,
          99
         ],
         "xaxis": "x",
         "y": [
          0.609375,
          0.7362499833106995,
          0.7944999933242798,
          0.812375009059906,
          0.8263750076293945,
          0.8287500143051147,
          0.8299999833106995,
          0.8234999775886536,
          0.8416249752044678,
          0.843874990940094,
          0.8462499976158142,
          0.8448749780654907,
          0.8391249775886536,
          0.8483750224113464,
          0.8426250219345093,
          0.843625009059906,
          0.8526250123977661,
          0.8556249737739563,
          0.8528749942779541,
          0.8560000061988831,
          0.8572499752044678,
          0.8582500219345093,
          0.8506249785423279,
          0.8536249995231628,
          0.8558750152587891,
          0.859125018119812,
          0.8602499961853027,
          0.8602499961853027,
          0.8606250286102295,
          0.8588749766349792,
          0.8618749976158142,
          0.859250009059906,
          0.859250009059906,
          0.8618749976158142,
          0.8622499704360962,
          0.8616250157356262,
          0.8632500171661377,
          0.8579999804496765,
          0.8579999804496765,
          0.8432499766349792,
          0.8573750257492065,
          0.8608750104904175,
          0.8547499775886536,
          0.8619999885559082,
          0.862375020980835,
          0.859250009059906,
          0.8514999747276306,
          0.8585000038146973,
          0.859749972820282,
          0.8617500066757202,
          0.8588749766349792,
          0.8548750281333923,
          0.862375020980835,
          0.8568750023841858,
          0.8518750071525574,
          0.859499990940094,
          0.8615000247955322,
          0.8618749976158142,
          0.862625002861023,
          0.8551250100135803,
          0.8573750257492065,
          0.8583750128746033,
          0.8538749814033508,
          0.8585000038146973,
          0.8385000228881836,
          0.859749972820282,
          0.8547499775886536,
          0.8598750233650208,
          0.8581249713897705,
          0.8511250019073486,
          0.8456249833106995,
          0.8565000295639038,
          0.8557500243186951,
          0.8537499904632568,
          0.8506249785423279,
          0.8582500219345093,
          0.8550000190734863,
          0.8535000085830688,
          0.8571249842643738,
          0.8519999980926514,
          0.8472499847412109,
          0.8450000286102295,
          0.8426250219345093,
          0.8558750152587891,
          0.8531249761581421,
          0.8503749966621399,
          0.8522499799728394,
          0.8513749837875366,
          0.8514999747276306,
          0.8495000004768372,
          0.8489999771118164,
          0.8528749942779541,
          0.8498749732971191,
          0.8503749966621399,
          0.8513749837875366,
          0.8462499976158142,
          0.8477500081062317,
          0.8478749990463257,
          0.8422499895095825,
          0.8458750247955322
         ],
         "yaxis": "y"
        }
       ],
       "layout": {
        "legend": {
         "title": {
          "text": "variable"
         },
         "tracegroupgap": 0
        },
        "margin": {
         "t": 60
        },
        "template": {
         "data": {
          "bar": [
           {
            "error_x": {
             "color": "#2a3f5f"
            },
            "error_y": {
             "color": "#2a3f5f"
            },
            "marker": {
             "line": {
              "color": "#E5ECF6",
              "width": 0.5
             },
             "pattern": {
              "fillmode": "overlay",
              "size": 10,
              "solidity": 0.2
             }
            },
            "type": "bar"
           }
          ],
          "barpolar": [
           {
            "marker": {
             "line": {
              "color": "#E5ECF6",
              "width": 0.5
             },
             "pattern": {
              "fillmode": "overlay",
              "size": 10,
              "solidity": 0.2
             }
            },
            "type": "barpolar"
           }
          ],
          "carpet": [
           {
            "aaxis": {
             "endlinecolor": "#2a3f5f",
             "gridcolor": "white",
             "linecolor": "white",
             "minorgridcolor": "white",
             "startlinecolor": "#2a3f5f"
            },
            "baxis": {
             "endlinecolor": "#2a3f5f",
             "gridcolor": "white",
             "linecolor": "white",
             "minorgridcolor": "white",
             "startlinecolor": "#2a3f5f"
            },
            "type": "carpet"
           }
          ],
          "choropleth": [
           {
            "colorbar": {
             "outlinewidth": 0,
             "ticks": ""
            },
            "type": "choropleth"
           }
          ],
          "contour": [
           {
            "colorbar": {
             "outlinewidth": 0,
             "ticks": ""
            },
            "colorscale": [
             [
              0,
              "#0d0887"
             ],
             [
              0.1111111111111111,
              "#46039f"
             ],
             [
              0.2222222222222222,
              "#7201a8"
             ],
             [
              0.3333333333333333,
              "#9c179e"
             ],
             [
              0.4444444444444444,
              "#bd3786"
             ],
             [
              0.5555555555555556,
              "#d8576b"
             ],
             [
              0.6666666666666666,
              "#ed7953"
             ],
             [
              0.7777777777777778,
              "#fb9f3a"
             ],
             [
              0.8888888888888888,
              "#fdca26"
             ],
             [
              1,
              "#f0f921"
             ]
            ],
            "type": "contour"
           }
          ],
          "contourcarpet": [
           {
            "colorbar": {
             "outlinewidth": 0,
             "ticks": ""
            },
            "type": "contourcarpet"
           }
          ],
          "heatmap": [
           {
            "colorbar": {
             "outlinewidth": 0,
             "ticks": ""
            },
            "colorscale": [
             [
              0,
              "#0d0887"
             ],
             [
              0.1111111111111111,
              "#46039f"
             ],
             [
              0.2222222222222222,
              "#7201a8"
             ],
             [
              0.3333333333333333,
              "#9c179e"
             ],
             [
              0.4444444444444444,
              "#bd3786"
             ],
             [
              0.5555555555555556,
              "#d8576b"
             ],
             [
              0.6666666666666666,
              "#ed7953"
             ],
             [
              0.7777777777777778,
              "#fb9f3a"
             ],
             [
              0.8888888888888888,
              "#fdca26"
             ],
             [
              1,
              "#f0f921"
             ]
            ],
            "type": "heatmap"
           }
          ],
          "heatmapgl": [
           {
            "colorbar": {
             "outlinewidth": 0,
             "ticks": ""
            },
            "colorscale": [
             [
              0,
              "#0d0887"
             ],
             [
              0.1111111111111111,
              "#46039f"
             ],
             [
              0.2222222222222222,
              "#7201a8"
             ],
             [
              0.3333333333333333,
              "#9c179e"
             ],
             [
              0.4444444444444444,
              "#bd3786"
             ],
             [
              0.5555555555555556,
              "#d8576b"
             ],
             [
              0.6666666666666666,
              "#ed7953"
             ],
             [
              0.7777777777777778,
              "#fb9f3a"
             ],
             [
              0.8888888888888888,
              "#fdca26"
             ],
             [
              1,
              "#f0f921"
             ]
            ],
            "type": "heatmapgl"
           }
          ],
          "histogram": [
           {
            "marker": {
             "pattern": {
              "fillmode": "overlay",
              "size": 10,
              "solidity": 0.2
             }
            },
            "type": "histogram"
           }
          ],
          "histogram2d": [
           {
            "colorbar": {
             "outlinewidth": 0,
             "ticks": ""
            },
            "colorscale": [
             [
              0,
              "#0d0887"
             ],
             [
              0.1111111111111111,
              "#46039f"
             ],
             [
              0.2222222222222222,
              "#7201a8"
             ],
             [
              0.3333333333333333,
              "#9c179e"
             ],
             [
              0.4444444444444444,
              "#bd3786"
             ],
             [
              0.5555555555555556,
              "#d8576b"
             ],
             [
              0.6666666666666666,
              "#ed7953"
             ],
             [
              0.7777777777777778,
              "#fb9f3a"
             ],
             [
              0.8888888888888888,
              "#fdca26"
             ],
             [
              1,
              "#f0f921"
             ]
            ],
            "type": "histogram2d"
           }
          ],
          "histogram2dcontour": [
           {
            "colorbar": {
             "outlinewidth": 0,
             "ticks": ""
            },
            "colorscale": [
             [
              0,
              "#0d0887"
             ],
             [
              0.1111111111111111,
              "#46039f"
             ],
             [
              0.2222222222222222,
              "#7201a8"
             ],
             [
              0.3333333333333333,
              "#9c179e"
             ],
             [
              0.4444444444444444,
              "#bd3786"
             ],
             [
              0.5555555555555556,
              "#d8576b"
             ],
             [
              0.6666666666666666,
              "#ed7953"
             ],
             [
              0.7777777777777778,
              "#fb9f3a"
             ],
             [
              0.8888888888888888,
              "#fdca26"
             ],
             [
              1,
              "#f0f921"
             ]
            ],
            "type": "histogram2dcontour"
           }
          ],
          "mesh3d": [
           {
            "colorbar": {
             "outlinewidth": 0,
             "ticks": ""
            },
            "type": "mesh3d"
           }
          ],
          "parcoords": [
           {
            "line": {
             "colorbar": {
              "outlinewidth": 0,
              "ticks": ""
             }
            },
            "type": "parcoords"
           }
          ],
          "pie": [
           {
            "automargin": true,
            "type": "pie"
           }
          ],
          "scatter": [
           {
            "fillpattern": {
             "fillmode": "overlay",
             "size": 10,
             "solidity": 0.2
            },
            "type": "scatter"
           }
          ],
          "scatter3d": [
           {
            "line": {
             "colorbar": {
              "outlinewidth": 0,
              "ticks": ""
             }
            },
            "marker": {
             "colorbar": {
              "outlinewidth": 0,
              "ticks": ""
             }
            },
            "type": "scatter3d"
           }
          ],
          "scattercarpet": [
           {
            "marker": {
             "colorbar": {
              "outlinewidth": 0,
              "ticks": ""
             }
            },
            "type": "scattercarpet"
           }
          ],
          "scattergeo": [
           {
            "marker": {
             "colorbar": {
              "outlinewidth": 0,
              "ticks": ""
             }
            },
            "type": "scattergeo"
           }
          ],
          "scattergl": [
           {
            "marker": {
             "colorbar": {
              "outlinewidth": 0,
              "ticks": ""
             }
            },
            "type": "scattergl"
           }
          ],
          "scattermapbox": [
           {
            "marker": {
             "colorbar": {
              "outlinewidth": 0,
              "ticks": ""
             }
            },
            "type": "scattermapbox"
           }
          ],
          "scatterpolar": [
           {
            "marker": {
             "colorbar": {
              "outlinewidth": 0,
              "ticks": ""
             }
            },
            "type": "scatterpolar"
           }
          ],
          "scatterpolargl": [
           {
            "marker": {
             "colorbar": {
              "outlinewidth": 0,
              "ticks": ""
             }
            },
            "type": "scatterpolargl"
           }
          ],
          "scatterternary": [
           {
            "marker": {
             "colorbar": {
              "outlinewidth": 0,
              "ticks": ""
             }
            },
            "type": "scatterternary"
           }
          ],
          "surface": [
           {
            "colorbar": {
             "outlinewidth": 0,
             "ticks": ""
            },
            "colorscale": [
             [
              0,
              "#0d0887"
             ],
             [
              0.1111111111111111,
              "#46039f"
             ],
             [
              0.2222222222222222,
              "#7201a8"
             ],
             [
              0.3333333333333333,
              "#9c179e"
             ],
             [
              0.4444444444444444,
              "#bd3786"
             ],
             [
              0.5555555555555556,
              "#d8576b"
             ],
             [
              0.6666666666666666,
              "#ed7953"
             ],
             [
              0.7777777777777778,
              "#fb9f3a"
             ],
             [
              0.8888888888888888,
              "#fdca26"
             ],
             [
              1,
              "#f0f921"
             ]
            ],
            "type": "surface"
           }
          ],
          "table": [
           {
            "cells": {
             "fill": {
              "color": "#EBF0F8"
             },
             "line": {
              "color": "white"
             }
            },
            "header": {
             "fill": {
              "color": "#C8D4E3"
             },
             "line": {
              "color": "white"
             }
            },
            "type": "table"
           }
          ]
         },
         "layout": {
          "annotationdefaults": {
           "arrowcolor": "#2a3f5f",
           "arrowhead": 0,
           "arrowwidth": 1
          },
          "autotypenumbers": "strict",
          "coloraxis": {
           "colorbar": {
            "outlinewidth": 0,
            "ticks": ""
           }
          },
          "colorscale": {
           "diverging": [
            [
             0,
             "#8e0152"
            ],
            [
             0.1,
             "#c51b7d"
            ],
            [
             0.2,
             "#de77ae"
            ],
            [
             0.3,
             "#f1b6da"
            ],
            [
             0.4,
             "#fde0ef"
            ],
            [
             0.5,
             "#f7f7f7"
            ],
            [
             0.6,
             "#e6f5d0"
            ],
            [
             0.7,
             "#b8e186"
            ],
            [
             0.8,
             "#7fbc41"
            ],
            [
             0.9,
             "#4d9221"
            ],
            [
             1,
             "#276419"
            ]
           ],
           "sequential": [
            [
             0,
             "#0d0887"
            ],
            [
             0.1111111111111111,
             "#46039f"
            ],
            [
             0.2222222222222222,
             "#7201a8"
            ],
            [
             0.3333333333333333,
             "#9c179e"
            ],
            [
             0.4444444444444444,
             "#bd3786"
            ],
            [
             0.5555555555555556,
             "#d8576b"
            ],
            [
             0.6666666666666666,
             "#ed7953"
            ],
            [
             0.7777777777777778,
             "#fb9f3a"
            ],
            [
             0.8888888888888888,
             "#fdca26"
            ],
            [
             1,
             "#f0f921"
            ]
           ],
           "sequentialminus": [
            [
             0,
             "#0d0887"
            ],
            [
             0.1111111111111111,
             "#46039f"
            ],
            [
             0.2222222222222222,
             "#7201a8"
            ],
            [
             0.3333333333333333,
             "#9c179e"
            ],
            [
             0.4444444444444444,
             "#bd3786"
            ],
            [
             0.5555555555555556,
             "#d8576b"
            ],
            [
             0.6666666666666666,
             "#ed7953"
            ],
            [
             0.7777777777777778,
             "#fb9f3a"
            ],
            [
             0.8888888888888888,
             "#fdca26"
            ],
            [
             1,
             "#f0f921"
            ]
           ]
          },
          "colorway": [
           "#636efa",
           "#EF553B",
           "#00cc96",
           "#ab63fa",
           "#FFA15A",
           "#19d3f3",
           "#FF6692",
           "#B6E880",
           "#FF97FF",
           "#FECB52"
          ],
          "font": {
           "color": "#2a3f5f"
          },
          "geo": {
           "bgcolor": "white",
           "lakecolor": "white",
           "landcolor": "#E5ECF6",
           "showlakes": true,
           "showland": true,
           "subunitcolor": "white"
          },
          "hoverlabel": {
           "align": "left"
          },
          "hovermode": "closest",
          "mapbox": {
           "style": "light"
          },
          "paper_bgcolor": "white",
          "plot_bgcolor": "#E5ECF6",
          "polar": {
           "angularaxis": {
            "gridcolor": "white",
            "linecolor": "white",
            "ticks": ""
           },
           "bgcolor": "#E5ECF6",
           "radialaxis": {
            "gridcolor": "white",
            "linecolor": "white",
            "ticks": ""
           }
          },
          "scene": {
           "xaxis": {
            "backgroundcolor": "#E5ECF6",
            "gridcolor": "white",
            "gridwidth": 2,
            "linecolor": "white",
            "showbackground": true,
            "ticks": "",
            "zerolinecolor": "white"
           },
           "yaxis": {
            "backgroundcolor": "#E5ECF6",
            "gridcolor": "white",
            "gridwidth": 2,
            "linecolor": "white",
            "showbackground": true,
            "ticks": "",
            "zerolinecolor": "white"
           },
           "zaxis": {
            "backgroundcolor": "#E5ECF6",
            "gridcolor": "white",
            "gridwidth": 2,
            "linecolor": "white",
            "showbackground": true,
            "ticks": "",
            "zerolinecolor": "white"
           }
          },
          "shapedefaults": {
           "line": {
            "color": "#2a3f5f"
           }
          },
          "ternary": {
           "aaxis": {
            "gridcolor": "white",
            "linecolor": "white",
            "ticks": ""
           },
           "baxis": {
            "gridcolor": "white",
            "linecolor": "white",
            "ticks": ""
           },
           "bgcolor": "#E5ECF6",
           "caxis": {
            "gridcolor": "white",
            "linecolor": "white",
            "ticks": ""
           }
          },
          "title": {
           "x": 0.05
          },
          "xaxis": {
           "automargin": true,
           "gridcolor": "white",
           "linecolor": "white",
           "ticks": "",
           "title": {
            "standoff": 15
           },
           "zerolinecolor": "white",
           "zerolinewidth": 2
          },
          "yaxis": {
           "automargin": true,
           "gridcolor": "white",
           "linecolor": "white",
           "ticks": "",
           "title": {
            "standoff": 15
           },
           "zerolinecolor": "white",
           "zerolinewidth": 2
          }
         }
        },
        "title": {
         "text": "Validation Loss and accuracy for GRU models with different batch size and layer size of 64",
         "x": 0.5
        },
        "xaxis": {
         "anchor": "y",
         "domain": [
          0,
          1
         ],
         "title": {
          "text": "Epoch"
         }
        },
        "yaxis": {
         "anchor": "x",
         "domain": [
          0,
          1
         ],
         "title": {
          "text": "Loss/accuracy"
         }
        }
       }
      }
     },
     "metadata": {},
     "output_type": "display_data"
    }
   ],
   "source": [
    "import plotly.express as px\n",
    "fig = px.line(x=range(0, len(history_64_GRU_128['val_loss'])), y=[history_64_GRU_128['val_loss'], history_64_GRU_64['val_loss'], history_64_GRU_32['val_loss'], history_64_GRU_128['val_accuracy'], history_64_GRU_64['val_accuracy'], history_64_GRU_32['val_accuracy']])\n",
    "fig.data[0].name = \"batch size 128 validation loss value\"\n",
    "fig.data[1].name = \"batch size 64 validation loss value\"\n",
    "fig.data[2].name = \"batch size 32 validation loss value\"\n",
    "fig.data[3].name = \"batch size 128 validation accuracy value\"\n",
    "fig.data[4].name = \"batch size 64 validation accuracy value\"\n",
    "fig.data[5].name = \"batch size 32 validation accuracy value\"\n",
    "fig.layout.title.text = \"Validation Loss and accuracy for GRU models with different batch size and layer size of 64\"\n",
    "fig.layout.title.x = .5\n",
    "fig.layout.yaxis.title.text = \"Loss/accuracy\"\n",
    "fig.layout.xaxis.title.text = \"Epoch\"\n",
    "\n",
    "fig.show()"
   ]
  },
  {
   "cell_type": "code",
   "execution_count": 286,
   "metadata": {},
   "outputs": [
    {
     "data": {
      "application/vnd.plotly.v1+json": {
       "config": {
        "plotlyServerURL": "https://plot.ly"
       },
       "data": [
        {
         "hovertemplate": "variable=wide_variable_0<br>x=%{x}<br>value=%{y}<extra></extra>",
         "legendgroup": "wide_variable_0",
         "line": {
          "color": "#636efa",
          "dash": "solid"
         },
         "marker": {
          "symbol": "circle"
         },
         "mode": "lines",
         "name": "batch size 128 validation loss value",
         "orientation": "v",
         "showlegend": true,
         "type": "scatter",
         "x": [
          0,
          1,
          2,
          3,
          4,
          5,
          6,
          7,
          8,
          9,
          10,
          11,
          12,
          13,
          14,
          15,
          16,
          17,
          18,
          19,
          20,
          21,
          22,
          23,
          24,
          25,
          26,
          27,
          28,
          29,
          30,
          31,
          32,
          33,
          34,
          35,
          36,
          37,
          38,
          39,
          40,
          41,
          42,
          43,
          44,
          45,
          46,
          47,
          48,
          49,
          50,
          51,
          52,
          53,
          54,
          55,
          56,
          57,
          58,
          59,
          60,
          61,
          62,
          63,
          64,
          65,
          66,
          67,
          68,
          69,
          70,
          71,
          72,
          73,
          74,
          75,
          76,
          77,
          78,
          79,
          80,
          81,
          82,
          83,
          84,
          85,
          86,
          87,
          88,
          89,
          90,
          91,
          92,
          93,
          94,
          95,
          96,
          97,
          98,
          99
         ],
         "xaxis": "x",
         "y": [
          0.6862263083457947,
          0.6739713549613953,
          0.6562281847000122,
          0.6006188988685608,
          0.5164749622344971,
          0.5013819336891174,
          0.47775036096572876,
          0.4648450016975403,
          0.44982460141181946,
          0.4278559386730194,
          0.4137927293777466,
          0.4065324068069458,
          0.40072888135910034,
          0.3961659073829651,
          0.39587610960006714,
          0.3880406618118286,
          0.3878743648529053,
          0.3808687925338745,
          0.38018763065338135,
          0.3769136965274811,
          0.3763321340084076,
          0.3711032569408417,
          0.370755672454834,
          0.36680036783218384,
          0.3669848144054413,
          0.363483190536499,
          0.3620665371417999,
          0.3628160357475281,
          0.3582780659198761,
          0.3590052127838135,
          0.3555695116519928,
          0.35561323165893555,
          0.35371485352516174,
          0.35229361057281494,
          0.3511669635772705,
          0.35209694504737854,
          0.34902819991111755,
          0.35142621397972107,
          0.34727874398231506,
          0.3461016118526459,
          0.34961482882499695,
          0.34780657291412354,
          0.35368356108665466,
          0.3437398672103882,
          0.3434081971645355,
          0.3421570360660553,
          0.34536099433898926,
          0.3486952483654022,
          0.3430064916610718,
          0.3409246504306793,
          0.34269264340400696,
          0.3411923348903656,
          0.34346845746040344,
          0.3387003242969513,
          0.34057289361953735,
          0.3392990827560425,
          0.33693578839302063,
          0.3469817340373993,
          0.33725982904434204,
          0.34102463722229004,
          0.3435308039188385,
          0.3399488925933838,
          0.3361676037311554,
          0.33495283126831055,
          0.3387703001499176,
          0.33563992381095886,
          0.3352259695529938,
          0.33453330397605896,
          0.34150660037994385,
          0.3368477523326874,
          0.3459046483039856,
          0.33357951045036316,
          0.3333587944507599,
          0.33354485034942627,
          0.3329904079437256,
          0.3342539072036743,
          0.34030628204345703,
          0.333660364151001,
          0.3333110213279724,
          0.33265089988708496,
          0.33262959122657776,
          0.33324888348579407,
          0.3326863944530487,
          0.33223071694374084,
          0.3360561430454254,
          0.3319780230522156,
          0.3328746259212494,
          0.3365061283111572,
          0.33564624190330505,
          0.3392461836338043,
          0.3378424346446991,
          0.3418690860271454,
          0.33394506573677063,
          0.33737677335739136,
          0.330460786819458,
          0.3315924406051636,
          0.3332379460334778,
          0.33242279291152954,
          0.34221208095550537,
          0.3305068016052246
         ],
         "yaxis": "y"
        },
        {
         "hovertemplate": "variable=wide_variable_1<br>x=%{x}<br>value=%{y}<extra></extra>",
         "legendgroup": "wide_variable_1",
         "line": {
          "color": "#EF553B",
          "dash": "solid"
         },
         "marker": {
          "symbol": "circle"
         },
         "mode": "lines",
         "name": "batch size 64 validation loss value",
         "orientation": "v",
         "showlegend": true,
         "type": "scatter",
         "x": [
          0,
          1,
          2,
          3,
          4,
          5,
          6,
          7,
          8,
          9,
          10,
          11,
          12,
          13,
          14,
          15,
          16,
          17,
          18,
          19,
          20,
          21,
          22,
          23,
          24,
          25,
          26,
          27,
          28,
          29,
          30,
          31,
          32,
          33,
          34,
          35,
          36,
          37,
          38,
          39,
          40,
          41,
          42,
          43,
          44,
          45,
          46,
          47,
          48,
          49,
          50,
          51,
          52,
          53,
          54,
          55,
          56,
          57,
          58,
          59,
          60,
          61,
          62,
          63,
          64,
          65,
          66,
          67,
          68,
          69,
          70,
          71,
          72,
          73,
          74,
          75,
          76,
          77,
          78,
          79,
          80,
          81,
          82,
          83,
          84,
          85,
          86,
          87,
          88,
          89,
          90,
          91,
          92,
          93,
          94,
          95,
          96,
          97,
          98,
          99
         ],
         "xaxis": "x",
         "y": [
          0.684269368648529,
          0.6681360602378845,
          0.6340983510017395,
          0.4999467134475708,
          0.467384397983551,
          0.44475939869880676,
          0.4294145405292511,
          0.4174770712852478,
          0.40825822949409485,
          0.4022694230079651,
          0.39434814453125,
          0.3930169939994812,
          0.3829779028892517,
          0.3853042423725128,
          0.3752748966217041,
          0.3700299859046936,
          0.36628371477127075,
          0.36425724625587463,
          0.36171528697013855,
          0.35956117510795593,
          0.35690656304359436,
          0.3570616841316223,
          0.3537946045398712,
          0.357124000787735,
          0.3535185158252716,
          0.3519706130027771,
          0.3479444086551666,
          0.3472476899623871,
          0.34571167826652527,
          0.34509819746017456,
          0.34448251128196716,
          0.35105100274086,
          0.3479800522327423,
          0.34529873728752136,
          0.34285444021224976,
          0.3453805446624756,
          0.33963701128959656,
          0.33861908316612244,
          0.33795347809791565,
          0.34089934825897217,
          0.33663326501846313,
          0.3354942798614502,
          0.3370853364467621,
          0.3346862196922302,
          0.34525835514068604,
          0.33484765887260437,
          0.3337646722793579,
          0.3333791196346283,
          0.33260980248451233,
          0.33246204257011414,
          0.33590275049209595,
          0.33388552069664,
          0.3316485285758972,
          0.3321976363658905,
          0.3547429144382477,
          0.3340851962566376,
          0.3483932912349701,
          0.3332587480545044,
          0.3415531516075134,
          0.34198689460754395,
          0.33365339040756226,
          0.33244678378105164,
          0.3430000841617584,
          0.3310421407222748,
          0.3328641653060913,
          0.33351999521255493,
          0.33722415566444397,
          0.3311394155025482,
          0.33138030767440796,
          0.33045220375061035,
          0.3288024961948395,
          0.3305586576461792,
          0.3292096257209778,
          0.3365287482738495,
          0.34908121824264526,
          0.33059045672416687,
          0.3311586081981659,
          0.3372817933559418,
          0.33138468861579895,
          0.32890599966049194,
          0.3350529372692108,
          0.3321409225463867,
          0.33146366477012634,
          0.3321360945701599,
          0.3440047800540924,
          0.35502031445503235,
          0.33031630516052246,
          0.33093756437301636,
          0.3335898518562317,
          0.33368372917175293,
          0.3309251070022583,
          0.3376283049583435,
          0.3352341055870056,
          0.3315931260585785,
          0.3334943950176239,
          0.3418595790863037,
          0.3549848794937134,
          0.3331555128097534,
          0.3339819312095642,
          0.33324557542800903
         ],
         "yaxis": "y"
        },
        {
         "hovertemplate": "variable=wide_variable_2<br>x=%{x}<br>value=%{y}<extra></extra>",
         "legendgroup": "wide_variable_2",
         "line": {
          "color": "#00cc96",
          "dash": "solid"
         },
         "marker": {
          "symbol": "circle"
         },
         "mode": "lines",
         "name": "batch size 32 validation loss value",
         "orientation": "v",
         "showlegend": true,
         "type": "scatter",
         "x": [
          0,
          1,
          2,
          3,
          4,
          5,
          6,
          7,
          8,
          9,
          10,
          11,
          12,
          13,
          14,
          15,
          16,
          17,
          18,
          19,
          20,
          21,
          22,
          23,
          24,
          25,
          26,
          27,
          28,
          29,
          30,
          31,
          32,
          33,
          34,
          35,
          36,
          37,
          38,
          39,
          40,
          41,
          42,
          43,
          44,
          45,
          46,
          47,
          48,
          49,
          50,
          51,
          52,
          53,
          54,
          55,
          56,
          57,
          58,
          59,
          60,
          61,
          62,
          63,
          64,
          65,
          66,
          67,
          68,
          69,
          70,
          71,
          72,
          73,
          74,
          75,
          76,
          77,
          78,
          79,
          80,
          81,
          82,
          83,
          84,
          85,
          86,
          87,
          88,
          89,
          90,
          91,
          92,
          93,
          94,
          95,
          96,
          97,
          98,
          99
         ],
         "xaxis": "x",
         "y": [
          0.6639125943183899,
          0.5389811992645264,
          0.48352283239364624,
          0.44499674439430237,
          0.4227393567562103,
          0.4044206440448761,
          0.3929296135902405,
          0.38659077882766724,
          0.380127876996994,
          0.37853363156318665,
          0.37387025356292725,
          0.3679671287536621,
          0.3642011880874634,
          0.363943487405777,
          0.36164581775665283,
          0.3732088506221771,
          0.3558706045150757,
          0.3554307520389557,
          0.35145139694213867,
          0.3627575933933258,
          0.34843504428863525,
          0.34635764360427856,
          0.3464682996273041,
          0.34829044342041016,
          0.34417182207107544,
          0.3531220555305481,
          0.34598949551582336,
          0.35723957419395447,
          0.34469297528266907,
          0.3419334888458252,
          0.34244999289512634,
          0.33617526292800903,
          0.34363794326782227,
          0.3362378180027008,
          0.335590660572052,
          0.3368786573410034,
          0.3332378566265106,
          0.3336331248283386,
          0.3362954258918762,
          0.3345851004123688,
          0.33052685856819153,
          0.33050814270973206,
          0.3350173234939575,
          0.3355450928211212,
          0.33351993560791016,
          0.339902400970459,
          0.32984235882759094,
          0.33343812823295593,
          0.33269068598747253,
          0.327690452337265,
          0.3289809823036194,
          0.32832491397857666,
          0.33024483919143677,
          0.32800018787384033,
          0.32888108491897583,
          0.3347020745277405,
          0.32997503876686096,
          0.32930073142051697,
          0.3352634906768799,
          0.3268296718597412,
          0.3344137966632843,
          0.33194586634635925,
          0.3275153934955597,
          0.33545446395874023,
          0.3275553286075592,
          0.3431534469127655,
          0.3464079201221466,
          0.33332934975624084,
          0.32821619510650635,
          0.3324238061904907,
          0.3315149247646332,
          0.33364740014076233,
          0.329177588224411,
          0.33098968863487244,
          0.3285672664642334,
          0.3314978778362274,
          0.3309205174446106,
          0.3313705027103424,
          0.330687940120697,
          0.3374541699886322,
          0.3430117070674896,
          0.33389484882354736,
          0.33445852994918823,
          0.33544549345970154,
          0.34458574652671814,
          0.3387110233306885,
          0.33540433645248413,
          0.3396175801753998,
          0.3373577296733856,
          0.3396158814430237,
          0.343608021736145,
          0.3385698199272156,
          0.3384306728839874,
          0.3463320732116699,
          0.3400314450263977,
          0.3364306688308716,
          0.33855608105659485,
          0.3416920304298401,
          0.34504634141921997,
          0.35855352878570557
         ],
         "yaxis": "y"
        },
        {
         "hovertemplate": "variable=wide_variable_3<br>x=%{x}<br>value=%{y}<extra></extra>",
         "legendgroup": "wide_variable_3",
         "line": {
          "color": "#ab63fa",
          "dash": "solid"
         },
         "marker": {
          "symbol": "circle"
         },
         "mode": "lines",
         "name": "batch size 128 validation accuracy value",
         "orientation": "v",
         "showlegend": true,
         "type": "scatter",
         "x": [
          0,
          1,
          2,
          3,
          4,
          5,
          6,
          7,
          8,
          9,
          10,
          11,
          12,
          13,
          14,
          15,
          16,
          17,
          18,
          19,
          20,
          21,
          22,
          23,
          24,
          25,
          26,
          27,
          28,
          29,
          30,
          31,
          32,
          33,
          34,
          35,
          36,
          37,
          38,
          39,
          40,
          41,
          42,
          43,
          44,
          45,
          46,
          47,
          48,
          49,
          50,
          51,
          52,
          53,
          54,
          55,
          56,
          57,
          58,
          59,
          60,
          61,
          62,
          63,
          64,
          65,
          66,
          67,
          68,
          69,
          70,
          71,
          72,
          73,
          74,
          75,
          76,
          77,
          78,
          79,
          80,
          81,
          82,
          83,
          84,
          85,
          86,
          87,
          88,
          89,
          90,
          91,
          92,
          93,
          94,
          95,
          96,
          97,
          98,
          99
         ],
         "xaxis": "x",
         "y": [
          0.5443750023841858,
          0.5734999775886536,
          0.6025000214576721,
          0.672124981880188,
          0.7363749742507935,
          0.7472500205039978,
          0.7616249918937683,
          0.7697499990463257,
          0.7825000286102295,
          0.7979999780654907,
          0.8068749904632568,
          0.8118749856948853,
          0.815625011920929,
          0.8149999976158142,
          0.8162500262260437,
          0.8197500109672546,
          0.8199999928474426,
          0.8238750100135803,
          0.8238750100135803,
          0.8256250023841858,
          0.8273749947547913,
          0.8317499756813049,
          0.8317499756813049,
          0.8331249952316284,
          0.8328750133514404,
          0.8364999890327454,
          0.8370000123977661,
          0.8358749747276306,
          0.8399999737739563,
          0.8392500281333923,
          0.8414999842643738,
          0.8422499895095825,
          0.8431249856948853,
          0.8460000157356262,
          0.8464999794960022,
          0.8443750143051147,
          0.8481249809265137,
          0.844124972820282,
          0.8486250042915344,
          0.8498749732971191,
          0.8456249833106995,
          0.8482499718666077,
          0.8416249752044678,
          0.8511250019073486,
          0.8497499823570251,
          0.8535000085830688,
          0.8485000133514404,
          0.8451250195503235,
          0.8517500162124634,
          0.8533750176429749,
          0.8511250019073486,
          0.8535000085830688,
          0.8512499928474426,
          0.8541250228881836,
          0.8537499904632568,
          0.8548750281333923,
          0.856124997138977,
          0.8471249938011169,
          0.8554999828338623,
          0.8537499904632568,
          0.8528749942779541,
          0.8529999852180481,
          0.8566250205039978,
          0.8579999804496765,
          0.8548750281333923,
          0.8575000166893005,
          0.856249988079071,
          0.8579999804496765,
          0.8519999980926514,
          0.8531249761581421,
          0.8492500185966492,
          0.8585000038146973,
          0.8579999804496765,
          0.859125018119812,
          0.8587499856948853,
          0.8554999828338623,
          0.856124997138977,
          0.859375,
          0.8576250076293945,
          0.8582500219345093,
          0.8575000166893005,
          0.8586249947547913,
          0.859624981880188,
          0.8600000143051147,
          0.8548750281333923,
          0.859250009059906,
          0.859250009059906,
          0.8560000061988831,
          0.859000027179718,
          0.8566250205039978,
          0.8528749942779541,
          0.8514999747276306,
          0.8582500219345093,
          0.8544999957084656,
          0.8578749895095825,
          0.8586249947547913,
          0.859624981880188,
          0.859000027179718,
          0.8551250100135803,
          0.8601250052452087
         ],
         "yaxis": "y"
        },
        {
         "hovertemplate": "variable=wide_variable_4<br>x=%{x}<br>value=%{y}<extra></extra>",
         "legendgroup": "wide_variable_4",
         "line": {
          "color": "#FFA15A",
          "dash": "solid"
         },
         "marker": {
          "symbol": "circle"
         },
         "mode": "lines",
         "name": "batch size 64 validation accuracy value",
         "orientation": "v",
         "showlegend": true,
         "type": "scatter",
         "x": [
          0,
          1,
          2,
          3,
          4,
          5,
          6,
          7,
          8,
          9,
          10,
          11,
          12,
          13,
          14,
          15,
          16,
          17,
          18,
          19,
          20,
          21,
          22,
          23,
          24,
          25,
          26,
          27,
          28,
          29,
          30,
          31,
          32,
          33,
          34,
          35,
          36,
          37,
          38,
          39,
          40,
          41,
          42,
          43,
          44,
          45,
          46,
          47,
          48,
          49,
          50,
          51,
          52,
          53,
          54,
          55,
          56,
          57,
          58,
          59,
          60,
          61,
          62,
          63,
          64,
          65,
          66,
          67,
          68,
          69,
          70,
          71,
          72,
          73,
          74,
          75,
          76,
          77,
          78,
          79,
          80,
          81,
          82,
          83,
          84,
          85,
          86,
          87,
          88,
          89,
          90,
          91,
          92,
          93,
          94,
          95,
          96,
          97,
          98,
          99
         ],
         "xaxis": "x",
         "y": [
          0.5573750138282776,
          0.5947499871253967,
          0.6411250233650208,
          0.7567499876022339,
          0.7801250219345093,
          0.7978749871253967,
          0.8056250214576721,
          0.8140000104904175,
          0.8182500004768372,
          0.8215000033378601,
          0.8259999752044678,
          0.8218749761581421,
          0.8314999938011169,
          0.827875018119812,
          0.8352500200271606,
          0.8367499709129333,
          0.8378750085830688,
          0.8392500281333923,
          0.8398749828338623,
          0.8401250243186951,
          0.843375027179718,
          0.840624988079071,
          0.8411250114440918,
          0.8422499895095825,
          0.8423749804496765,
          0.8420000076293945,
          0.8452500104904175,
          0.843625009059906,
          0.8456249833106995,
          0.8461250066757202,
          0.846750020980835,
          0.8471249938011169,
          0.8476250171661377,
          0.84375,
          0.8445000052452087,
          0.8489999771118164,
          0.8516250252723694,
          0.8485000133514404,
          0.8518750071525574,
          0.8517500162124634,
          0.8498749732971191,
          0.8526250123977661,
          0.8528749942779541,
          0.8527500033378601,
          0.8511250019073486,
          0.8535000085830688,
          0.8532500267028809,
          0.8542500138282776,
          0.8551250100135803,
          0.8547499775886536,
          0.8512499928474426,
          0.8537499904632568,
          0.8573750257492065,
          0.856249988079071,
          0.8426250219345093,
          0.8535000085830688,
          0.8445000052452087,
          0.8546249866485596,
          0.8517500162124634,
          0.8489999771118164,
          0.8553749918937683,
          0.856249988079071,
          0.8519999980926514,
          0.8572499752044678,
          0.8560000061988831,
          0.8575000166893005,
          0.8521249890327454,
          0.8581249713897705,
          0.8586249947547913,
          0.8558750152587891,
          0.8566250205039978,
          0.8578749895095825,
          0.859499990940094,
          0.8554999828338623,
          0.8517500162124634,
          0.8577499985694885,
          0.8587499856948853,
          0.856249988079071,
          0.8579999804496765,
          0.8583750128746033,
          0.8560000061988831,
          0.859000027179718,
          0.859000027179718,
          0.8579999804496765,
          0.8516250252723694,
          0.8483750224113464,
          0.859375,
          0.8588749766349792,
          0.8576250076293945,
          0.859375,
          0.8602499961853027,
          0.8558750152587891,
          0.8587499856948853,
          0.8602499961853027,
          0.8581249713897705,
          0.856124997138977,
          0.8514999747276306,
          0.8602499961853027,
          0.8582500219345093,
          0.8602499961853027
         ],
         "yaxis": "y"
        },
        {
         "hovertemplate": "variable=wide_variable_5<br>x=%{x}<br>value=%{y}<extra></extra>",
         "legendgroup": "wide_variable_5",
         "line": {
          "color": "#19d3f3",
          "dash": "solid"
         },
         "marker": {
          "symbol": "circle"
         },
         "mode": "lines",
         "name": "batch size 32 validation accuracy value",
         "orientation": "v",
         "showlegend": true,
         "type": "scatter",
         "x": [
          0,
          1,
          2,
          3,
          4,
          5,
          6,
          7,
          8,
          9,
          10,
          11,
          12,
          13,
          14,
          15,
          16,
          17,
          18,
          19,
          20,
          21,
          22,
          23,
          24,
          25,
          26,
          27,
          28,
          29,
          30,
          31,
          32,
          33,
          34,
          35,
          36,
          37,
          38,
          39,
          40,
          41,
          42,
          43,
          44,
          45,
          46,
          47,
          48,
          49,
          50,
          51,
          52,
          53,
          54,
          55,
          56,
          57,
          58,
          59,
          60,
          61,
          62,
          63,
          64,
          65,
          66,
          67,
          68,
          69,
          70,
          71,
          72,
          73,
          74,
          75,
          76,
          77,
          78,
          79,
          80,
          81,
          82,
          83,
          84,
          85,
          86,
          87,
          88,
          89,
          90,
          91,
          92,
          93,
          94,
          95,
          96,
          97,
          98,
          99
         ],
         "xaxis": "x",
         "y": [
          0.5921249985694885,
          0.7168750166893005,
          0.7683749794960022,
          0.7923750281333923,
          0.8027499914169312,
          0.812874972820282,
          0.8196250200271606,
          0.8245000243186951,
          0.8271250128746033,
          0.8299999833106995,
          0.8308749794960022,
          0.8360000252723694,
          0.8364999890327454,
          0.8364999890327454,
          0.8378750085830688,
          0.8327500224113464,
          0.840749979019165,
          0.8387500047683716,
          0.8401250243186951,
          0.8377500176429749,
          0.8431249856948853,
          0.8453750014305115,
          0.8457499742507935,
          0.843625009059906,
          0.8451250195503235,
          0.843375027179718,
          0.8451250195503235,
          0.8417500257492065,
          0.8479999899864197,
          0.8481249809265137,
          0.8498749732971191,
          0.8529999852180481,
          0.8485000133514404,
          0.8489999771118164,
          0.8508750200271606,
          0.8512499928474426,
          0.8539999723434448,
          0.8527500033378601,
          0.8518750071525574,
          0.8533750176429749,
          0.8558750152587891,
          0.8557500243186951,
          0.8522499799728394,
          0.8526250123977661,
          0.8526250123977661,
          0.8493750095367432,
          0.8548750281333923,
          0.856124997138977,
          0.8546249866485596,
          0.8575000166893005,
          0.8577499985694885,
          0.8586249947547913,
          0.8569999933242798,
          0.8582500219345093,
          0.8571249842643738,
          0.8542500138282776,
          0.8581249713897705,
          0.8582500219345093,
          0.8531249761581421,
          0.859749972820282,
          0.8577499985694885,
          0.8541250228881836,
          0.859000027179718,
          0.8536249995231628,
          0.8581249713897705,
          0.8501250147819519,
          0.8489999771118164,
          0.8576250076293945,
          0.859624981880188,
          0.8571249842643738,
          0.8569999933242798,
          0.8541250228881836,
          0.8560000061988831,
          0.8575000166893005,
          0.859000027179718,
          0.859499990940094,
          0.8587499856948853,
          0.8583750128746033,
          0.8581249713897705,
          0.8575000166893005,
          0.8514999747276306,
          0.8587499856948853,
          0.8571249842643738,
          0.8585000038146973,
          0.8557500243186951,
          0.8542500138282776,
          0.8568750023841858,
          0.8566250205039978,
          0.8567500114440918,
          0.8551250100135803,
          0.8553749918937683,
          0.8579999804496765,
          0.8571249842643738,
          0.8566250205039978,
          0.8585000038146973,
          0.8588749766349792,
          0.8586249947547913,
          0.8575000166893005,
          0.8518750071525574,
          0.8518750071525574
         ],
         "yaxis": "y"
        }
       ],
       "layout": {
        "legend": {
         "title": {
          "text": "variable"
         },
         "tracegroupgap": 0
        },
        "margin": {
         "t": 60
        },
        "template": {
         "data": {
          "bar": [
           {
            "error_x": {
             "color": "#2a3f5f"
            },
            "error_y": {
             "color": "#2a3f5f"
            },
            "marker": {
             "line": {
              "color": "#E5ECF6",
              "width": 0.5
             },
             "pattern": {
              "fillmode": "overlay",
              "size": 10,
              "solidity": 0.2
             }
            },
            "type": "bar"
           }
          ],
          "barpolar": [
           {
            "marker": {
             "line": {
              "color": "#E5ECF6",
              "width": 0.5
             },
             "pattern": {
              "fillmode": "overlay",
              "size": 10,
              "solidity": 0.2
             }
            },
            "type": "barpolar"
           }
          ],
          "carpet": [
           {
            "aaxis": {
             "endlinecolor": "#2a3f5f",
             "gridcolor": "white",
             "linecolor": "white",
             "minorgridcolor": "white",
             "startlinecolor": "#2a3f5f"
            },
            "baxis": {
             "endlinecolor": "#2a3f5f",
             "gridcolor": "white",
             "linecolor": "white",
             "minorgridcolor": "white",
             "startlinecolor": "#2a3f5f"
            },
            "type": "carpet"
           }
          ],
          "choropleth": [
           {
            "colorbar": {
             "outlinewidth": 0,
             "ticks": ""
            },
            "type": "choropleth"
           }
          ],
          "contour": [
           {
            "colorbar": {
             "outlinewidth": 0,
             "ticks": ""
            },
            "colorscale": [
             [
              0,
              "#0d0887"
             ],
             [
              0.1111111111111111,
              "#46039f"
             ],
             [
              0.2222222222222222,
              "#7201a8"
             ],
             [
              0.3333333333333333,
              "#9c179e"
             ],
             [
              0.4444444444444444,
              "#bd3786"
             ],
             [
              0.5555555555555556,
              "#d8576b"
             ],
             [
              0.6666666666666666,
              "#ed7953"
             ],
             [
              0.7777777777777778,
              "#fb9f3a"
             ],
             [
              0.8888888888888888,
              "#fdca26"
             ],
             [
              1,
              "#f0f921"
             ]
            ],
            "type": "contour"
           }
          ],
          "contourcarpet": [
           {
            "colorbar": {
             "outlinewidth": 0,
             "ticks": ""
            },
            "type": "contourcarpet"
           }
          ],
          "heatmap": [
           {
            "colorbar": {
             "outlinewidth": 0,
             "ticks": ""
            },
            "colorscale": [
             [
              0,
              "#0d0887"
             ],
             [
              0.1111111111111111,
              "#46039f"
             ],
             [
              0.2222222222222222,
              "#7201a8"
             ],
             [
              0.3333333333333333,
              "#9c179e"
             ],
             [
              0.4444444444444444,
              "#bd3786"
             ],
             [
              0.5555555555555556,
              "#d8576b"
             ],
             [
              0.6666666666666666,
              "#ed7953"
             ],
             [
              0.7777777777777778,
              "#fb9f3a"
             ],
             [
              0.8888888888888888,
              "#fdca26"
             ],
             [
              1,
              "#f0f921"
             ]
            ],
            "type": "heatmap"
           }
          ],
          "heatmapgl": [
           {
            "colorbar": {
             "outlinewidth": 0,
             "ticks": ""
            },
            "colorscale": [
             [
              0,
              "#0d0887"
             ],
             [
              0.1111111111111111,
              "#46039f"
             ],
             [
              0.2222222222222222,
              "#7201a8"
             ],
             [
              0.3333333333333333,
              "#9c179e"
             ],
             [
              0.4444444444444444,
              "#bd3786"
             ],
             [
              0.5555555555555556,
              "#d8576b"
             ],
             [
              0.6666666666666666,
              "#ed7953"
             ],
             [
              0.7777777777777778,
              "#fb9f3a"
             ],
             [
              0.8888888888888888,
              "#fdca26"
             ],
             [
              1,
              "#f0f921"
             ]
            ],
            "type": "heatmapgl"
           }
          ],
          "histogram": [
           {
            "marker": {
             "pattern": {
              "fillmode": "overlay",
              "size": 10,
              "solidity": 0.2
             }
            },
            "type": "histogram"
           }
          ],
          "histogram2d": [
           {
            "colorbar": {
             "outlinewidth": 0,
             "ticks": ""
            },
            "colorscale": [
             [
              0,
              "#0d0887"
             ],
             [
              0.1111111111111111,
              "#46039f"
             ],
             [
              0.2222222222222222,
              "#7201a8"
             ],
             [
              0.3333333333333333,
              "#9c179e"
             ],
             [
              0.4444444444444444,
              "#bd3786"
             ],
             [
              0.5555555555555556,
              "#d8576b"
             ],
             [
              0.6666666666666666,
              "#ed7953"
             ],
             [
              0.7777777777777778,
              "#fb9f3a"
             ],
             [
              0.8888888888888888,
              "#fdca26"
             ],
             [
              1,
              "#f0f921"
             ]
            ],
            "type": "histogram2d"
           }
          ],
          "histogram2dcontour": [
           {
            "colorbar": {
             "outlinewidth": 0,
             "ticks": ""
            },
            "colorscale": [
             [
              0,
              "#0d0887"
             ],
             [
              0.1111111111111111,
              "#46039f"
             ],
             [
              0.2222222222222222,
              "#7201a8"
             ],
             [
              0.3333333333333333,
              "#9c179e"
             ],
             [
              0.4444444444444444,
              "#bd3786"
             ],
             [
              0.5555555555555556,
              "#d8576b"
             ],
             [
              0.6666666666666666,
              "#ed7953"
             ],
             [
              0.7777777777777778,
              "#fb9f3a"
             ],
             [
              0.8888888888888888,
              "#fdca26"
             ],
             [
              1,
              "#f0f921"
             ]
            ],
            "type": "histogram2dcontour"
           }
          ],
          "mesh3d": [
           {
            "colorbar": {
             "outlinewidth": 0,
             "ticks": ""
            },
            "type": "mesh3d"
           }
          ],
          "parcoords": [
           {
            "line": {
             "colorbar": {
              "outlinewidth": 0,
              "ticks": ""
             }
            },
            "type": "parcoords"
           }
          ],
          "pie": [
           {
            "automargin": true,
            "type": "pie"
           }
          ],
          "scatter": [
           {
            "fillpattern": {
             "fillmode": "overlay",
             "size": 10,
             "solidity": 0.2
            },
            "type": "scatter"
           }
          ],
          "scatter3d": [
           {
            "line": {
             "colorbar": {
              "outlinewidth": 0,
              "ticks": ""
             }
            },
            "marker": {
             "colorbar": {
              "outlinewidth": 0,
              "ticks": ""
             }
            },
            "type": "scatter3d"
           }
          ],
          "scattercarpet": [
           {
            "marker": {
             "colorbar": {
              "outlinewidth": 0,
              "ticks": ""
             }
            },
            "type": "scattercarpet"
           }
          ],
          "scattergeo": [
           {
            "marker": {
             "colorbar": {
              "outlinewidth": 0,
              "ticks": ""
             }
            },
            "type": "scattergeo"
           }
          ],
          "scattergl": [
           {
            "marker": {
             "colorbar": {
              "outlinewidth": 0,
              "ticks": ""
             }
            },
            "type": "scattergl"
           }
          ],
          "scattermapbox": [
           {
            "marker": {
             "colorbar": {
              "outlinewidth": 0,
              "ticks": ""
             }
            },
            "type": "scattermapbox"
           }
          ],
          "scatterpolar": [
           {
            "marker": {
             "colorbar": {
              "outlinewidth": 0,
              "ticks": ""
             }
            },
            "type": "scatterpolar"
           }
          ],
          "scatterpolargl": [
           {
            "marker": {
             "colorbar": {
              "outlinewidth": 0,
              "ticks": ""
             }
            },
            "type": "scatterpolargl"
           }
          ],
          "scatterternary": [
           {
            "marker": {
             "colorbar": {
              "outlinewidth": 0,
              "ticks": ""
             }
            },
            "type": "scatterternary"
           }
          ],
          "surface": [
           {
            "colorbar": {
             "outlinewidth": 0,
             "ticks": ""
            },
            "colorscale": [
             [
              0,
              "#0d0887"
             ],
             [
              0.1111111111111111,
              "#46039f"
             ],
             [
              0.2222222222222222,
              "#7201a8"
             ],
             [
              0.3333333333333333,
              "#9c179e"
             ],
             [
              0.4444444444444444,
              "#bd3786"
             ],
             [
              0.5555555555555556,
              "#d8576b"
             ],
             [
              0.6666666666666666,
              "#ed7953"
             ],
             [
              0.7777777777777778,
              "#fb9f3a"
             ],
             [
              0.8888888888888888,
              "#fdca26"
             ],
             [
              1,
              "#f0f921"
             ]
            ],
            "type": "surface"
           }
          ],
          "table": [
           {
            "cells": {
             "fill": {
              "color": "#EBF0F8"
             },
             "line": {
              "color": "white"
             }
            },
            "header": {
             "fill": {
              "color": "#C8D4E3"
             },
             "line": {
              "color": "white"
             }
            },
            "type": "table"
           }
          ]
         },
         "layout": {
          "annotationdefaults": {
           "arrowcolor": "#2a3f5f",
           "arrowhead": 0,
           "arrowwidth": 1
          },
          "autotypenumbers": "strict",
          "coloraxis": {
           "colorbar": {
            "outlinewidth": 0,
            "ticks": ""
           }
          },
          "colorscale": {
           "diverging": [
            [
             0,
             "#8e0152"
            ],
            [
             0.1,
             "#c51b7d"
            ],
            [
             0.2,
             "#de77ae"
            ],
            [
             0.3,
             "#f1b6da"
            ],
            [
             0.4,
             "#fde0ef"
            ],
            [
             0.5,
             "#f7f7f7"
            ],
            [
             0.6,
             "#e6f5d0"
            ],
            [
             0.7,
             "#b8e186"
            ],
            [
             0.8,
             "#7fbc41"
            ],
            [
             0.9,
             "#4d9221"
            ],
            [
             1,
             "#276419"
            ]
           ],
           "sequential": [
            [
             0,
             "#0d0887"
            ],
            [
             0.1111111111111111,
             "#46039f"
            ],
            [
             0.2222222222222222,
             "#7201a8"
            ],
            [
             0.3333333333333333,
             "#9c179e"
            ],
            [
             0.4444444444444444,
             "#bd3786"
            ],
            [
             0.5555555555555556,
             "#d8576b"
            ],
            [
             0.6666666666666666,
             "#ed7953"
            ],
            [
             0.7777777777777778,
             "#fb9f3a"
            ],
            [
             0.8888888888888888,
             "#fdca26"
            ],
            [
             1,
             "#f0f921"
            ]
           ],
           "sequentialminus": [
            [
             0,
             "#0d0887"
            ],
            [
             0.1111111111111111,
             "#46039f"
            ],
            [
             0.2222222222222222,
             "#7201a8"
            ],
            [
             0.3333333333333333,
             "#9c179e"
            ],
            [
             0.4444444444444444,
             "#bd3786"
            ],
            [
             0.5555555555555556,
             "#d8576b"
            ],
            [
             0.6666666666666666,
             "#ed7953"
            ],
            [
             0.7777777777777778,
             "#fb9f3a"
            ],
            [
             0.8888888888888888,
             "#fdca26"
            ],
            [
             1,
             "#f0f921"
            ]
           ]
          },
          "colorway": [
           "#636efa",
           "#EF553B",
           "#00cc96",
           "#ab63fa",
           "#FFA15A",
           "#19d3f3",
           "#FF6692",
           "#B6E880",
           "#FF97FF",
           "#FECB52"
          ],
          "font": {
           "color": "#2a3f5f"
          },
          "geo": {
           "bgcolor": "white",
           "lakecolor": "white",
           "landcolor": "#E5ECF6",
           "showlakes": true,
           "showland": true,
           "subunitcolor": "white"
          },
          "hoverlabel": {
           "align": "left"
          },
          "hovermode": "closest",
          "mapbox": {
           "style": "light"
          },
          "paper_bgcolor": "white",
          "plot_bgcolor": "#E5ECF6",
          "polar": {
           "angularaxis": {
            "gridcolor": "white",
            "linecolor": "white",
            "ticks": ""
           },
           "bgcolor": "#E5ECF6",
           "radialaxis": {
            "gridcolor": "white",
            "linecolor": "white",
            "ticks": ""
           }
          },
          "scene": {
           "xaxis": {
            "backgroundcolor": "#E5ECF6",
            "gridcolor": "white",
            "gridwidth": 2,
            "linecolor": "white",
            "showbackground": true,
            "ticks": "",
            "zerolinecolor": "white"
           },
           "yaxis": {
            "backgroundcolor": "#E5ECF6",
            "gridcolor": "white",
            "gridwidth": 2,
            "linecolor": "white",
            "showbackground": true,
            "ticks": "",
            "zerolinecolor": "white"
           },
           "zaxis": {
            "backgroundcolor": "#E5ECF6",
            "gridcolor": "white",
            "gridwidth": 2,
            "linecolor": "white",
            "showbackground": true,
            "ticks": "",
            "zerolinecolor": "white"
           }
          },
          "shapedefaults": {
           "line": {
            "color": "#2a3f5f"
           }
          },
          "ternary": {
           "aaxis": {
            "gridcolor": "white",
            "linecolor": "white",
            "ticks": ""
           },
           "baxis": {
            "gridcolor": "white",
            "linecolor": "white",
            "ticks": ""
           },
           "bgcolor": "#E5ECF6",
           "caxis": {
            "gridcolor": "white",
            "linecolor": "white",
            "ticks": ""
           }
          },
          "title": {
           "x": 0.05
          },
          "xaxis": {
           "automargin": true,
           "gridcolor": "white",
           "linecolor": "white",
           "ticks": "",
           "title": {
            "standoff": 15
           },
           "zerolinecolor": "white",
           "zerolinewidth": 2
          },
          "yaxis": {
           "automargin": true,
           "gridcolor": "white",
           "linecolor": "white",
           "ticks": "",
           "title": {
            "standoff": 15
           },
           "zerolinecolor": "white",
           "zerolinewidth": 2
          }
         }
        },
        "title": {
         "text": "Validation Loss and accuracy for GRU models with different batch size and layer size of 32",
         "x": 0.5
        },
        "xaxis": {
         "anchor": "y",
         "domain": [
          0,
          1
         ],
         "title": {
          "text": "Epoch"
         }
        },
        "yaxis": {
         "anchor": "x",
         "domain": [
          0,
          1
         ],
         "title": {
          "text": "Loss/accuracy"
         }
        }
       }
      }
     },
     "metadata": {},
     "output_type": "display_data"
    }
   ],
   "source": [
    "import plotly.express as px\n",
    "fig = px.line(x=range(0, len(history_32_GRU_128['val_loss'])), y=[history_32_GRU_128['val_loss'], history_32_GRU_64['val_loss'], history_32_GRU_32['val_loss'], history_32_GRU_128['val_accuracy'], history_32_GRU_64['val_accuracy'], history_32_GRU_32['val_accuracy']])\n",
    "fig.data[0].name = \"batch size 128 validation loss value\"\n",
    "fig.data[1].name = \"batch size 64 validation loss value\"\n",
    "fig.data[2].name = \"batch size 32 validation loss value\"\n",
    "fig.data[3].name = \"batch size 128 validation accuracy value\"\n",
    "fig.data[4].name = \"batch size 64 validation accuracy value\"\n",
    "fig.data[5].name = \"batch size 32 validation accuracy value\"\n",
    "fig.layout.title.text = \"Validation Loss and accuracy for GRU models with different batch size and layer size of 32\"\n",
    "fig.layout.title.x = .5\n",
    "fig.layout.yaxis.title.text = \"Loss/accuracy\"\n",
    "fig.layout.xaxis.title.text = \"Epoch\"\n",
    "\n",
    "fig.show()"
   ]
  },
  {
   "attachments": {},
   "cell_type": "markdown",
   "metadata": {},
   "source": [
    "From the previous 3 graphs 2 patterns seem to emerge:\n",
    "- a lower layer size presents more stable results, as we can see in the last graph no model seem to overfit, whereas this pattern becomes more evident as the layer size increases.\n",
    "- in case of larger layers bigger batch sizes seem to help reduce overfit, when it occurs.\n",
    "\n",
    "To make sure this situation is due to overfit let's plot the graphs that are not converging in validation loss with their respective training loss."
   ]
  },
  {
   "cell_type": "markdown",
   "metadata": {},
   "source": []
  },
  {
   "cell_type": "code",
   "execution_count": 288,
   "metadata": {},
   "outputs": [
    {
     "data": {
      "application/vnd.plotly.v1+json": {
       "config": {
        "plotlyServerURL": "https://plot.ly"
       },
       "data": [
        {
         "hovertemplate": "variable=wide_variable_0<br>x=%{x}<br>value=%{y}<extra></extra>",
         "legendgroup": "wide_variable_0",
         "line": {
          "color": "#636efa",
          "dash": "solid"
         },
         "marker": {
          "symbol": "circle"
         },
         "mode": "lines",
         "name": "batch size 128 validation loss value",
         "orientation": "v",
         "showlegend": true,
         "type": "scatter",
         "x": [
          0,
          1,
          2,
          3,
          4,
          5,
          6,
          7,
          8,
          9,
          10,
          11,
          12,
          13,
          14,
          15,
          16,
          17,
          18,
          19,
          20,
          21,
          22,
          23,
          24,
          25,
          26,
          27,
          28,
          29,
          30,
          31,
          32,
          33,
          34,
          35,
          36,
          37,
          38,
          39,
          40,
          41,
          42,
          43,
          44,
          45,
          46,
          47,
          48,
          49,
          50,
          51,
          52,
          53,
          54,
          55,
          56,
          57,
          58,
          59,
          60,
          61,
          62,
          63,
          64,
          65,
          66,
          67,
          68,
          69,
          70,
          71,
          72,
          73,
          74,
          75,
          76,
          77,
          78,
          79,
          80,
          81,
          82,
          83,
          84,
          85,
          86,
          87,
          88,
          89,
          90,
          91,
          92,
          93,
          94,
          95,
          96,
          97,
          98,
          99
         ],
         "xaxis": "x",
         "y": [
          0.6640302538871765,
          0.555217981338501,
          0.4816737771034241,
          0.4670087695121765,
          0.4147312045097351,
          0.4096522927284241,
          0.40294313430786133,
          0.3863295614719391,
          0.3919302821159363,
          0.3744642734527588,
          0.3690944314002991,
          0.3657296299934387,
          0.36797353625297546,
          0.3600999712944031,
          0.35305240750312805,
          0.35280171036720276,
          0.35276398062705994,
          0.3641628324985504,
          0.35092693567276,
          0.34119299054145813,
          0.37587594985961914,
          0.34810569882392883,
          0.3448448181152344,
          0.3538113832473755,
          0.33909839391708374,
          0.33265408873558044,
          0.3332684338092804,
          0.34163522720336914,
          0.34562963247299194,
          0.3286356031894684,
          0.32896971702575684,
          0.33435603976249695,
          0.33092033863067627,
          0.33131107687950134,
          0.3262880742549896,
          0.3286125361919403,
          0.32545119524002075,
          0.3281685411930084,
          0.3351270854473114,
          0.33302074670791626,
          0.3397737741470337,
          0.3271055817604065,
          0.33195698261260986,
          0.3311687409877777,
          0.3307362496852875,
          0.32760709524154663,
          0.32618579268455505,
          0.32586461305618286,
          0.3289898931980133,
          0.34171220660209656,
          0.3361375629901886,
          0.3287429213523865,
          0.3323885500431061,
          0.33327868580818176,
          0.3662108778953552,
          0.3328535258769989,
          0.34430235624313354,
          0.3443964123725891,
          0.3383840322494507,
          0.3430540859699249,
          0.3388926088809967,
          0.3427489697933197,
          0.3542928695678711,
          0.35083022713661194,
          0.3429352343082428,
          0.3426576256752014,
          0.3569892644882202,
          0.3627197742462158,
          0.36301517486572266,
          0.3600652515888214,
          0.4025537967681885,
          0.3530946969985962,
          0.3497176468372345,
          0.37315285205841064,
          0.3580358028411865,
          0.35847100615501404,
          0.37846705317497253,
          0.36902400851249695,
          0.3652636408805847,
          0.3710908591747284,
          0.39229071140289307,
          0.3785855770111084,
          0.38197028636932373,
          0.38862839341163635,
          0.38498032093048096,
          0.40041667222976685,
          0.39381876587867737,
          0.3931272029876709,
          0.39455446600914,
          0.4124309718608856,
          0.4048716127872467,
          0.40587908029556274,
          0.39955708384513855,
          0.40844544768333435,
          0.4152906835079193,
          0.42344656586647034,
          0.47363385558128357,
          0.5006798505783081,
          0.43366745114326477,
          0.436612069606781
         ],
         "yaxis": "y"
        },
        {
         "hovertemplate": "variable=wide_variable_1<br>x=%{x}<br>value=%{y}<extra></extra>",
         "legendgroup": "wide_variable_1",
         "line": {
          "color": "#EF553B",
          "dash": "solid"
         },
         "marker": {
          "symbol": "circle"
         },
         "mode": "lines",
         "name": "batch size 64 validation loss value",
         "orientation": "v",
         "showlegend": true,
         "type": "scatter",
         "x": [
          0,
          1,
          2,
          3,
          4,
          5,
          6,
          7,
          8,
          9,
          10,
          11,
          12,
          13,
          14,
          15,
          16,
          17,
          18,
          19,
          20,
          21,
          22,
          23,
          24,
          25,
          26,
          27,
          28,
          29,
          30,
          31,
          32,
          33,
          34,
          35,
          36,
          37,
          38,
          39,
          40,
          41,
          42,
          43,
          44,
          45,
          46,
          47,
          48,
          49,
          50,
          51,
          52,
          53,
          54,
          55,
          56,
          57,
          58,
          59,
          60,
          61,
          62,
          63,
          64,
          65,
          66,
          67,
          68,
          69,
          70,
          71,
          72,
          73,
          74,
          75,
          76,
          77,
          78,
          79,
          80,
          81,
          82,
          83,
          84,
          85,
          86,
          87,
          88,
          89,
          90,
          91,
          92,
          93,
          94,
          95,
          96,
          97,
          98,
          99
         ],
         "xaxis": "x",
         "y": [
          0.6436521410942078,
          0.5137474536895752,
          0.44970205426216125,
          0.4157610833644867,
          0.41303759813308716,
          0.4038342535495758,
          0.38119542598724365,
          0.3617647886276245,
          0.35777929425239563,
          0.352448970079422,
          0.35607102513313293,
          0.3458680510520935,
          0.35501065850257874,
          0.34233713150024414,
          0.343919962644577,
          0.3427148461341858,
          0.33452776074409485,
          0.35689884424209595,
          0.3325600028038025,
          0.3324224054813385,
          0.35003891587257385,
          0.33953994512557983,
          0.36247721314430237,
          0.3286965489387512,
          0.3392984867095947,
          0.33331504464149475,
          0.3515762686729431,
          0.3291780352592468,
          0.3268415629863739,
          0.3343522548675537,
          0.32846468687057495,
          0.32983532547950745,
          0.3704153895378113,
          0.3325302004814148,
          0.33348169922828674,
          0.33840832114219666,
          0.33198487758636475,
          0.33762499690055847,
          0.3372926115989685,
          0.3631725013256073,
          0.3345119059085846,
          0.3407335579395294,
          0.34290289878845215,
          0.3443252146244049,
          0.35873061418533325,
          0.3441930115222931,
          0.3550983965396881,
          0.3471025824546814,
          0.3588070571422577,
          0.35674968361854553,
          0.35387304425239563,
          0.3615383803844452,
          0.35915303230285645,
          0.36251211166381836,
          0.37045902013778687,
          0.3835802376270294,
          0.39897698163986206,
          0.38116225600242615,
          0.45180684328079224,
          0.39002421498298645,
          0.38362905383110046,
          0.5225602388381958,
          0.4528276324272156,
          0.40017205476760864,
          0.41449564695358276,
          0.4148634672164917,
          0.4107118248939514,
          0.42403003573417664,
          0.4296882152557373,
          0.46420231461524963,
          0.4371891915798187,
          0.4580531418323517,
          0.4596492350101471,
          0.4927557706832886,
          0.4485012888908386,
          0.4752102196216583,
          0.4948122203350067,
          0.4940631091594696,
          0.47722509503364563,
          0.49698129296302795,
          0.5149367451667786,
          0.5259854793548584,
          0.5105606317520142,
          0.5370588302612305,
          0.5455865263938904,
          0.5576204061508179,
          0.5663514733314514,
          0.6086646914482117,
          0.6094428896903992,
          0.6013113856315613,
          0.6296170949935913,
          0.6416285634040833,
          0.6534536480903625,
          0.6583782434463501,
          0.6927312612533569,
          0.6379491090774536,
          0.7193887829780579,
          0.6882453560829163,
          0.7411408424377441,
          0.7242252230644226
         ],
         "yaxis": "y"
        },
        {
         "hovertemplate": "variable=wide_variable_2<br>x=%{x}<br>value=%{y}<extra></extra>",
         "legendgroup": "wide_variable_2",
         "line": {
          "color": "#00cc96",
          "dash": "solid"
         },
         "marker": {
          "symbol": "circle"
         },
         "mode": "lines",
         "name": "batch size 32 validation loss value",
         "orientation": "v",
         "showlegend": true,
         "type": "scatter",
         "x": [
          0,
          1,
          2,
          3,
          4,
          5,
          6,
          7,
          8,
          9,
          10,
          11,
          12,
          13,
          14,
          15,
          16,
          17,
          18,
          19,
          20,
          21,
          22,
          23,
          24,
          25,
          26,
          27,
          28,
          29,
          30,
          31,
          32,
          33,
          34,
          35,
          36,
          37,
          38,
          39,
          40,
          41,
          42,
          43,
          44,
          45,
          46,
          47,
          48,
          49,
          50,
          51,
          52,
          53,
          54,
          55,
          56,
          57,
          58,
          59,
          60,
          61,
          62,
          63,
          64,
          65,
          66,
          67,
          68,
          69,
          70,
          71,
          72,
          73,
          74,
          75,
          76,
          77,
          78,
          79,
          80,
          81,
          82,
          83,
          84,
          85,
          86,
          87,
          88,
          89,
          90,
          91,
          92,
          93,
          94,
          95,
          96,
          97,
          98,
          99
         ],
         "xaxis": "x",
         "y": [
          0.5181218981742859,
          0.4476878046989441,
          0.40993526577949524,
          0.3831191062927246,
          0.3742915689945221,
          0.35849377512931824,
          0.3650015890598297,
          0.34640008211135864,
          0.3419458568096161,
          0.33750903606414795,
          0.3362876772880554,
          0.33181479573249817,
          0.331376314163208,
          0.3332669734954834,
          0.3293595314025879,
          0.3247900903224945,
          0.334243506193161,
          0.3315410912036896,
          0.32313603162765503,
          0.32260942459106445,
          0.32442158460617065,
          0.3242526650428772,
          0.33380773663520813,
          0.3453493118286133,
          0.3285757005214691,
          0.34705227613449097,
          0.3397553563117981,
          0.33628711104393005,
          0.3316497504711151,
          0.3853823244571686,
          0.3351761996746063,
          0.337259441614151,
          0.3532716631889343,
          0.35043373703956604,
          0.3539593517780304,
          0.39043158292770386,
          0.3688238859176636,
          0.35661181807518005,
          0.4135459363460541,
          0.3679952621459961,
          0.38702335953712463,
          0.41220614314079285,
          0.3928278684616089,
          0.4484331011772156,
          0.39486390352249146,
          0.448352575302124,
          0.4264211654663086,
          0.45588672161102295,
          0.43754076957702637,
          0.449292927980423,
          0.47827109694480896,
          0.47904640436172485,
          0.4776134192943573,
          0.48380008339881897,
          0.49497807025909424,
          0.5193954706192017,
          0.5445556044578552,
          0.5697867274284363,
          0.6073657870292664,
          0.6032804250717163,
          0.5874336957931519,
          0.6329468488693237,
          0.6616613268852234,
          0.6734253168106079,
          0.7333951592445374,
          0.7194477915763855,
          0.7304189205169678,
          0.7888879776000977,
          0.8032837510108948,
          0.8244275450706482,
          0.9513424038887024,
          0.9137260913848877,
          0.9101037979125977,
          0.9788649082183838,
          0.9883399605751038,
          1.0292689800262451,
          1.0330066680908203,
          1.0854566097259521,
          1.1297554969787598,
          1.1300268173217773,
          1.0952643156051636,
          1.0989750623703003,
          1.1610705852508545,
          1.2748630046844482,
          1.240502119064331,
          1.2073497772216797,
          1.2914159297943115,
          1.244626522064209,
          1.2699140310287476,
          1.3707016706466675,
          1.312563419342041,
          1.5271508693695068,
          1.3947426080703735,
          1.5435750484466553,
          1.2710150480270386,
          1.4278308153152466,
          1.3647798299789429,
          1.3967978954315186,
          1.4729901552200317,
          1.3737598657608032
         ],
         "yaxis": "y"
        },
        {
         "hovertemplate": "variable=wide_variable_3<br>x=%{x}<br>value=%{y}<extra></extra>",
         "legendgroup": "wide_variable_3",
         "line": {
          "color": "#ab63fa",
          "dash": "solid"
         },
         "marker": {
          "symbol": "circle"
         },
         "mode": "lines",
         "name": "batch size 128 training loss value",
         "orientation": "v",
         "showlegend": true,
         "type": "scatter",
         "x": [
          0,
          1,
          2,
          3,
          4,
          5,
          6,
          7,
          8,
          9,
          10,
          11,
          12,
          13,
          14,
          15,
          16,
          17,
          18,
          19,
          20,
          21,
          22,
          23,
          24,
          25,
          26,
          27,
          28,
          29,
          30,
          31,
          32,
          33,
          34,
          35,
          36,
          37,
          38,
          39,
          40,
          41,
          42,
          43,
          44,
          45,
          46,
          47,
          48,
          49,
          50,
          51,
          52,
          53,
          54,
          55,
          56,
          57,
          58,
          59,
          60,
          61,
          62,
          63,
          64,
          65,
          66,
          67,
          68,
          69,
          70,
          71,
          72,
          73,
          74,
          75,
          76,
          77,
          78,
          79,
          80,
          81,
          82,
          83,
          84,
          85,
          86,
          87,
          88,
          89,
          90,
          91,
          92,
          93,
          94,
          95,
          96,
          97,
          98,
          99
         ],
         "xaxis": "x",
         "y": [
          0.6786763668060303,
          0.6287676095962524,
          0.5086169838905334,
          0.46913933753967285,
          0.43793225288391113,
          0.41154050827026367,
          0.399649977684021,
          0.39156851172447205,
          0.3812130093574524,
          0.3776084780693054,
          0.3708174228668213,
          0.3628348410129547,
          0.36015111207962036,
          0.35570675134658813,
          0.3486848771572113,
          0.3453521430492401,
          0.33987361192703247,
          0.33764827251434326,
          0.3320605158805847,
          0.3270531892776489,
          0.3231104016304016,
          0.32037582993507385,
          0.31789642572402954,
          0.3158078193664551,
          0.3116011917591095,
          0.30646413564682007,
          0.30799412727355957,
          0.3019328713417053,
          0.29903754591941833,
          0.29638996720314026,
          0.293307363986969,
          0.2906092703342438,
          0.2931746542453766,
          0.2867061495780945,
          0.2815156579017639,
          0.28116118907928467,
          0.27910277247428894,
          0.275110125541687,
          0.2725125253200531,
          0.2709399461746216,
          0.2693849802017212,
          0.2620637118816376,
          0.2665331959724426,
          0.2583189904689789,
          0.25551122426986694,
          0.255027174949646,
          0.2551009953022003,
          0.251689076423645,
          0.2478703260421753,
          0.24480311572551727,
          0.2429259866476059,
          0.2442004382610321,
          0.23937195539474487,
          0.2339402735233307,
          0.2344961315393448,
          0.23359310626983643,
          0.2301878035068512,
          0.22908316552639008,
          0.22241909801959991,
          0.22370201349258423,
          0.2211436927318573,
          0.219425767660141,
          0.21675267815589905,
          0.21366599202156067,
          0.21108050644397736,
          0.20905444025993347,
          0.21179014444351196,
          0.20407789945602417,
          0.20427612960338593,
          0.19908592104911804,
          0.19918306171894073,
          0.19704769551753998,
          0.1968512237071991,
          0.18912582099437714,
          0.18937237560749054,
          0.18653510510921478,
          0.18314962089061737,
          0.18144173920154572,
          0.18144740164279938,
          0.18161766231060028,
          0.17471133172512054,
          0.17531409859657288,
          0.17068153619766235,
          0.17022019624710083,
          0.1680958867073059,
          0.16291531920433044,
          0.16336946189403534,
          0.16015052795410156,
          0.16441641747951508,
          0.15399295091629028,
          0.15207955241203308,
          0.1494467407464981,
          0.1532217413187027,
          0.1472989022731781,
          0.14511331915855408,
          0.1419229358434677,
          0.1383928656578064,
          0.14147023856639862,
          0.13442498445510864,
          0.13398003578186035
         ],
         "yaxis": "y"
        },
        {
         "hovertemplate": "variable=wide_variable_4<br>x=%{x}<br>value=%{y}<extra></extra>",
         "legendgroup": "wide_variable_4",
         "line": {
          "color": "#FFA15A",
          "dash": "solid"
         },
         "marker": {
          "symbol": "circle"
         },
         "mode": "lines",
         "name": "batch size 64 training loss value",
         "orientation": "v",
         "showlegend": true,
         "type": "scatter",
         "x": [
          0,
          1,
          2,
          3,
          4,
          5,
          6,
          7,
          8,
          9,
          10,
          11,
          12,
          13,
          14,
          15,
          16,
          17,
          18,
          19,
          20,
          21,
          22,
          23,
          24,
          25,
          26,
          27,
          28,
          29,
          30,
          31,
          32,
          33,
          34,
          35,
          36,
          37,
          38,
          39,
          40,
          41,
          42,
          43,
          44,
          45,
          46,
          47,
          48,
          49,
          50,
          51,
          52,
          53,
          54,
          55,
          56,
          57,
          58,
          59,
          60,
          61,
          62,
          63,
          64,
          65,
          66,
          67,
          68,
          69,
          70,
          71,
          72,
          73,
          74,
          75,
          76,
          77,
          78,
          79,
          80,
          81,
          82,
          83,
          84,
          85,
          86,
          87,
          88,
          89,
          90,
          91,
          92,
          93,
          94,
          95,
          96,
          97,
          98,
          99
         ],
         "xaxis": "x",
         "y": [
          0.6750708222389221,
          0.5634512305259705,
          0.48109909892082214,
          0.43520626425743103,
          0.4039353132247925,
          0.38656288385391235,
          0.3749353289604187,
          0.3636031150817871,
          0.35546842217445374,
          0.34848910570144653,
          0.34082749485969543,
          0.3365308344364166,
          0.32974424958229065,
          0.32369858026504517,
          0.31909093260765076,
          0.3153691589832306,
          0.31084752082824707,
          0.3034258186817169,
          0.3032017648220062,
          0.2975062429904938,
          0.2935977578163147,
          0.2877362370491028,
          0.2847619354724884,
          0.2792530357837677,
          0.2774716019630432,
          0.2714373767375946,
          0.26992738246917725,
          0.26455920934677124,
          0.2638349235057831,
          0.2564947307109833,
          0.2561385929584503,
          0.25341886281967163,
          0.2488599419593811,
          0.24557241797447205,
          0.24215759336948395,
          0.2398858666419983,
          0.2372138351202011,
          0.23394596576690674,
          0.23185773193836212,
          0.22471056878566742,
          0.22897909581661224,
          0.22169983386993408,
          0.22086507081985474,
          0.215534970164299,
          0.21308434009552002,
          0.20870758593082428,
          0.20570208132266998,
          0.2041856348514557,
          0.19913627207279205,
          0.2007519006729126,
          0.19263483583927155,
          0.19034074246883392,
          0.19051547348499298,
          0.1838257908821106,
          0.18107551336288452,
          0.17899945378303528,
          0.17768919467926025,
          0.17516463994979858,
          0.16914969682693481,
          0.16657806932926178,
          0.16550828516483307,
          0.16184665262699127,
          0.15987147390842438,
          0.15675097703933716,
          0.15025341510772705,
          0.14978526532649994,
          0.14572957158088684,
          0.14230449497699738,
          0.1367502063512802,
          0.13411401212215424,
          0.12992027401924133,
          0.12888112664222717,
          0.12323038280010223,
          0.12157777696847916,
          0.11994875967502594,
          0.11936014890670776,
          0.11037222295999527,
          0.10882135480642319,
          0.10753915458917618,
          0.10403003543615341,
          0.09948736429214478,
          0.09515515714883804,
          0.09514019638299942,
          0.09811834245920181,
          0.09375445544719696,
          0.08254450559616089,
          0.08103002607822418,
          0.07902064174413681,
          0.07786501944065094,
          0.07636690884828568,
          0.07252242416143417,
          0.06788215786218643,
          0.06598792225122452,
          0.06590497493743896,
          0.06425496935844421,
          0.06024709343910217,
          0.055165085941553116,
          0.05736516788601875,
          0.05560510605573654,
          0.04997106269001961
         ],
         "yaxis": "y"
        },
        {
         "hovertemplate": "variable=wide_variable_5<br>x=%{x}<br>value=%{y}<extra></extra>",
         "legendgroup": "wide_variable_5",
         "line": {
          "color": "#19d3f3",
          "dash": "solid"
         },
         "marker": {
          "symbol": "circle"
         },
         "mode": "lines",
         "name": "batch size 32 training loss value",
         "orientation": "v",
         "showlegend": true,
         "type": "scatter",
         "x": [
          0,
          1,
          2,
          3,
          4,
          5,
          6,
          7,
          8,
          9,
          10,
          11,
          12,
          13,
          14,
          15,
          16,
          17,
          18,
          19,
          20,
          21,
          22,
          23,
          24,
          25,
          26,
          27,
          28,
          29,
          30,
          31,
          32,
          33,
          34,
          35,
          36,
          37,
          38,
          39,
          40,
          41,
          42,
          43,
          44,
          45,
          46,
          47,
          48,
          49,
          50,
          51,
          52,
          53,
          54,
          55,
          56,
          57,
          58,
          59,
          60,
          61,
          62,
          63,
          64,
          65,
          66,
          67,
          68,
          69,
          70,
          71,
          72,
          73,
          74,
          75,
          76,
          77,
          78,
          79,
          80,
          81,
          82,
          83,
          84,
          85,
          86,
          87,
          88,
          89,
          90,
          91,
          92,
          93,
          94,
          95,
          96,
          97,
          98,
          99
         ],
         "xaxis": "x",
         "y": [
          0.6360734701156616,
          0.48744386434555054,
          0.4329567849636078,
          0.4006688892841339,
          0.3795944154262543,
          0.3658686578273773,
          0.3557831346988678,
          0.3470520079135895,
          0.3360593914985657,
          0.3294956386089325,
          0.3227679133415222,
          0.31374165415763855,
          0.30922800302505493,
          0.3023790121078491,
          0.29744550585746765,
          0.292050302028656,
          0.2857438921928406,
          0.28255170583724976,
          0.2750597298145294,
          0.27026212215423584,
          0.2670007050037384,
          0.2607777416706085,
          0.257489949464798,
          0.25070759654045105,
          0.2459256649017334,
          0.24293702840805054,
          0.23485805094242096,
          0.2327279895544052,
          0.22672170400619507,
          0.22755476832389832,
          0.21778881549835205,
          0.21611425280570984,
          0.20975103974342346,
          0.20578595995903015,
          0.20056213438510895,
          0.19682325422763824,
          0.19322101771831512,
          0.1886528730392456,
          0.1791033148765564,
          0.17923037707805634,
          0.17247697710990906,
          0.16651137173175812,
          0.16245143115520477,
          0.1610434204339981,
          0.15726813673973083,
          0.1491990089416504,
          0.1436125636100769,
          0.1368587613105774,
          0.1316026747226715,
          0.12996819615364075,
          0.12112928926944733,
          0.11696349084377289,
          0.11500261723995209,
          0.11172538250684738,
          0.10293671488761902,
          0.10107915848493576,
          0.09447454661130905,
          0.0884445384144783,
          0.08378308266401291,
          0.08277139067649841,
          0.07505349069833755,
          0.07112803310155869,
          0.06640489399433136,
          0.06554659456014633,
          0.05815716087818146,
          0.05570433661341667,
          0.05299372971057892,
          0.05050219967961311,
          0.04367351531982422,
          0.03831358999013901,
          0.03670274838805199,
          0.03419279307126999,
          0.037151165306568146,
          0.031293097883462906,
          0.02626975066959858,
          0.02838662825524807,
          0.024723445996642113,
          0.021459326148033142,
          0.02065509930253029,
          0.023606184870004654,
          0.02085145190358162,
          0.01859254390001297,
          0.017581075429916382,
          0.00982141587883234,
          0.016800926998257637,
          0.021349402144551277,
          0.009290711022913456,
          0.015208999626338482,
          0.016748566180467606,
          0.008155864663422108,
          0.02153049223124981,
          0.008611601777374744,
          0.012423203326761723,
          0.004876072518527508,
          0.024520715698599815,
          0.005860726349055767,
          0.008045580238103867,
          0.020640533417463303,
          0.0034879683516919613,
          0.006562849972397089
         ],
         "yaxis": "y"
        }
       ],
       "layout": {
        "legend": {
         "title": {
          "text": "variable"
         },
         "tracegroupgap": 0
        },
        "margin": {
         "t": 60
        },
        "template": {
         "data": {
          "bar": [
           {
            "error_x": {
             "color": "#2a3f5f"
            },
            "error_y": {
             "color": "#2a3f5f"
            },
            "marker": {
             "line": {
              "color": "#E5ECF6",
              "width": 0.5
             },
             "pattern": {
              "fillmode": "overlay",
              "size": 10,
              "solidity": 0.2
             }
            },
            "type": "bar"
           }
          ],
          "barpolar": [
           {
            "marker": {
             "line": {
              "color": "#E5ECF6",
              "width": 0.5
             },
             "pattern": {
              "fillmode": "overlay",
              "size": 10,
              "solidity": 0.2
             }
            },
            "type": "barpolar"
           }
          ],
          "carpet": [
           {
            "aaxis": {
             "endlinecolor": "#2a3f5f",
             "gridcolor": "white",
             "linecolor": "white",
             "minorgridcolor": "white",
             "startlinecolor": "#2a3f5f"
            },
            "baxis": {
             "endlinecolor": "#2a3f5f",
             "gridcolor": "white",
             "linecolor": "white",
             "minorgridcolor": "white",
             "startlinecolor": "#2a3f5f"
            },
            "type": "carpet"
           }
          ],
          "choropleth": [
           {
            "colorbar": {
             "outlinewidth": 0,
             "ticks": ""
            },
            "type": "choropleth"
           }
          ],
          "contour": [
           {
            "colorbar": {
             "outlinewidth": 0,
             "ticks": ""
            },
            "colorscale": [
             [
              0,
              "#0d0887"
             ],
             [
              0.1111111111111111,
              "#46039f"
             ],
             [
              0.2222222222222222,
              "#7201a8"
             ],
             [
              0.3333333333333333,
              "#9c179e"
             ],
             [
              0.4444444444444444,
              "#bd3786"
             ],
             [
              0.5555555555555556,
              "#d8576b"
             ],
             [
              0.6666666666666666,
              "#ed7953"
             ],
             [
              0.7777777777777778,
              "#fb9f3a"
             ],
             [
              0.8888888888888888,
              "#fdca26"
             ],
             [
              1,
              "#f0f921"
             ]
            ],
            "type": "contour"
           }
          ],
          "contourcarpet": [
           {
            "colorbar": {
             "outlinewidth": 0,
             "ticks": ""
            },
            "type": "contourcarpet"
           }
          ],
          "heatmap": [
           {
            "colorbar": {
             "outlinewidth": 0,
             "ticks": ""
            },
            "colorscale": [
             [
              0,
              "#0d0887"
             ],
             [
              0.1111111111111111,
              "#46039f"
             ],
             [
              0.2222222222222222,
              "#7201a8"
             ],
             [
              0.3333333333333333,
              "#9c179e"
             ],
             [
              0.4444444444444444,
              "#bd3786"
             ],
             [
              0.5555555555555556,
              "#d8576b"
             ],
             [
              0.6666666666666666,
              "#ed7953"
             ],
             [
              0.7777777777777778,
              "#fb9f3a"
             ],
             [
              0.8888888888888888,
              "#fdca26"
             ],
             [
              1,
              "#f0f921"
             ]
            ],
            "type": "heatmap"
           }
          ],
          "heatmapgl": [
           {
            "colorbar": {
             "outlinewidth": 0,
             "ticks": ""
            },
            "colorscale": [
             [
              0,
              "#0d0887"
             ],
             [
              0.1111111111111111,
              "#46039f"
             ],
             [
              0.2222222222222222,
              "#7201a8"
             ],
             [
              0.3333333333333333,
              "#9c179e"
             ],
             [
              0.4444444444444444,
              "#bd3786"
             ],
             [
              0.5555555555555556,
              "#d8576b"
             ],
             [
              0.6666666666666666,
              "#ed7953"
             ],
             [
              0.7777777777777778,
              "#fb9f3a"
             ],
             [
              0.8888888888888888,
              "#fdca26"
             ],
             [
              1,
              "#f0f921"
             ]
            ],
            "type": "heatmapgl"
           }
          ],
          "histogram": [
           {
            "marker": {
             "pattern": {
              "fillmode": "overlay",
              "size": 10,
              "solidity": 0.2
             }
            },
            "type": "histogram"
           }
          ],
          "histogram2d": [
           {
            "colorbar": {
             "outlinewidth": 0,
             "ticks": ""
            },
            "colorscale": [
             [
              0,
              "#0d0887"
             ],
             [
              0.1111111111111111,
              "#46039f"
             ],
             [
              0.2222222222222222,
              "#7201a8"
             ],
             [
              0.3333333333333333,
              "#9c179e"
             ],
             [
              0.4444444444444444,
              "#bd3786"
             ],
             [
              0.5555555555555556,
              "#d8576b"
             ],
             [
              0.6666666666666666,
              "#ed7953"
             ],
             [
              0.7777777777777778,
              "#fb9f3a"
             ],
             [
              0.8888888888888888,
              "#fdca26"
             ],
             [
              1,
              "#f0f921"
             ]
            ],
            "type": "histogram2d"
           }
          ],
          "histogram2dcontour": [
           {
            "colorbar": {
             "outlinewidth": 0,
             "ticks": ""
            },
            "colorscale": [
             [
              0,
              "#0d0887"
             ],
             [
              0.1111111111111111,
              "#46039f"
             ],
             [
              0.2222222222222222,
              "#7201a8"
             ],
             [
              0.3333333333333333,
              "#9c179e"
             ],
             [
              0.4444444444444444,
              "#bd3786"
             ],
             [
              0.5555555555555556,
              "#d8576b"
             ],
             [
              0.6666666666666666,
              "#ed7953"
             ],
             [
              0.7777777777777778,
              "#fb9f3a"
             ],
             [
              0.8888888888888888,
              "#fdca26"
             ],
             [
              1,
              "#f0f921"
             ]
            ],
            "type": "histogram2dcontour"
           }
          ],
          "mesh3d": [
           {
            "colorbar": {
             "outlinewidth": 0,
             "ticks": ""
            },
            "type": "mesh3d"
           }
          ],
          "parcoords": [
           {
            "line": {
             "colorbar": {
              "outlinewidth": 0,
              "ticks": ""
             }
            },
            "type": "parcoords"
           }
          ],
          "pie": [
           {
            "automargin": true,
            "type": "pie"
           }
          ],
          "scatter": [
           {
            "fillpattern": {
             "fillmode": "overlay",
             "size": 10,
             "solidity": 0.2
            },
            "type": "scatter"
           }
          ],
          "scatter3d": [
           {
            "line": {
             "colorbar": {
              "outlinewidth": 0,
              "ticks": ""
             }
            },
            "marker": {
             "colorbar": {
              "outlinewidth": 0,
              "ticks": ""
             }
            },
            "type": "scatter3d"
           }
          ],
          "scattercarpet": [
           {
            "marker": {
             "colorbar": {
              "outlinewidth": 0,
              "ticks": ""
             }
            },
            "type": "scattercarpet"
           }
          ],
          "scattergeo": [
           {
            "marker": {
             "colorbar": {
              "outlinewidth": 0,
              "ticks": ""
             }
            },
            "type": "scattergeo"
           }
          ],
          "scattergl": [
           {
            "marker": {
             "colorbar": {
              "outlinewidth": 0,
              "ticks": ""
             }
            },
            "type": "scattergl"
           }
          ],
          "scattermapbox": [
           {
            "marker": {
             "colorbar": {
              "outlinewidth": 0,
              "ticks": ""
             }
            },
            "type": "scattermapbox"
           }
          ],
          "scatterpolar": [
           {
            "marker": {
             "colorbar": {
              "outlinewidth": 0,
              "ticks": ""
             }
            },
            "type": "scatterpolar"
           }
          ],
          "scatterpolargl": [
           {
            "marker": {
             "colorbar": {
              "outlinewidth": 0,
              "ticks": ""
             }
            },
            "type": "scatterpolargl"
           }
          ],
          "scatterternary": [
           {
            "marker": {
             "colorbar": {
              "outlinewidth": 0,
              "ticks": ""
             }
            },
            "type": "scatterternary"
           }
          ],
          "surface": [
           {
            "colorbar": {
             "outlinewidth": 0,
             "ticks": ""
            },
            "colorscale": [
             [
              0,
              "#0d0887"
             ],
             [
              0.1111111111111111,
              "#46039f"
             ],
             [
              0.2222222222222222,
              "#7201a8"
             ],
             [
              0.3333333333333333,
              "#9c179e"
             ],
             [
              0.4444444444444444,
              "#bd3786"
             ],
             [
              0.5555555555555556,
              "#d8576b"
             ],
             [
              0.6666666666666666,
              "#ed7953"
             ],
             [
              0.7777777777777778,
              "#fb9f3a"
             ],
             [
              0.8888888888888888,
              "#fdca26"
             ],
             [
              1,
              "#f0f921"
             ]
            ],
            "type": "surface"
           }
          ],
          "table": [
           {
            "cells": {
             "fill": {
              "color": "#EBF0F8"
             },
             "line": {
              "color": "white"
             }
            },
            "header": {
             "fill": {
              "color": "#C8D4E3"
             },
             "line": {
              "color": "white"
             }
            },
            "type": "table"
           }
          ]
         },
         "layout": {
          "annotationdefaults": {
           "arrowcolor": "#2a3f5f",
           "arrowhead": 0,
           "arrowwidth": 1
          },
          "autotypenumbers": "strict",
          "coloraxis": {
           "colorbar": {
            "outlinewidth": 0,
            "ticks": ""
           }
          },
          "colorscale": {
           "diverging": [
            [
             0,
             "#8e0152"
            ],
            [
             0.1,
             "#c51b7d"
            ],
            [
             0.2,
             "#de77ae"
            ],
            [
             0.3,
             "#f1b6da"
            ],
            [
             0.4,
             "#fde0ef"
            ],
            [
             0.5,
             "#f7f7f7"
            ],
            [
             0.6,
             "#e6f5d0"
            ],
            [
             0.7,
             "#b8e186"
            ],
            [
             0.8,
             "#7fbc41"
            ],
            [
             0.9,
             "#4d9221"
            ],
            [
             1,
             "#276419"
            ]
           ],
           "sequential": [
            [
             0,
             "#0d0887"
            ],
            [
             0.1111111111111111,
             "#46039f"
            ],
            [
             0.2222222222222222,
             "#7201a8"
            ],
            [
             0.3333333333333333,
             "#9c179e"
            ],
            [
             0.4444444444444444,
             "#bd3786"
            ],
            [
             0.5555555555555556,
             "#d8576b"
            ],
            [
             0.6666666666666666,
             "#ed7953"
            ],
            [
             0.7777777777777778,
             "#fb9f3a"
            ],
            [
             0.8888888888888888,
             "#fdca26"
            ],
            [
             1,
             "#f0f921"
            ]
           ],
           "sequentialminus": [
            [
             0,
             "#0d0887"
            ],
            [
             0.1111111111111111,
             "#46039f"
            ],
            [
             0.2222222222222222,
             "#7201a8"
            ],
            [
             0.3333333333333333,
             "#9c179e"
            ],
            [
             0.4444444444444444,
             "#bd3786"
            ],
            [
             0.5555555555555556,
             "#d8576b"
            ],
            [
             0.6666666666666666,
             "#ed7953"
            ],
            [
             0.7777777777777778,
             "#fb9f3a"
            ],
            [
             0.8888888888888888,
             "#fdca26"
            ],
            [
             1,
             "#f0f921"
            ]
           ]
          },
          "colorway": [
           "#636efa",
           "#EF553B",
           "#00cc96",
           "#ab63fa",
           "#FFA15A",
           "#19d3f3",
           "#FF6692",
           "#B6E880",
           "#FF97FF",
           "#FECB52"
          ],
          "font": {
           "color": "#2a3f5f"
          },
          "geo": {
           "bgcolor": "white",
           "lakecolor": "white",
           "landcolor": "#E5ECF6",
           "showlakes": true,
           "showland": true,
           "subunitcolor": "white"
          },
          "hoverlabel": {
           "align": "left"
          },
          "hovermode": "closest",
          "mapbox": {
           "style": "light"
          },
          "paper_bgcolor": "white",
          "plot_bgcolor": "#E5ECF6",
          "polar": {
           "angularaxis": {
            "gridcolor": "white",
            "linecolor": "white",
            "ticks": ""
           },
           "bgcolor": "#E5ECF6",
           "radialaxis": {
            "gridcolor": "white",
            "linecolor": "white",
            "ticks": ""
           }
          },
          "scene": {
           "xaxis": {
            "backgroundcolor": "#E5ECF6",
            "gridcolor": "white",
            "gridwidth": 2,
            "linecolor": "white",
            "showbackground": true,
            "ticks": "",
            "zerolinecolor": "white"
           },
           "yaxis": {
            "backgroundcolor": "#E5ECF6",
            "gridcolor": "white",
            "gridwidth": 2,
            "linecolor": "white",
            "showbackground": true,
            "ticks": "",
            "zerolinecolor": "white"
           },
           "zaxis": {
            "backgroundcolor": "#E5ECF6",
            "gridcolor": "white",
            "gridwidth": 2,
            "linecolor": "white",
            "showbackground": true,
            "ticks": "",
            "zerolinecolor": "white"
           }
          },
          "shapedefaults": {
           "line": {
            "color": "#2a3f5f"
           }
          },
          "ternary": {
           "aaxis": {
            "gridcolor": "white",
            "linecolor": "white",
            "ticks": ""
           },
           "baxis": {
            "gridcolor": "white",
            "linecolor": "white",
            "ticks": ""
           },
           "bgcolor": "#E5ECF6",
           "caxis": {
            "gridcolor": "white",
            "linecolor": "white",
            "ticks": ""
           }
          },
          "title": {
           "x": 0.05
          },
          "xaxis": {
           "automargin": true,
           "gridcolor": "white",
           "linecolor": "white",
           "ticks": "",
           "title": {
            "standoff": 15
           },
           "zerolinecolor": "white",
           "zerolinewidth": 2
          },
          "yaxis": {
           "automargin": true,
           "gridcolor": "white",
           "linecolor": "white",
           "ticks": "",
           "title": {
            "standoff": 15
           },
           "zerolinecolor": "white",
           "zerolinewidth": 2
          }
         }
        },
        "title": {
         "text": "Validation Loss and training loss for GRU models with different batch size and layer size of 128",
         "x": 0.5
        },
        "xaxis": {
         "anchor": "y",
         "domain": [
          0,
          1
         ],
         "title": {
          "text": "Epoch"
         }
        },
        "yaxis": {
         "anchor": "x",
         "domain": [
          0,
          1
         ],
         "title": {
          "text": "Loss"
         }
        }
       }
      }
     },
     "metadata": {},
     "output_type": "display_data"
    }
   ],
   "source": [
    "import plotly.express as px\n",
    "fig = px.line(x=range(0, len(history_128_GRU_128['val_loss'])), y=[history_128_GRU_128['val_loss'], history_128_GRU_64['val_loss'], history_128_GRU_32['val_loss'], history_128_GRU_128['loss'], history_128_GRU_64['loss'], history_128_GRU_32['loss']])\n",
    "fig.data[0].name = \"batch size 128 validation loss value\"\n",
    "fig.data[1].name = \"batch size 64 validation loss value\"\n",
    "fig.data[2].name = \"batch size 32 validation loss value\"\n",
    "fig.data[3].name = \"batch size 128 training loss value\"\n",
    "fig.data[4].name = \"batch size 64 training loss value\"\n",
    "fig.data[5].name = \"batch size 32 training loss value\"\n",
    "fig.layout.title.text = \"Validation Loss and training loss for GRU models with different batch size and layer size of 128\"\n",
    "fig.layout.title.x = .5\n",
    "fig.layout.yaxis.title.text = \"Loss\"\n",
    "fig.layout.xaxis.title.text = \"Epoch\"\n",
    "\n",
    "fig.show()"
   ]
  },
  {
   "attachments": {},
   "cell_type": "markdown",
   "metadata": {},
   "source": [
    "As visible in the above graph while training loss tends to decrease validation loss start increasing gradually after epoch 20 which leads us to consider this an overfitting example.\n",
    "\n",
    "For a final evaluation we will plot the best model of each layer size based on their validation loss."
   ]
  },
  {
   "cell_type": "code",
   "execution_count": 294,
   "metadata": {},
   "outputs": [
    {
     "data": {
      "application/vnd.plotly.v1+json": {
       "config": {
        "plotlyServerURL": "https://plot.ly"
       },
       "data": [
        {
         "hovertemplate": "variable=wide_variable_0<br>x=%{x}<br>value=%{y}<extra></extra>",
         "legendgroup": "wide_variable_0",
         "line": {
          "color": "#636efa",
          "dash": "solid"
         },
         "marker": {
          "symbol": "circle"
         },
         "mode": "lines",
         "name": "layer size 128 batch size 128 validation loss value",
         "orientation": "v",
         "showlegend": true,
         "type": "scatter",
         "x": [
          0,
          1,
          2,
          3,
          4,
          5,
          6,
          7,
          8,
          9,
          10,
          11,
          12,
          13,
          14,
          15,
          16,
          17,
          18,
          19,
          20,
          21,
          22,
          23,
          24,
          25,
          26,
          27,
          28,
          29,
          30,
          31,
          32,
          33,
          34,
          35,
          36,
          37,
          38,
          39,
          40,
          41,
          42,
          43,
          44,
          45,
          46,
          47,
          48,
          49,
          50,
          51,
          52,
          53,
          54,
          55,
          56,
          57,
          58,
          59,
          60,
          61,
          62,
          63,
          64,
          65,
          66,
          67,
          68,
          69,
          70,
          71,
          72,
          73,
          74,
          75,
          76,
          77,
          78,
          79,
          80,
          81,
          82,
          83,
          84,
          85,
          86,
          87,
          88,
          89,
          90,
          91,
          92,
          93,
          94,
          95,
          96,
          97,
          98,
          99
         ],
         "xaxis": "x",
         "y": [
          0.6640302538871765,
          0.555217981338501,
          0.4816737771034241,
          0.4670087695121765,
          0.4147312045097351,
          0.4096522927284241,
          0.40294313430786133,
          0.3863295614719391,
          0.3919302821159363,
          0.3744642734527588,
          0.3690944314002991,
          0.3657296299934387,
          0.36797353625297546,
          0.3600999712944031,
          0.35305240750312805,
          0.35280171036720276,
          0.35276398062705994,
          0.3641628324985504,
          0.35092693567276,
          0.34119299054145813,
          0.37587594985961914,
          0.34810569882392883,
          0.3448448181152344,
          0.3538113832473755,
          0.33909839391708374,
          0.33265408873558044,
          0.3332684338092804,
          0.34163522720336914,
          0.34562963247299194,
          0.3286356031894684,
          0.32896971702575684,
          0.33435603976249695,
          0.33092033863067627,
          0.33131107687950134,
          0.3262880742549896,
          0.3286125361919403,
          0.32545119524002075,
          0.3281685411930084,
          0.3351270854473114,
          0.33302074670791626,
          0.3397737741470337,
          0.3271055817604065,
          0.33195698261260986,
          0.3311687409877777,
          0.3307362496852875,
          0.32760709524154663,
          0.32618579268455505,
          0.32586461305618286,
          0.3289898931980133,
          0.34171220660209656,
          0.3361375629901886,
          0.3287429213523865,
          0.3323885500431061,
          0.33327868580818176,
          0.3662108778953552,
          0.3328535258769989,
          0.34430235624313354,
          0.3443964123725891,
          0.3383840322494507,
          0.3430540859699249,
          0.3388926088809967,
          0.3427489697933197,
          0.3542928695678711,
          0.35083022713661194,
          0.3429352343082428,
          0.3426576256752014,
          0.3569892644882202,
          0.3627197742462158,
          0.36301517486572266,
          0.3600652515888214,
          0.4025537967681885,
          0.3530946969985962,
          0.3497176468372345,
          0.37315285205841064,
          0.3580358028411865,
          0.35847100615501404,
          0.37846705317497253,
          0.36902400851249695,
          0.3652636408805847,
          0.3710908591747284,
          0.39229071140289307,
          0.3785855770111084,
          0.38197028636932373,
          0.38862839341163635,
          0.38498032093048096,
          0.40041667222976685,
          0.39381876587867737,
          0.3931272029876709,
          0.39455446600914,
          0.4124309718608856,
          0.4048716127872467,
          0.40587908029556274,
          0.39955708384513855,
          0.40844544768333435,
          0.4152906835079193,
          0.42344656586647034,
          0.47363385558128357,
          0.5006798505783081,
          0.43366745114326477,
          0.436612069606781
         ],
         "yaxis": "y"
        },
        {
         "hovertemplate": "variable=wide_variable_1<br>x=%{x}<br>value=%{y}<extra></extra>",
         "legendgroup": "wide_variable_1",
         "line": {
          "color": "#EF553B",
          "dash": "solid"
         },
         "marker": {
          "symbol": "circle"
         },
         "mode": "lines",
         "name": "layer size 64 batch size 128 validation loss value",
         "orientation": "v",
         "showlegend": true,
         "type": "scatter",
         "x": [
          0,
          1,
          2,
          3,
          4,
          5,
          6,
          7,
          8,
          9,
          10,
          11,
          12,
          13,
          14,
          15,
          16,
          17,
          18,
          19,
          20,
          21,
          22,
          23,
          24,
          25,
          26,
          27,
          28,
          29,
          30,
          31,
          32,
          33,
          34,
          35,
          36,
          37,
          38,
          39,
          40,
          41,
          42,
          43,
          44,
          45,
          46,
          47,
          48,
          49,
          50,
          51,
          52,
          53,
          54,
          55,
          56,
          57,
          58,
          59,
          60,
          61,
          62,
          63,
          64,
          65,
          66,
          67,
          68,
          69,
          70,
          71,
          72,
          73,
          74,
          75,
          76,
          77,
          78,
          79,
          80,
          81,
          82,
          83,
          84,
          85,
          86,
          87,
          88,
          89,
          90,
          91,
          92,
          93,
          94,
          95,
          96,
          97,
          98,
          99
         ],
         "xaxis": "x",
         "y": [
          0.6768356561660767,
          0.6360131502151489,
          0.5391632318496704,
          0.5058500170707703,
          0.4844554662704468,
          0.46659496426582336,
          0.4582809805870056,
          0.43859758973121643,
          0.4072062373161316,
          0.40139099955558777,
          0.3908524513244629,
          0.3855930268764496,
          0.3836655020713806,
          0.3821241557598114,
          0.3752550482749939,
          0.3722899258136749,
          0.37670019268989563,
          0.38042178750038147,
          0.365243136882782,
          0.3622584939002991,
          0.36299774050712585,
          0.3636060655117035,
          0.36603879928588867,
          0.3584848940372467,
          0.35420408844947815,
          0.3556881844997406,
          0.3521331548690796,
          0.3504141569137573,
          0.35319724678993225,
          0.35146647691726685,
          0.3571321964263916,
          0.35158470273017883,
          0.3448778986930847,
          0.3536783456802368,
          0.3444974422454834,
          0.34270793199539185,
          0.34261399507522583,
          0.34125351905822754,
          0.34288489818573,
          0.3469862639904022,
          0.34851139783859253,
          0.3407191038131714,
          0.3383021354675293,
          0.33794668316841125,
          0.3376680016517639,
          0.35794636607170105,
          0.339858740568161,
          0.3403179347515106,
          0.354653537273407,
          0.3378102779388428,
          0.3414241075515747,
          0.3446439802646637,
          0.34888190031051636,
          0.33729252219200134,
          0.33513376116752625,
          0.3357146084308624,
          0.34035980701446533,
          0.3458828330039978,
          0.336050420999527,
          0.33982235193252563,
          0.3354766070842743,
          0.35072827339172363,
          0.33632907271385193,
          0.33756089210510254,
          0.33639273047447205,
          0.33731698989868164,
          0.33643224835395813,
          0.3401057720184326,
          0.3365629017353058,
          0.34024637937545776,
          0.3490583598613739,
          0.33727750182151794,
          0.3378926217556,
          0.33749955892562866,
          0.33936598896980286,
          0.3367047905921936,
          0.3401651680469513,
          0.3427831828594208,
          0.33856672048568726,
          0.3387535810470581,
          0.34843873977661133,
          0.34544244408607483,
          0.3434262275695801,
          0.3405008912086487,
          0.33846330642700195,
          0.3482320010662079,
          0.340483158826828,
          0.3465897738933563,
          0.3410499095916748,
          0.34551486372947693,
          0.3453390598297119,
          0.34098026156425476,
          0.3534179925918579,
          0.3472636640071869,
          0.3458881080150604,
          0.3499624729156494,
          0.35236266255378723,
          0.34722599387168884,
          0.36270973086357117,
          0.3551709055900574
         ],
         "yaxis": "y"
        },
        {
         "hovertemplate": "variable=wide_variable_2<br>x=%{x}<br>value=%{y}<extra></extra>",
         "legendgroup": "wide_variable_2",
         "line": {
          "color": "#00cc96",
          "dash": "solid"
         },
         "marker": {
          "symbol": "circle"
         },
         "mode": "lines",
         "name": "layer size 32 batch size 128 validation loss value",
         "orientation": "v",
         "showlegend": true,
         "type": "scatter",
         "x": [
          0,
          1,
          2,
          3,
          4,
          5,
          6,
          7,
          8,
          9,
          10,
          11,
          12,
          13,
          14,
          15,
          16,
          17,
          18,
          19,
          20,
          21,
          22,
          23,
          24,
          25,
          26,
          27,
          28,
          29,
          30,
          31,
          32,
          33,
          34,
          35,
          36,
          37,
          38,
          39,
          40,
          41,
          42,
          43,
          44,
          45,
          46,
          47,
          48,
          49,
          50,
          51,
          52,
          53,
          54,
          55,
          56,
          57,
          58,
          59,
          60,
          61,
          62,
          63,
          64,
          65,
          66,
          67,
          68,
          69,
          70,
          71,
          72,
          73,
          74,
          75,
          76,
          77,
          78,
          79,
          80,
          81,
          82,
          83,
          84,
          85,
          86,
          87,
          88,
          89,
          90,
          91,
          92,
          93,
          94,
          95,
          96,
          97,
          98,
          99
         ],
         "xaxis": "x",
         "y": [
          0.6862263083457947,
          0.6739713549613953,
          0.6562281847000122,
          0.6006188988685608,
          0.5164749622344971,
          0.5013819336891174,
          0.47775036096572876,
          0.4648450016975403,
          0.44982460141181946,
          0.4278559386730194,
          0.4137927293777466,
          0.4065324068069458,
          0.40072888135910034,
          0.3961659073829651,
          0.39587610960006714,
          0.3880406618118286,
          0.3878743648529053,
          0.3808687925338745,
          0.38018763065338135,
          0.3769136965274811,
          0.3763321340084076,
          0.3711032569408417,
          0.370755672454834,
          0.36680036783218384,
          0.3669848144054413,
          0.363483190536499,
          0.3620665371417999,
          0.3628160357475281,
          0.3582780659198761,
          0.3590052127838135,
          0.3555695116519928,
          0.35561323165893555,
          0.35371485352516174,
          0.35229361057281494,
          0.3511669635772705,
          0.35209694504737854,
          0.34902819991111755,
          0.35142621397972107,
          0.34727874398231506,
          0.3461016118526459,
          0.34961482882499695,
          0.34780657291412354,
          0.35368356108665466,
          0.3437398672103882,
          0.3434081971645355,
          0.3421570360660553,
          0.34536099433898926,
          0.3486952483654022,
          0.3430064916610718,
          0.3409246504306793,
          0.34269264340400696,
          0.3411923348903656,
          0.34346845746040344,
          0.3387003242969513,
          0.34057289361953735,
          0.3392990827560425,
          0.33693578839302063,
          0.3469817340373993,
          0.33725982904434204,
          0.34102463722229004,
          0.3435308039188385,
          0.3399488925933838,
          0.3361676037311554,
          0.33495283126831055,
          0.3387703001499176,
          0.33563992381095886,
          0.3352259695529938,
          0.33453330397605896,
          0.34150660037994385,
          0.3368477523326874,
          0.3459046483039856,
          0.33357951045036316,
          0.3333587944507599,
          0.33354485034942627,
          0.3329904079437256,
          0.3342539072036743,
          0.34030628204345703,
          0.333660364151001,
          0.3333110213279724,
          0.33265089988708496,
          0.33262959122657776,
          0.33324888348579407,
          0.3326863944530487,
          0.33223071694374084,
          0.3360561430454254,
          0.3319780230522156,
          0.3328746259212494,
          0.3365061283111572,
          0.33564624190330505,
          0.3392461836338043,
          0.3378424346446991,
          0.3418690860271454,
          0.33394506573677063,
          0.33737677335739136,
          0.330460786819458,
          0.3315924406051636,
          0.3332379460334778,
          0.33242279291152954,
          0.34221208095550537,
          0.3305068016052246
         ],
         "yaxis": "y"
        },
        {
         "hovertemplate": "variable=wide_variable_3<br>x=%{x}<br>value=%{y}<extra></extra>",
         "legendgroup": "wide_variable_3",
         "line": {
          "color": "#ab63fa",
          "dash": "solid"
         },
         "marker": {
          "symbol": "circle"
         },
         "mode": "lines",
         "name": "layer size 128 batch size 128 validation accuracy value",
         "orientation": "v",
         "showlegend": true,
         "type": "scatter",
         "x": [
          0,
          1,
          2,
          3,
          4,
          5,
          6,
          7,
          8,
          9,
          10,
          11,
          12,
          13,
          14,
          15,
          16,
          17,
          18,
          19,
          20,
          21,
          22,
          23,
          24,
          25,
          26,
          27,
          28,
          29,
          30,
          31,
          32,
          33,
          34,
          35,
          36,
          37,
          38,
          39,
          40,
          41,
          42,
          43,
          44,
          45,
          46,
          47,
          48,
          49,
          50,
          51,
          52,
          53,
          54,
          55,
          56,
          57,
          58,
          59,
          60,
          61,
          62,
          63,
          64,
          65,
          66,
          67,
          68,
          69,
          70,
          71,
          72,
          73,
          74,
          75,
          76,
          77,
          78,
          79,
          80,
          81,
          82,
          83,
          84,
          85,
          86,
          87,
          88,
          89,
          90,
          91,
          92,
          93,
          94,
          95,
          96,
          97,
          98,
          99
         ],
         "xaxis": "x",
         "y": [
          0.5977500081062317,
          0.7077500224113464,
          0.7643749713897705,
          0.7751250267028809,
          0.8062499761581421,
          0.8073750138282776,
          0.812125027179718,
          0.8238750100135803,
          0.8212500214576721,
          0.8274999856948853,
          0.8308749794960022,
          0.8343750238418579,
          0.8348749876022339,
          0.8376250267028809,
          0.8396250009536743,
          0.8412500023841858,
          0.843999981880188,
          0.8355000019073486,
          0.843500018119812,
          0.847000002861023,
          0.8306249976158142,
          0.8443750143051147,
          0.8463749885559082,
          0.843999981880188,
          0.8476250171661377,
          0.8527500033378601,
          0.8522499799728394,
          0.8504999876022339,
          0.8485000133514404,
          0.856124997138977,
          0.8550000190734863,
          0.8533750176429749,
          0.8573750257492065,
          0.856374979019165,
          0.8573750257492065,
          0.8547499775886536,
          0.8576250076293945,
          0.8553749918937683,
          0.8527500033378601,
          0.8552500009536743,
          0.8522499799728394,
          0.859000027179718,
          0.8568750023841858,
          0.8569999933242798,
          0.8543750047683716,
          0.8583750128746033,
          0.8604999780654907,
          0.859749972820282,
          0.8565000295639038,
          0.8575000166893005,
          0.8547499775886536,
          0.8618749976158142,
          0.862500011920929,
          0.8568750023841858,
          0.8493750095367432,
          0.8600000143051147,
          0.8585000038146973,
          0.859749972820282,
          0.8598750233650208,
          0.8629999756813049,
          0.8601250052452087,
          0.8567500114440918,
          0.8576250076293945,
          0.8543750047683716,
          0.8617500066757202,
          0.8603749871253967,
          0.8601250052452087,
          0.8511250019073486,
          0.8531249761581421,
          0.8503749966621399,
          0.8477500081062317,
          0.8601250052452087,
          0.8569999933242798,
          0.8583750128746033,
          0.859000027179718,
          0.8617500066757202,
          0.8565000295639038,
          0.8546249866485596,
          0.8588749766349792,
          0.8587499856948853,
          0.856124997138977,
          0.8618749976158142,
          0.8523749709129333,
          0.8611249923706055,
          0.859624981880188,
          0.8576250076293945,
          0.8547499775886536,
          0.8575000166893005,
          0.8610000014305115,
          0.8553749918937683,
          0.859499990940094,
          0.8602499961853027,
          0.859250009059906,
          0.8608750104904175,
          0.8581249713897705,
          0.8512499928474426,
          0.8385000228881836,
          0.8289999961853027,
          0.8582500219345093,
          0.8554999828338623
         ],
         "yaxis": "y"
        },
        {
         "hovertemplate": "variable=wide_variable_4<br>x=%{x}<br>value=%{y}<extra></extra>",
         "legendgroup": "wide_variable_4",
         "line": {
          "color": "#FFA15A",
          "dash": "solid"
         },
         "marker": {
          "symbol": "circle"
         },
         "mode": "lines",
         "name": "layer size 64 batch size 128 validation accuracy value",
         "orientation": "v",
         "showlegend": true,
         "type": "scatter",
         "x": [
          0,
          1,
          2,
          3,
          4,
          5,
          6,
          7,
          8,
          9,
          10,
          11,
          12,
          13,
          14,
          15,
          16,
          17,
          18,
          19,
          20,
          21,
          22,
          23,
          24,
          25,
          26,
          27,
          28,
          29,
          30,
          31,
          32,
          33,
          34,
          35,
          36,
          37,
          38,
          39,
          40,
          41,
          42,
          43,
          44,
          45,
          46,
          47,
          48,
          49,
          50,
          51,
          52,
          53,
          54,
          55,
          56,
          57,
          58,
          59,
          60,
          61,
          62,
          63,
          64,
          65,
          66,
          67,
          68,
          69,
          70,
          71,
          72,
          73,
          74,
          75,
          76,
          77,
          78,
          79,
          80,
          81,
          82,
          83,
          84,
          85,
          86,
          87,
          88,
          89,
          90,
          91,
          92,
          93,
          94,
          95,
          96,
          97,
          98,
          99
         ],
         "xaxis": "x",
         "y": [
          0.5732499957084656,
          0.6341249942779541,
          0.7202500104904175,
          0.7441250085830688,
          0.7558749914169312,
          0.7698749899864197,
          0.7737500071525574,
          0.7893750071525574,
          0.812250018119812,
          0.8138750195503235,
          0.8206250071525574,
          0.8230000138282776,
          0.8230000138282776,
          0.8247500061988831,
          0.8263750076293945,
          0.8273749947547913,
          0.825124979019165,
          0.8264999985694885,
          0.8352500200271606,
          0.8341249823570251,
          0.8339999914169312,
          0.8335000276565552,
          0.8323749899864197,
          0.8348749876022339,
          0.8383749723434448,
          0.8386250138282776,
          0.8381249904632568,
          0.8417500257492065,
          0.8399999737739563,
          0.8414999842643738,
          0.8391249775886536,
          0.8421249985694885,
          0.8463749885559082,
          0.8420000076293945,
          0.8466249704360962,
          0.8478749990463257,
          0.8466249704360962,
          0.8493750095367432,
          0.8452500104904175,
          0.8443750143051147,
          0.843999981880188,
          0.8479999899864197,
          0.8508750200271606,
          0.8504999876022339,
          0.8502500057220459,
          0.8432499766349792,
          0.8473749756813049,
          0.8477500081062317,
          0.8391249775886536,
          0.8479999899864197,
          0.8498749732971191,
          0.8487499952316284,
          0.8476250171661377,
          0.8504999876022339,
          0.8512499928474426,
          0.8501250147819519,
          0.8517500162124634,
          0.844124972820282,
          0.8521249890327454,
          0.8525000214576721,
          0.8522499799728394,
          0.8485000133514404,
          0.8511250019073486,
          0.8533750176429749,
          0.8511250019073486,
          0.8500000238418579,
          0.8529999852180481,
          0.8531249761581421,
          0.8514999747276306,
          0.8487499952316284,
          0.8514999747276306,
          0.8514999747276306,
          0.8544999957084656,
          0.8532500267028809,
          0.8510000109672546,
          0.8537499904632568,
          0.8548750281333923,
          0.8541250228881836,
          0.8551250100135803,
          0.8546249866485596,
          0.8463749885559082,
          0.8486250042915344,
          0.8502500057220459,
          0.8521249890327454,
          0.8552500009536743,
          0.846875011920929,
          0.8537499904632568,
          0.8491250276565552,
          0.8541250228881836,
          0.8539999723434448,
          0.8554999828338623,
          0.8531249761581421,
          0.8527500033378601,
          0.8488749861717224,
          0.8516250252723694,
          0.8495000004768372,
          0.8535000085830688,
          0.8538749814033508,
          0.8519999980926514,
          0.8543750047683716
         ],
         "yaxis": "y"
        },
        {
         "hovertemplate": "variable=wide_variable_5<br>x=%{x}<br>value=%{y}<extra></extra>",
         "legendgroup": "wide_variable_5",
         "line": {
          "color": "#19d3f3",
          "dash": "solid"
         },
         "marker": {
          "symbol": "circle"
         },
         "mode": "lines",
         "name": "layer size 32 batch size 128 validation accuracy value",
         "orientation": "v",
         "showlegend": true,
         "type": "scatter",
         "x": [
          0,
          1,
          2,
          3,
          4,
          5,
          6,
          7,
          8,
          9,
          10,
          11,
          12,
          13,
          14,
          15,
          16,
          17,
          18,
          19,
          20,
          21,
          22,
          23,
          24,
          25,
          26,
          27,
          28,
          29,
          30,
          31,
          32,
          33,
          34,
          35,
          36,
          37,
          38,
          39,
          40,
          41,
          42,
          43,
          44,
          45,
          46,
          47,
          48,
          49,
          50,
          51,
          52,
          53,
          54,
          55,
          56,
          57,
          58,
          59,
          60,
          61,
          62,
          63,
          64,
          65,
          66,
          67,
          68,
          69,
          70,
          71,
          72,
          73,
          74,
          75,
          76,
          77,
          78,
          79,
          80,
          81,
          82,
          83,
          84,
          85,
          86,
          87,
          88,
          89,
          90,
          91,
          92,
          93,
          94,
          95,
          96,
          97,
          98,
          99
         ],
         "xaxis": "x",
         "y": [
          0.5443750023841858,
          0.5734999775886536,
          0.6025000214576721,
          0.672124981880188,
          0.7363749742507935,
          0.7472500205039978,
          0.7616249918937683,
          0.7697499990463257,
          0.7825000286102295,
          0.7979999780654907,
          0.8068749904632568,
          0.8118749856948853,
          0.815625011920929,
          0.8149999976158142,
          0.8162500262260437,
          0.8197500109672546,
          0.8199999928474426,
          0.8238750100135803,
          0.8238750100135803,
          0.8256250023841858,
          0.8273749947547913,
          0.8317499756813049,
          0.8317499756813049,
          0.8331249952316284,
          0.8328750133514404,
          0.8364999890327454,
          0.8370000123977661,
          0.8358749747276306,
          0.8399999737739563,
          0.8392500281333923,
          0.8414999842643738,
          0.8422499895095825,
          0.8431249856948853,
          0.8460000157356262,
          0.8464999794960022,
          0.8443750143051147,
          0.8481249809265137,
          0.844124972820282,
          0.8486250042915344,
          0.8498749732971191,
          0.8456249833106995,
          0.8482499718666077,
          0.8416249752044678,
          0.8511250019073486,
          0.8497499823570251,
          0.8535000085830688,
          0.8485000133514404,
          0.8451250195503235,
          0.8517500162124634,
          0.8533750176429749,
          0.8511250019073486,
          0.8535000085830688,
          0.8512499928474426,
          0.8541250228881836,
          0.8537499904632568,
          0.8548750281333923,
          0.856124997138977,
          0.8471249938011169,
          0.8554999828338623,
          0.8537499904632568,
          0.8528749942779541,
          0.8529999852180481,
          0.8566250205039978,
          0.8579999804496765,
          0.8548750281333923,
          0.8575000166893005,
          0.856249988079071,
          0.8579999804496765,
          0.8519999980926514,
          0.8531249761581421,
          0.8492500185966492,
          0.8585000038146973,
          0.8579999804496765,
          0.859125018119812,
          0.8587499856948853,
          0.8554999828338623,
          0.856124997138977,
          0.859375,
          0.8576250076293945,
          0.8582500219345093,
          0.8575000166893005,
          0.8586249947547913,
          0.859624981880188,
          0.8600000143051147,
          0.8548750281333923,
          0.859250009059906,
          0.859250009059906,
          0.8560000061988831,
          0.859000027179718,
          0.8566250205039978,
          0.8528749942779541,
          0.8514999747276306,
          0.8582500219345093,
          0.8544999957084656,
          0.8578749895095825,
          0.8586249947547913,
          0.859624981880188,
          0.859000027179718,
          0.8551250100135803,
          0.8601250052452087
         ],
         "yaxis": "y"
        }
       ],
       "layout": {
        "legend": {
         "title": {
          "text": "variable"
         },
         "tracegroupgap": 0
        },
        "margin": {
         "t": 60
        },
        "template": {
         "data": {
          "bar": [
           {
            "error_x": {
             "color": "#2a3f5f"
            },
            "error_y": {
             "color": "#2a3f5f"
            },
            "marker": {
             "line": {
              "color": "#E5ECF6",
              "width": 0.5
             },
             "pattern": {
              "fillmode": "overlay",
              "size": 10,
              "solidity": 0.2
             }
            },
            "type": "bar"
           }
          ],
          "barpolar": [
           {
            "marker": {
             "line": {
              "color": "#E5ECF6",
              "width": 0.5
             },
             "pattern": {
              "fillmode": "overlay",
              "size": 10,
              "solidity": 0.2
             }
            },
            "type": "barpolar"
           }
          ],
          "carpet": [
           {
            "aaxis": {
             "endlinecolor": "#2a3f5f",
             "gridcolor": "white",
             "linecolor": "white",
             "minorgridcolor": "white",
             "startlinecolor": "#2a3f5f"
            },
            "baxis": {
             "endlinecolor": "#2a3f5f",
             "gridcolor": "white",
             "linecolor": "white",
             "minorgridcolor": "white",
             "startlinecolor": "#2a3f5f"
            },
            "type": "carpet"
           }
          ],
          "choropleth": [
           {
            "colorbar": {
             "outlinewidth": 0,
             "ticks": ""
            },
            "type": "choropleth"
           }
          ],
          "contour": [
           {
            "colorbar": {
             "outlinewidth": 0,
             "ticks": ""
            },
            "colorscale": [
             [
              0,
              "#0d0887"
             ],
             [
              0.1111111111111111,
              "#46039f"
             ],
             [
              0.2222222222222222,
              "#7201a8"
             ],
             [
              0.3333333333333333,
              "#9c179e"
             ],
             [
              0.4444444444444444,
              "#bd3786"
             ],
             [
              0.5555555555555556,
              "#d8576b"
             ],
             [
              0.6666666666666666,
              "#ed7953"
             ],
             [
              0.7777777777777778,
              "#fb9f3a"
             ],
             [
              0.8888888888888888,
              "#fdca26"
             ],
             [
              1,
              "#f0f921"
             ]
            ],
            "type": "contour"
           }
          ],
          "contourcarpet": [
           {
            "colorbar": {
             "outlinewidth": 0,
             "ticks": ""
            },
            "type": "contourcarpet"
           }
          ],
          "heatmap": [
           {
            "colorbar": {
             "outlinewidth": 0,
             "ticks": ""
            },
            "colorscale": [
             [
              0,
              "#0d0887"
             ],
             [
              0.1111111111111111,
              "#46039f"
             ],
             [
              0.2222222222222222,
              "#7201a8"
             ],
             [
              0.3333333333333333,
              "#9c179e"
             ],
             [
              0.4444444444444444,
              "#bd3786"
             ],
             [
              0.5555555555555556,
              "#d8576b"
             ],
             [
              0.6666666666666666,
              "#ed7953"
             ],
             [
              0.7777777777777778,
              "#fb9f3a"
             ],
             [
              0.8888888888888888,
              "#fdca26"
             ],
             [
              1,
              "#f0f921"
             ]
            ],
            "type": "heatmap"
           }
          ],
          "heatmapgl": [
           {
            "colorbar": {
             "outlinewidth": 0,
             "ticks": ""
            },
            "colorscale": [
             [
              0,
              "#0d0887"
             ],
             [
              0.1111111111111111,
              "#46039f"
             ],
             [
              0.2222222222222222,
              "#7201a8"
             ],
             [
              0.3333333333333333,
              "#9c179e"
             ],
             [
              0.4444444444444444,
              "#bd3786"
             ],
             [
              0.5555555555555556,
              "#d8576b"
             ],
             [
              0.6666666666666666,
              "#ed7953"
             ],
             [
              0.7777777777777778,
              "#fb9f3a"
             ],
             [
              0.8888888888888888,
              "#fdca26"
             ],
             [
              1,
              "#f0f921"
             ]
            ],
            "type": "heatmapgl"
           }
          ],
          "histogram": [
           {
            "marker": {
             "pattern": {
              "fillmode": "overlay",
              "size": 10,
              "solidity": 0.2
             }
            },
            "type": "histogram"
           }
          ],
          "histogram2d": [
           {
            "colorbar": {
             "outlinewidth": 0,
             "ticks": ""
            },
            "colorscale": [
             [
              0,
              "#0d0887"
             ],
             [
              0.1111111111111111,
              "#46039f"
             ],
             [
              0.2222222222222222,
              "#7201a8"
             ],
             [
              0.3333333333333333,
              "#9c179e"
             ],
             [
              0.4444444444444444,
              "#bd3786"
             ],
             [
              0.5555555555555556,
              "#d8576b"
             ],
             [
              0.6666666666666666,
              "#ed7953"
             ],
             [
              0.7777777777777778,
              "#fb9f3a"
             ],
             [
              0.8888888888888888,
              "#fdca26"
             ],
             [
              1,
              "#f0f921"
             ]
            ],
            "type": "histogram2d"
           }
          ],
          "histogram2dcontour": [
           {
            "colorbar": {
             "outlinewidth": 0,
             "ticks": ""
            },
            "colorscale": [
             [
              0,
              "#0d0887"
             ],
             [
              0.1111111111111111,
              "#46039f"
             ],
             [
              0.2222222222222222,
              "#7201a8"
             ],
             [
              0.3333333333333333,
              "#9c179e"
             ],
             [
              0.4444444444444444,
              "#bd3786"
             ],
             [
              0.5555555555555556,
              "#d8576b"
             ],
             [
              0.6666666666666666,
              "#ed7953"
             ],
             [
              0.7777777777777778,
              "#fb9f3a"
             ],
             [
              0.8888888888888888,
              "#fdca26"
             ],
             [
              1,
              "#f0f921"
             ]
            ],
            "type": "histogram2dcontour"
           }
          ],
          "mesh3d": [
           {
            "colorbar": {
             "outlinewidth": 0,
             "ticks": ""
            },
            "type": "mesh3d"
           }
          ],
          "parcoords": [
           {
            "line": {
             "colorbar": {
              "outlinewidth": 0,
              "ticks": ""
             }
            },
            "type": "parcoords"
           }
          ],
          "pie": [
           {
            "automargin": true,
            "type": "pie"
           }
          ],
          "scatter": [
           {
            "fillpattern": {
             "fillmode": "overlay",
             "size": 10,
             "solidity": 0.2
            },
            "type": "scatter"
           }
          ],
          "scatter3d": [
           {
            "line": {
             "colorbar": {
              "outlinewidth": 0,
              "ticks": ""
             }
            },
            "marker": {
             "colorbar": {
              "outlinewidth": 0,
              "ticks": ""
             }
            },
            "type": "scatter3d"
           }
          ],
          "scattercarpet": [
           {
            "marker": {
             "colorbar": {
              "outlinewidth": 0,
              "ticks": ""
             }
            },
            "type": "scattercarpet"
           }
          ],
          "scattergeo": [
           {
            "marker": {
             "colorbar": {
              "outlinewidth": 0,
              "ticks": ""
             }
            },
            "type": "scattergeo"
           }
          ],
          "scattergl": [
           {
            "marker": {
             "colorbar": {
              "outlinewidth": 0,
              "ticks": ""
             }
            },
            "type": "scattergl"
           }
          ],
          "scattermapbox": [
           {
            "marker": {
             "colorbar": {
              "outlinewidth": 0,
              "ticks": ""
             }
            },
            "type": "scattermapbox"
           }
          ],
          "scatterpolar": [
           {
            "marker": {
             "colorbar": {
              "outlinewidth": 0,
              "ticks": ""
             }
            },
            "type": "scatterpolar"
           }
          ],
          "scatterpolargl": [
           {
            "marker": {
             "colorbar": {
              "outlinewidth": 0,
              "ticks": ""
             }
            },
            "type": "scatterpolargl"
           }
          ],
          "scatterternary": [
           {
            "marker": {
             "colorbar": {
              "outlinewidth": 0,
              "ticks": ""
             }
            },
            "type": "scatterternary"
           }
          ],
          "surface": [
           {
            "colorbar": {
             "outlinewidth": 0,
             "ticks": ""
            },
            "colorscale": [
             [
              0,
              "#0d0887"
             ],
             [
              0.1111111111111111,
              "#46039f"
             ],
             [
              0.2222222222222222,
              "#7201a8"
             ],
             [
              0.3333333333333333,
              "#9c179e"
             ],
             [
              0.4444444444444444,
              "#bd3786"
             ],
             [
              0.5555555555555556,
              "#d8576b"
             ],
             [
              0.6666666666666666,
              "#ed7953"
             ],
             [
              0.7777777777777778,
              "#fb9f3a"
             ],
             [
              0.8888888888888888,
              "#fdca26"
             ],
             [
              1,
              "#f0f921"
             ]
            ],
            "type": "surface"
           }
          ],
          "table": [
           {
            "cells": {
             "fill": {
              "color": "#EBF0F8"
             },
             "line": {
              "color": "white"
             }
            },
            "header": {
             "fill": {
              "color": "#C8D4E3"
             },
             "line": {
              "color": "white"
             }
            },
            "type": "table"
           }
          ]
         },
         "layout": {
          "annotationdefaults": {
           "arrowcolor": "#2a3f5f",
           "arrowhead": 0,
           "arrowwidth": 1
          },
          "autotypenumbers": "strict",
          "coloraxis": {
           "colorbar": {
            "outlinewidth": 0,
            "ticks": ""
           }
          },
          "colorscale": {
           "diverging": [
            [
             0,
             "#8e0152"
            ],
            [
             0.1,
             "#c51b7d"
            ],
            [
             0.2,
             "#de77ae"
            ],
            [
             0.3,
             "#f1b6da"
            ],
            [
             0.4,
             "#fde0ef"
            ],
            [
             0.5,
             "#f7f7f7"
            ],
            [
             0.6,
             "#e6f5d0"
            ],
            [
             0.7,
             "#b8e186"
            ],
            [
             0.8,
             "#7fbc41"
            ],
            [
             0.9,
             "#4d9221"
            ],
            [
             1,
             "#276419"
            ]
           ],
           "sequential": [
            [
             0,
             "#0d0887"
            ],
            [
             0.1111111111111111,
             "#46039f"
            ],
            [
             0.2222222222222222,
             "#7201a8"
            ],
            [
             0.3333333333333333,
             "#9c179e"
            ],
            [
             0.4444444444444444,
             "#bd3786"
            ],
            [
             0.5555555555555556,
             "#d8576b"
            ],
            [
             0.6666666666666666,
             "#ed7953"
            ],
            [
             0.7777777777777778,
             "#fb9f3a"
            ],
            [
             0.8888888888888888,
             "#fdca26"
            ],
            [
             1,
             "#f0f921"
            ]
           ],
           "sequentialminus": [
            [
             0,
             "#0d0887"
            ],
            [
             0.1111111111111111,
             "#46039f"
            ],
            [
             0.2222222222222222,
             "#7201a8"
            ],
            [
             0.3333333333333333,
             "#9c179e"
            ],
            [
             0.4444444444444444,
             "#bd3786"
            ],
            [
             0.5555555555555556,
             "#d8576b"
            ],
            [
             0.6666666666666666,
             "#ed7953"
            ],
            [
             0.7777777777777778,
             "#fb9f3a"
            ],
            [
             0.8888888888888888,
             "#fdca26"
            ],
            [
             1,
             "#f0f921"
            ]
           ]
          },
          "colorway": [
           "#636efa",
           "#EF553B",
           "#00cc96",
           "#ab63fa",
           "#FFA15A",
           "#19d3f3",
           "#FF6692",
           "#B6E880",
           "#FF97FF",
           "#FECB52"
          ],
          "font": {
           "color": "#2a3f5f"
          },
          "geo": {
           "bgcolor": "white",
           "lakecolor": "white",
           "landcolor": "#E5ECF6",
           "showlakes": true,
           "showland": true,
           "subunitcolor": "white"
          },
          "hoverlabel": {
           "align": "left"
          },
          "hovermode": "closest",
          "mapbox": {
           "style": "light"
          },
          "paper_bgcolor": "white",
          "plot_bgcolor": "#E5ECF6",
          "polar": {
           "angularaxis": {
            "gridcolor": "white",
            "linecolor": "white",
            "ticks": ""
           },
           "bgcolor": "#E5ECF6",
           "radialaxis": {
            "gridcolor": "white",
            "linecolor": "white",
            "ticks": ""
           }
          },
          "scene": {
           "xaxis": {
            "backgroundcolor": "#E5ECF6",
            "gridcolor": "white",
            "gridwidth": 2,
            "linecolor": "white",
            "showbackground": true,
            "ticks": "",
            "zerolinecolor": "white"
           },
           "yaxis": {
            "backgroundcolor": "#E5ECF6",
            "gridcolor": "white",
            "gridwidth": 2,
            "linecolor": "white",
            "showbackground": true,
            "ticks": "",
            "zerolinecolor": "white"
           },
           "zaxis": {
            "backgroundcolor": "#E5ECF6",
            "gridcolor": "white",
            "gridwidth": 2,
            "linecolor": "white",
            "showbackground": true,
            "ticks": "",
            "zerolinecolor": "white"
           }
          },
          "shapedefaults": {
           "line": {
            "color": "#2a3f5f"
           }
          },
          "ternary": {
           "aaxis": {
            "gridcolor": "white",
            "linecolor": "white",
            "ticks": ""
           },
           "baxis": {
            "gridcolor": "white",
            "linecolor": "white",
            "ticks": ""
           },
           "bgcolor": "#E5ECF6",
           "caxis": {
            "gridcolor": "white",
            "linecolor": "white",
            "ticks": ""
           }
          },
          "title": {
           "x": 0.05
          },
          "xaxis": {
           "automargin": true,
           "gridcolor": "white",
           "linecolor": "white",
           "ticks": "",
           "title": {
            "standoff": 15
           },
           "zerolinecolor": "white",
           "zerolinewidth": 2
          },
          "yaxis": {
           "automargin": true,
           "gridcolor": "white",
           "linecolor": "white",
           "ticks": "",
           "title": {
            "standoff": 15
           },
           "zerolinecolor": "white",
           "zerolinewidth": 2
          }
         }
        },
        "title": {
         "text": "Validation Loss and Validation accuracy for GRU models with different layer size and batch size of 128",
         "x": 0.5
        },
        "xaxis": {
         "anchor": "y",
         "domain": [
          0,
          1
         ],
         "title": {
          "text": "Epoch"
         }
        },
        "yaxis": {
         "anchor": "x",
         "domain": [
          0,
          1
         ],
         "title": {
          "text": "Loss/accuracy"
         }
        }
       }
      }
     },
     "metadata": {},
     "output_type": "display_data"
    }
   ],
   "source": [
    "import plotly.express as px\n",
    "fig = px.line(x=range(0, len(history_128_GRU_128['val_loss'])), y=[history_128_GRU_128['val_loss'], history_64_GRU_128['val_loss'], history_32_GRU_128['val_loss'], history_128_GRU_128['val_accuracy'], history_64_GRU_128['val_accuracy'], history_32_GRU_128['val_accuracy']])\n",
    "fig.data[0].name = \"layer size 128 batch size 128 validation loss value\"\n",
    "fig.data[1].name = \"layer size 64 batch size 128 validation loss value\"\n",
    "fig.data[2].name = \"layer size 32 batch size 128 validation loss value\"\n",
    "fig.data[3].name = \"layer size 128 batch size 128 validation accuracy value\"\n",
    "fig.data[4].name = \"layer size 64 batch size 128 validation accuracy value\"\n",
    "fig.data[5].name = \"layer size 32 batch size 128 validation accuracy value\"\n",
    "fig.layout.title.text = \"Validation Loss and Validation accuracy for GRU models with different layer size and batch size of 128\"\n",
    "fig.layout.title.x = .5\n",
    "fig.layout.yaxis.title.text = \"Loss/accuracy\"\n",
    "fig.layout.xaxis.title.text = \"Epoch\"\n",
    "fig.show()"
   ]
  },
  {
   "attachments": {},
   "cell_type": "markdown",
   "metadata": {},
   "source": [
    "As we can see while accuracy is extremely similar the validation loss present a clear difference in favor of smaller networks."
   ]
  },
  {
   "attachments": {},
   "cell_type": "markdown",
   "metadata": {},
   "source": [
    "## Conclusion\n",
    "By empirical evidence we can assess that GRU perform better than LSTM.\n",
    "\n",
    "In this particular case we see how a lower number of neurons in the Dense and Recurring layers tend to converge more.\n",
    "\n",
    "A higher batch size seems to be preferable, especially in the case of higher number of neurons as it helps avoiding overfitting."
   ]
  }
 ],
 "metadata": {
  "kernelspec": {
   "display_name": "Python 3",
   "language": "python",
   "name": "python3"
  },
  "language_info": {
   "codemirror_mode": {
    "name": "ipython",
    "version": 3
   },
   "file_extension": ".py",
   "mimetype": "text/x-python",
   "name": "python",
   "nbconvert_exporter": "python",
   "pygments_lexer": "ipython3",
   "version": "3.10.8"
  },
  "orig_nbformat": 4,
  "vscode": {
   "interpreter": {
    "hash": "df4745f6b304c5698e2222d4733a2d48ef08482a93271b8d1cfa91fe376fbd67"
   }
  }
 },
 "nbformat": 4,
 "nbformat_minor": 2
}
