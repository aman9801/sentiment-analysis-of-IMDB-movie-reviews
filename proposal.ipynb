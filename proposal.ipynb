{
 "cells": [
  {
   "attachments": {},
   "cell_type": "markdown",
   "metadata": {},
   "source": [
    "We will utilize IMDB Dataset of 50K Movie Reviews (https://www.kaggle.com/datasets/lakshmi25npathi/imdb-dataset-of-50k-movie-reviews), to explore the effects on a sentiment analysis problem for different combinations of the following parameters: \n",
    " - type of recurrent neural network (LSTM vs GRU),\n",
    " - number of neurons per layer,\n",
    " - batch size.\n",
    "\n",
    "We will utilize a model composed as follows: \n",
    " - 3 recurrent layers (either LSTM or GRU),\n",
    " - 3 dense layer, \n",
    " - ReLU activation function with He initializer for the first 5 layers, \n",
    " - the output layer will utilize a sigmoid function for activation and will be initialized with Glorot,\n",
    " - the loss function will be binary crossentropy,\n",
    " - as optimizer we will utilize Adam (but time permitting we might try exploring different options),\n",
    " - we aim to train each model for 100 epochs but we reserve to lower this parameter for time/computational constraints or increase it if more training is required.\n",
    "\n",
    "We will take advantage of the preprocessing steps carried on in this article 'Python for NLP: Movie Sentiment Analysis using Deep Learning in Keras' (https://stackabuse.com/python-for-nlp-movie-sentiment-analysis-using-deep-learning-in-keras/) up to the generation of the embedding layer. This will allow us to focus on the tuning of our model rather then go through the time consuming efforts of analysis and pre-processing from the scratch."
   ]
  },
  {
   "cell_type": "markdown",
   "metadata": {},
   "source": []
  }
 ],
 "metadata": {
  "kernelspec": {
   "display_name": "base",
   "language": "python",
   "name": "python3"
  },
  "language_info": {
   "name": "python",
   "version": "3.9.13 (main, Aug 25 2022, 23:51:50) [MSC v.1916 64 bit (AMD64)]"
  },
  "orig_nbformat": 4,
  "vscode": {
   "interpreter": {
    "hash": "44979423c64de1cd6668264468e8255f45f62f657c2dbd36b07cec750f5d02a3"
   }
  }
 },
 "nbformat": 4,
 "nbformat_minor": 2
}
